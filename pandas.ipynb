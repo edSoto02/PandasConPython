{
 "cells": [
  {
   "cell_type": "markdown",
   "metadata": {},
   "source": [
    "<img src=\"pandas.png\" alt=\"Texto alternativo\" width=\"300\" style=\"display: block; margin: auto;\">"
   ]
  },
  {
   "cell_type": "markdown",
   "metadata": {},
   "source": [
    "#### Introducción a Pandas\n",
    "\n",
    "¿Qué es Pandas?\n",
    "- Pandas es una biblioteca de Python especializada en la manipulación y análisis de datos. Ofrece estructuras de datos eficientes para manejar grandes volúmenes de información y herramientas para limpieza, transformación y visualización de datos.\n",
    "- Pandas nos permite analizar big data y scar conclusiones basadas en teorías estadísticas.\n",
    "- Pandas puede limpiar conjuntos de datos desordenados y hacerlos legibles y relevantes. \n",
    "\n",
    "Ventajas de Pandas.\n",
    "- Permite trabajar con datos tabulares (similares a Excel o SQL)\n",
    "- Facilita la manipulación y limpieza de datos.\n",
    "- Compatible con otras Bibliotecas como NumPy y Matplotlib.\n",
    "- Soporta multiples formatos de datos (CSV, Excel, SQL, JSON)"
   ]
  },
  {
   "cell_type": "markdown",
   "metadata": {},
   "source": [
    "#### Instalción y uso de Pandas\n",
    "- Para instalar Pandas podemos usar el siguiente comando desde la terminal o desde una celda de Jupyer."
   ]
  },
  {
   "cell_type": "code",
   "execution_count": 4,
   "metadata": {},
   "outputs": [
    {
     "name": "stdout",
     "output_type": "stream",
     "text": [
      "Requirement already satisfied: pandas in c:\\python\\python311\\lib\\site-packages (2.2.1)Note: you may need to restart the kernel to use updated packages.\n"
     ]
    },
    {
     "name": "stderr",
     "output_type": "stream",
     "text": [
      "\n",
      "[notice] A new release of pip is available: 24.0 -> 25.0.1\n",
      "[notice] To update, run: python.exe -m pip install --upgrade pip\n"
     ]
    },
    {
     "name": "stdout",
     "output_type": "stream",
     "text": [
      "\n",
      "Requirement already satisfied: numpy<2,>=1.23.2 in c:\\python\\python311\\lib\\site-packages (from pandas) (1.26.3)\n",
      "Requirement already satisfied: python-dateutil>=2.8.2 in c:\\users\\lalo\\appdata\\roaming\\python\\python311\\site-packages (from pandas) (2.8.2)\n",
      "Requirement already satisfied: pytz>=2020.1 in c:\\python\\python311\\lib\\site-packages (from pandas) (2024.1)\n",
      "Requirement already satisfied: tzdata>=2022.7 in c:\\python\\python311\\lib\\site-packages (from pandas) (2024.1)\n",
      "Requirement already satisfied: six>=1.5 in c:\\users\\lalo\\appdata\\roaming\\python\\python311\\site-packages (from python-dateutil>=2.8.2->pandas) (1.16.0)\n"
     ]
    }
   ],
   "source": [
    "# Directo de la celda\n",
    "%pip install pandas\n",
    "#pip install pandas desde la termimal "
   ]
  },
  {
   "cell_type": "markdown",
   "metadata": {},
   "source": [
    "Podemos instalar mas de una Liberia juntas. Desde la consola\n",
    "pip install pandas numpy matplotlib seaborn"
   ]
  },
  {
   "cell_type": "markdown",
   "metadata": {},
   "source": [
    "Vamos a verificar la instalación."
   ]
  },
  {
   "cell_type": "code",
   "execution_count": 6,
   "metadata": {},
   "outputs": [
    {
     "name": "stdout",
     "output_type": "stream",
     "text": [
      "2.2.1\n"
     ]
    },
    {
     "name": "stderr",
     "output_type": "stream",
     "text": [
      "c:\\Python\\Python311\\Lib\\site-packages\\_distutils_hack\\__init__.py:33: UserWarning: Setuptools is replacing distutils.\n",
      "  warnings.warn(\"Setuptools is replacing distutils.\")\n"
     ]
    },
    {
     "name": "stdout",
     "output_type": "stream",
     "text": [
      "\n",
      "INSTALLED VERSIONS\n",
      "------------------\n",
      "commit                : bdc79c146c2e32f2cab629be240f01658cfb6cc2\n",
      "python                : 3.11.0.final.0\n",
      "python-bits           : 64\n",
      "OS                    : Windows\n",
      "OS-release            : 10\n",
      "Version               : 10.0.19045\n",
      "machine               : AMD64\n",
      "processor             : Intel64 Family 6 Model 78 Stepping 3, GenuineIntel\n",
      "byteorder             : little\n",
      "LC_ALL                : None\n",
      "LANG                  : None\n",
      "LOCALE                : Spanish_Mexico.1252\n",
      "\n",
      "pandas                : 2.2.1\n",
      "numpy                 : 1.26.3\n",
      "pytz                  : 2024.1\n",
      "dateutil              : 2.8.2\n",
      "setuptools            : 65.5.0\n",
      "pip                   : 24.0\n",
      "Cython                : None\n",
      "pytest                : None\n",
      "hypothesis            : None\n",
      "sphinx                : None\n",
      "blosc                 : None\n",
      "feather               : None\n",
      "xlsxwriter            : None\n",
      "lxml.etree            : 5.3.0\n",
      "html5lib              : None\n",
      "pymysql               : None\n",
      "psycopg2              : None\n",
      "jinja2                : 3.1.2\n",
      "IPython               : 8.6.0\n",
      "pandas_datareader     : None\n",
      "adbc-driver-postgresql: None\n",
      "adbc-driver-sqlite    : None\n",
      "bs4                   : 4.12.2\n",
      "bottleneck            : None\n",
      "dataframe-api-compat  : None\n",
      "fastparquet           : None\n",
      "fsspec                : 2023.12.2\n",
      "gcsfs                 : None\n",
      "matplotlib            : 3.6.3\n",
      "numba                 : None\n",
      "numexpr               : None\n",
      "odfpy                 : None\n",
      "openpyxl              : None\n",
      "pandas_gbq            : None\n",
      "pyarrow               : None\n",
      "pyreadstat            : None\n",
      "python-calamine       : None\n",
      "pyxlsb                : None\n",
      "s3fs                  : None\n",
      "scipy                 : 1.15.1\n",
      "sqlalchemy            : None\n",
      "tables                : None\n",
      "tabulate              : None\n",
      "xarray                : None\n",
      "xlrd                  : None\n",
      "zstandard             : None\n",
      "tzdata                : 2024.1\n",
      "qtpy                  : 2.3.1\n",
      "pyqt5                 : None\n"
     ]
    }
   ],
   "source": [
    "import pandas as pd\n",
    "print(pd.__version__)\n",
    "pd.show_versions()"
   ]
  },
  {
   "cell_type": "markdown",
   "metadata": {},
   "source": [
    "Estructuras de datos con Pandas.\n",
    "- Pandas trabaja principalmente con Series y DataFrames.\n",
    "\n",
    "Series.\n",
    "- Una serie es una estructura de datos similar a una lista, pero con etiquetas de índice."
   ]
  },
  {
   "cell_type": "code",
   "execution_count": 7,
   "metadata": {},
   "outputs": [
    {
     "name": "stdout",
     "output_type": "stream",
     "text": [
      "0    10\n",
      "1    20\n",
      "2    30\n",
      "3    40\n",
      "dtype: int64\n"
     ]
    }
   ],
   "source": [
    "import pandas as pd\n",
    "\n",
    "# Crear una Series con una lista\n",
    "datos = [10, 20, 30, 40]\n",
    "serie = pd.Series(datos)\n",
    "\n",
    "print(serie)"
   ]
  },
  {
   "cell_type": "code",
   "execution_count": 8,
   "metadata": {},
   "outputs": [
    {
     "name": "stdout",
     "output_type": "stream",
     "text": [
      "a    10\n",
      "b    20\n",
      "c    30\n",
      "d    40\n",
      "dtype: int64\n"
     ]
    }
   ],
   "source": [
    "serie = pd.Series([10, 20, 30, 40], index=[\"a\", \"b\", \"c\", \"d\"])\n",
    "print(serie)"
   ]
  },
  {
   "cell_type": "markdown",
   "metadata": {},
   "source": [
    "DataFrame (Tablas bidimensionales)\n",
    "- Un DataFrame es una estructura tabular similar a una hoja de cálculo de Excel o una tabla de SQL."
   ]
  },
  {
   "cell_type": "code",
   "execution_count": 9,
   "metadata": {},
   "outputs": [
    {
     "name": "stdout",
     "output_type": "stream",
     "text": [
      "   Nombre  Edad     Ciudad\n",
      "0     Ana    25     Madrid\n",
      "1    Luis    30  Barcelona\n",
      "2  Carlos    35   Valencia\n"
     ]
    }
   ],
   "source": [
    "# Crear un DataFrame a partir de un diccionario\n",
    "datos = {\n",
    "    \"Nombre\": [\"Ana\", \"Luis\", \"Carlos\"],\n",
    "    \"Edad\": [25, 30, 35],\n",
    "    \"Ciudad\": [\"Madrid\", \"Barcelona\", \"Valencia\"]\n",
    "}\n",
    "\n",
    "df = pd.DataFrame(datos)\n",
    "print(df)"
   ]
  },
  {
   "cell_type": "code",
   "execution_count": 11,
   "metadata": {},
   "outputs": [
    {
     "name": "stdout",
     "output_type": "stream",
     "text": [
      "\n",
      "Accedemos a una columna\n",
      "0       Ana\n",
      "1      Luis\n",
      "2    Carlos\n",
      "Name: Nombre, dtype: object\n",
      "\n",
      "Accedemos a una fila por indice\n",
      "Nombre         Luis\n",
      "Edad             30\n",
      "Ciudad    Barcelona\n",
      "Name: 1, dtype: object\n"
     ]
    }
   ],
   "source": [
    "print(\"\\nAccedemos a una columna\")\n",
    "print(df['Nombre'])\n",
    "\n",
    "print(\"\\nAccedemos a una fila por indice\")\n",
    "print(df.loc[1])"
   ]
  },
  {
   "cell_type": "markdown",
   "metadata": {},
   "source": [
    "Operaciones Básicas en Pandas.\n",
    "\n",
    "Creación de DataFrames y Series.\n",
    "- Ya vimos cómo crear Series y DataFrames, pero ahora exploraremos más formas de hacerlo.\n",
    "- Una Serie de  Pandas es como una columna en una tabla.\n",
    "- Es una matriz unidimensional que contiene datos de cualquier tipo.\n",
    "- Si no se especifica nada más, los valores se etiquetan con su número de índice. El primer valor tiene índice 0, el segundo tiene índice 1. \n",
    "\n",
    "Crear un DataFrame desde una lista de listas"
   ]
  },
  {
   "cell_type": "code",
   "execution_count": 13,
   "metadata": {},
   "outputs": [
    {
     "name": "stdout",
     "output_type": "stream",
     "text": [
      "   Nombre  Edad  Ciudad\n",
      "0     Ana    25  Mexico\n",
      "1    Luis    30  Canada\n",
      "2  Carlos    35    Cuba\n"
     ]
    }
   ],
   "source": [
    "import pandas as pd\n",
    "\n",
    "datos = [\n",
    "    [\"Ana\", 25, \"Mexico\"],\n",
    "    [\"Luis\", 30, \"Canada\"],\n",
    "    [\"Carlos\", 35, \"Cuba\"]\n",
    "]\n",
    "\n",
    "df = pd.DataFrame(datos, columns=[\"Nombre\", \"Edad\", \"Ciudad\"])\n",
    "print(df)"
   ]
  },
  {
   "cell_type": "markdown",
   "metadata": {},
   "source": [
    "Indexación y Selección de Datos.\n",
    "- Pandas ofrece múltiples fomras de acceder a los datos dentro de un DataFrame o Serie."
   ]
  },
  {
   "cell_type": "code",
   "execution_count": 14,
   "metadata": {},
   "outputs": [
    {
     "name": "stdout",
     "output_type": "stream",
     "text": [
      "\n",
      "Acceder a una columna\n",
      "0       Ana\n",
      "1      Luis\n",
      "2    Carlos\n",
      "Name: Nombre, dtype: object\n",
      "\n",
      "Acceder a una fila por indice\n",
      "Nombre      Luis\n",
      "Edad          30\n",
      "Ciudad    Canada\n",
      "Name: 1, dtype: object\n",
      "\n",
      "Acceder a una celda especifica\n",
      "30\n"
     ]
    }
   ],
   "source": [
    "print(\"\\nAcceder a una columna\")\n",
    "print(df[\"Nombre\"])\n",
    "\n",
    "print(\"\\nAcceder a una fila por indice\")\n",
    "print(df.loc[1])\n",
    "\n",
    "print(\"\\nAcceder a una celda especifica\")\n",
    "print(df.at[1, \"Edad\"])"
   ]
  },
  {
   "cell_type": "markdown",
   "metadata": {},
   "source": [
    "Filtrado de datos."
   ]
  },
  {
   "cell_type": "code",
   "execution_count": 19,
   "metadata": {},
   "outputs": [
    {
     "name": "stdout",
     "output_type": "stream",
     "text": [
      "\n",
      "Filtrar filas según la condición\n",
      "   Nombre  Edad  Ciudad\n",
      "1    Luis    31  Canada\n",
      "2  Carlos    36    Cuba\n",
      "\n",
      "Filtrar filas con múltiples condiciones\n",
      "  Nombre  Edad  Ciudad\n",
      "1   Luis    31  Canada\n"
     ]
    }
   ],
   "source": [
    "print(\"\\nFiltrar filas según la condición\")\n",
    "df_filtrado = df[df[\"Edad\"] > 28]\n",
    "print(df_filtrado)\n",
    "\n",
    "print(\"\\nFiltrar filas con múltiples condiciones\")\n",
    "df_filtrado = df[(df[\"Edad\"] > 25) & (df[\"Ciudad\"] == \"Canada\")]\n",
    "print(df_filtrado)"
   ]
  },
  {
   "cell_type": "markdown",
   "metadata": {},
   "source": [
    "Modificación de datos."
   ]
  },
  {
   "cell_type": "code",
   "execution_count": 20,
   "metadata": {},
   "outputs": [
    {
     "name": "stdout",
     "output_type": "stream",
     "text": [
      "\n",
      "Modificar valores de una columna.\n",
      "   Nombre  Edad  Ciudad\n",
      "0     Ana    27   Paris\n",
      "1    Luis    32  Canada\n",
      "2  Carlos    37    Cuba\n",
      "\n",
      "Modificar un valor especifico.\n",
      "   Nombre  Edad  Ciudad\n",
      "0     Ana    27   Paris\n",
      "1    Luis    32  Canada\n",
      "2  Carlos    37    Cuba\n"
     ]
    }
   ],
   "source": [
    "print(\"\\nModificar valores de una columna.\")\n",
    "df[\"Edad\"] = df[\"Edad\"] + 1\n",
    "print(df)\n",
    "\n",
    "print(\"\\nModificar un valor especifico.\")\n",
    "df.at[0, \"Ciudad\"] = \"Paris\"\n",
    "print(df)"
   ]
  },
  {
   "cell_type": "markdown",
   "metadata": {},
   "source": [
    "#### Manipulación y limpieza de Datos con Pandas\n",
    "- En este apartado aprenderemos a manejar valores nulos, eliminar duplicado, transformar datos y aplicar funciones para limpiar y preparar los datos antes del análisis."
   ]
  },
  {
   "cell_type": "markdown",
   "metadata": {},
   "source": [
    "Manejo de valores nulos.\n",
    "- En Pandas, los valores nulos se representan con NaN (Not a Number). Podemos encontrarlos y tratarlos de varias formas. "
   ]
  },
  {
   "cell_type": "code",
   "execution_count": 21,
   "metadata": {},
   "outputs": [
    {
     "name": "stdout",
     "output_type": "stream",
     "text": [
      "\n",
      "IDENTIFICANDO VALORES NULOS\n",
      "   Nombre  Edad     Ciudad\n",
      "0     Ana  25.0     Madrid\n",
      "1    Luis   NaN  Barcelona\n",
      "2  Carlos  35.0        NaN\n",
      "3     NaN  40.0    Sevilla\n",
      "\n",
      "Valores nulos por columna:\n",
      " Nombre    1\n",
      "Edad      1\n",
      "Ciudad    1\n",
      "dtype: int64\n"
     ]
    }
   ],
   "source": [
    "import pandas as pd\n",
    "import numpy as np\n",
    "\n",
    "print(\"\\nIDENTIFICANDO VALORES NULOS\")\n",
    "\n",
    "datos = {\n",
    "    \"Nombre\": [\"Ana\", \"Luis\", \"Carlos\", np.nan],\n",
    "    \"Edad\": [25, np.nan, 35, 40],\n",
    "    \"Ciudad\": [\"Madrid\", \"Barcelona\", np.nan, \"Sevilla\"]\n",
    "}\n",
    "\n",
    "df = pd.DataFrame(datos)\n",
    "print(df)\n",
    "print(\"\\nValores nulos por columna:\\n\", df.isnull().sum())\n"
   ]
  },
  {
   "cell_type": "code",
   "execution_count": 22,
   "metadata": {},
   "outputs": [
    {
     "name": "stdout",
     "output_type": "stream",
     "text": [
      "\n",
      "Eliminar valores nulos\n",
      "  Nombre  Edad  Ciudad\n",
      "0    Ana  25.0  Madrid\n",
      "\n",
      "Rellenar valores nulos\n",
      "        Nombre       Edad           Ciudad\n",
      "0          Ana  25.000000           Madrid\n",
      "1         Luis  33.333333        Barcelona\n",
      "2       Carlos  35.000000  No especificado\n",
      "3  Desconocido  40.000000          Sevilla\n"
     ]
    }
   ],
   "source": [
    "print(\"\\nEliminar valores nulos\")\n",
    "df_sin_nulos = df.dropna()  # Elimina las filas que contienen NaN\n",
    "print(df_sin_nulos)\n",
    "\n",
    "\n",
    "print(\"\\nRellenar valores nulos\")\n",
    "df_relleno = df.fillna({\"Nombre\": \"Desconocido\", \"Edad\": df[\"Edad\"].mean(), \"Ciudad\": \"No especificado\"})\n",
    "print(df_relleno)\n"
   ]
  },
  {
   "cell_type": "markdown",
   "metadata": {},
   "source": [
    "Eliminación de duplicados.\n",
    "- Podemos detectar y eliminar datos duplicados con estas funciones."
   ]
  },
  {
   "cell_type": "code",
   "execution_count": 25,
   "metadata": {},
   "outputs": [
    {
     "name": "stdout",
     "output_type": "stream",
     "text": [
      "\n",
      "Encontrando duplicados.\n",
      "0    False\n",
      "1    False\n",
      "2    False\n",
      "3     True\n",
      "dtype: bool\n",
      "\n",
      "Eliminando duplicados.\n",
      "  Nombre  Edad\n",
      "0    Ana    25\n",
      "1    Pao    30\n",
      "2   Lalo    35\n"
     ]
    }
   ],
   "source": [
    "print(\"\\nEncontrando duplicados.\")\n",
    "\n",
    "df = pd.DataFrame({\n",
    "    \"Nombre\": [\"Ana\",\"Pao\",\"Lalo\",\"Ana\"],\n",
    "    \"Edad\": [25,30,35,25]\n",
    "})\n",
    "print(df.duplicated())\n",
    "\n",
    "\n",
    "print(\"\\nEliminando duplicados.\")\n",
    "df_sin_dup = df.drop_duplicates()\n",
    "print(df_sin_dup)"
   ]
  },
  {
   "cell_type": "markdown",
   "metadata": {},
   "source": [
    "Eliminar filas con muchos valores nulos.\n",
    "- Si una fila tiene demasiados valores NaN, puede ser mejor eliminarla.\n",
    "\n",
    "Eliminar filas con más del 50% de valores nulos."
   ]
  },
  {
   "cell_type": "code",
   "execution_count": 26,
   "metadata": {},
   "outputs": [
    {
     "name": "stdout",
     "output_type": "stream",
     "text": [
      "  Nombre  Edad  Salario\n",
      "0    Ana  25.0   5000.0\n",
      "3  María  22.0   4800.0\n",
      "4  Sofía  22.0   5100.0\n"
     ]
    }
   ],
   "source": [
    "df = pd.DataFrame({\n",
    "    \"Nombre\": [\"Ana\", \"Luis\", np.nan, \"María\", \"Sofía\"],\n",
    "    \"Edad\": [25, np.nan, np.nan, 22, 22],\n",
    "    \"Salario\": [5000, np.nan, np.nan, 4800, 5100]\n",
    "})\n",
    "\n",
    "df_limpio = df.dropna(thresh=2)  # Al menos 2 valores no nulos\n",
    "print(df_limpio)\n"
   ]
  },
  {
   "cell_type": "markdown",
   "metadata": {},
   "source": [
    "Rellenar valores nulos de una columna basado en otra.\n",
    "- Podemos asignar valores faltantes basándonos en otra columna.\n",
    "\n",
    "Asignar la media de Salario según la Edad"
   ]
  },
  {
   "cell_type": "code",
   "execution_count": 27,
   "metadata": {},
   "outputs": [
    {
     "name": "stdout",
     "output_type": "stream",
     "text": [
      "  Nombre  Edad  Salario\n",
      "0    Ana  25.0   5000.0\n",
      "1   Luis   NaN      NaN\n",
      "2    NaN   NaN      NaN\n",
      "3  María  22.0   4800.0\n",
      "4  Sofía  22.0   5100.0\n"
     ]
    }
   ],
   "source": [
    "df[\"Salario\"] = df.groupby(\"Edad\")[\"Salario\"].transform(lambda x: x.fillna(x.mean()))\n",
    "print(df)"
   ]
  },
  {
   "cell_type": "markdown",
   "metadata": {},
   "source": [
    "Reemplazar valores nulos con datos externos.\n",
    "- Podemos usar un diccionario de valores predefinidos.\n",
    "\n",
    "Rellenar con valores específicos según la columna. "
   ]
  },
  {
   "cell_type": "code",
   "execution_count": 28,
   "metadata": {},
   "outputs": [
    {
     "name": "stdout",
     "output_type": "stream",
     "text": [
      "  Nombre  Edad  Salario\n",
      "0    Ana  25.0   5000.0\n",
      "1   Luis  30.0   4000.0\n",
      "2    NaN  30.0   4000.0\n",
      "3  María  22.0   4800.0\n",
      "4  Sofía  22.0   5100.0\n"
     ]
    }
   ],
   "source": [
    "df.fillna({\"Edad\": 30, \"Salario\": 4000}, inplace=True)\n",
    "print(df)"
   ]
  },
  {
   "cell_type": "markdown",
   "metadata": {},
   "source": [
    "Transformaciones y Operaciones Matemáticas\n",
    "- Pandas permite aplicar operaciones aritméticas y funciones sobre los datos de una DataFrame "
   ]
  },
  {
   "cell_type": "code",
   "execution_count": 26,
   "metadata": {},
   "outputs": [
    {
     "name": "stdout",
     "output_type": "stream",
     "text": [
      "\n",
      "Aplicando operaciones matemáticas a una columna.\n",
      "  Nombre  Edad\n",
      "0    Ana    26\n",
      "1    Pao    31\n",
      "2   Lalo    36\n",
      "3    Ana    26\n",
      "\n",
      "Aplicar una función a una columna.\n",
      "  Nombre  Edad Categoria_Edad\n",
      "0    Ana    26          Joven\n",
      "1    Pao    31         Adulto\n",
      "2   Lalo    36         Adulto\n",
      "3    Ana    26          Joven\n"
     ]
    }
   ],
   "source": [
    "print(\"\\nAplicando operaciones matemáticas a una columna.\")\n",
    "df[\"Edad\"] = df[\"Edad\"] + 1\n",
    "print(df)\n",
    "\n",
    "print(\"\\nAplicar una función a una columna.\")\n",
    "df[\"Categoria_Edad\"] = df[\"Edad\"].apply(lambda x: \"Joven\" if x < 30 else \"Adulto\")\n",
    "print(df)"
   ]
  },
  {
   "cell_type": "markdown",
   "metadata": {},
   "source": [
    "Aplicación de funciones personalizadas.\n",
    "- Podemos definir nuestras propias funciones y aplicarlas a un DataFrame."
   ]
  },
  {
   "cell_type": "code",
   "execution_count": 27,
   "metadata": {},
   "outputs": [
    {
     "name": "stdout",
     "output_type": "stream",
     "text": [
      "\n",
      "Convertir nombres a mayusculas.\n",
      "-------------------------------\n",
      "  Nombre  Edad Categoria_Edad\n",
      "0    ANA    26          Joven\n",
      "1    PAO    31         Adulto\n",
      "2   LALO    36         Adulto\n",
      "3    ANA    26          Joven\n"
     ]
    }
   ],
   "source": [
    "print(\"\\nConvertir nombres a mayusculas.\")\n",
    "print(\"-------------------------------\")\n",
    "df[\"Nombre\"] = df[\"Nombre\"].apply(lambda x: x.upper())\n",
    "print(df)"
   ]
  },
  {
   "cell_type": "markdown",
   "metadata": {},
   "source": [
    "#### Agrupación y Agregación de Datos en Pandas.\n",
    "- En este apartado aprenderemos a agrupar, resumir y analizar datos usando funciones como groupby(), agg() y operaciones estadísticas.\n",
    "- El método gropuby() permite agrupar datos basado en una o más columnas"
   ]
  },
  {
   "cell_type": "code",
   "execution_count": 31,
   "metadata": {},
   "outputs": [
    {
     "name": "stdout",
     "output_type": "stream",
     "text": [
      "\n",
      "DataFrame\n",
      "{'Producto': ['Laptop', 'Mouse', 'Laptop', 'Teclado', 'Mouse'], 'Categoria': ['Electrónica', 'Accesorios', 'Electrónica', 'Accesorios', 'Accesorios'], 'Precio': [1000, 50, 1200, 80, 55]}\n",
      "\n",
      "Agrupar por producto y obtener el precio promedio\n",
      "Producto\n",
      "Laptop     1100.0\n",
      "Mouse        52.5\n",
      "Teclado      80.0\n",
      "Name: Precio, dtype: float64\n"
     ]
    }
   ],
   "source": [
    "import pandas as pd\n",
    "\n",
    "# Crear un DataFrame\n",
    "datos = {\n",
    "    \"Producto\": [\"Laptop\", \"Mouse\", \"Laptop\", \"Teclado\", \"Mouse\"],\n",
    "    \"Categoria\": [\"Electrónica\", \"Accesorios\", \"Electrónica\", \"Accesorios\", \"Accesorios\"],\n",
    "    \"Precio\": [1000, 50, 1200, 80, 55]\n",
    "}\n",
    "print(\"\\nDataFrame\")\n",
    "print(datos)\n",
    "\n",
    "df = pd.DataFrame(datos)\n",
    "\n",
    "# Agrupar por \"Producto\" y obtener el precio promedio\n",
    "print(\"\\nAgrupar por producto y obtener el precio promedio\")\n",
    "agrupado = df.groupby(\"Producto\")[\"Precio\"].mean()\n",
    "print(agrupado)\n"
   ]
  },
  {
   "cell_type": "code",
   "execution_count": 29,
   "metadata": {},
   "outputs": [
    {
     "name": "stdout",
     "output_type": "stream",
     "text": [
      "Departamento\n",
      "IT        5766.666667\n",
      "RRHH      4750.000000\n",
      "Ventas    4750.000000\n",
      "Name: Salario, dtype: float64\n"
     ]
    }
   ],
   "source": [
    "import pandas as pd\n",
    "\n",
    "df = pd.DataFrame({\n",
    "    \"Departamento\": [\"Ventas\", \"Ventas\", \"IT\", \"IT\", \"RRHH\", \"RRHH\", \"IT\"],\n",
    "    \"Empleado\": [\"Ana\", \"Luis\", \"Carlos\", \"María\", \"Sofía\", \"Pedro\", \"Elena\"],\n",
    "    \"Salario\": [5000, 4500, 6000, 5200, 4800, 4700, 6100]\n",
    "})\n",
    "\n",
    "# Agrupar por \"Departamento\" y calcular el salario promedio\n",
    "df_grouped = df.groupby(\"Departamento\")[\"Salario\"].mean()\n",
    "print(df_grouped)\n"
   ]
  },
  {
   "cell_type": "code",
   "execution_count": 32,
   "metadata": {},
   "outputs": [
    {
     "name": "stdout",
     "output_type": "stream",
     "text": [
      "\n",
      "Agrupar por multiples columnas\n",
      "Categoria    Producto\n",
      "Accesorios   Mouse         52.5\n",
      "             Teclado       80.0\n",
      "Electrónica  Laptop      1100.0\n",
      "Name: Precio, dtype: float64\n"
     ]
    }
   ],
   "source": [
    "print(\"\\nAgrupar por multiples columnas\")\n",
    "agrupado = df.groupby([\"Categoria\", \"Producto\"])[\"Precio\"].mean()\n",
    "print(agrupado)"
   ]
  },
  {
   "cell_type": "markdown",
   "metadata": {},
   "source": [
    "Funciones de agregación (sum(), mean(), count(), agg())\n",
    "- Podemos aplicar funciones de agregación para obtener estadísticas sobre los datos agrupados."
   ]
  },
  {
   "cell_type": "code",
   "execution_count": 35,
   "metadata": {},
   "outputs": [
    {
     "name": "stdout",
     "output_type": "stream",
     "text": [
      "\n",
      "Contar productos por categoría.\n",
      "Categoria\n",
      "Accesorios     3\n",
      "Electrónica    2\n",
      "Name: Producto, dtype: int64\n",
      "\n",
      "Aplicando multiples funciones con agg.\n",
      "              sum         mean   max   min\n",
      "Categoria                                 \n",
      "Accesorios    185    61.666667    80    50\n",
      "Electrónica  2200  1100.000000  1200  1000\n"
     ]
    }
   ],
   "source": [
    "print(\"\\nContar productos por categoría.\")\n",
    "conteo =  df.groupby(\"Categoria\")[\"Producto\"].count()\n",
    "print(conteo)\n",
    "\n",
    "print(\"\\nAplicando multiples funciones con agg.\")\n",
    "resumen = df.groupby(\"Categoria\")[\"Precio\"].agg([\"sum\", \"mean\", \"max\", \"min\"])\n",
    "print(resumen)\n",
    "\n"
   ]
  },
  {
   "cell_type": "markdown",
   "metadata": {},
   "source": [
    "Agrupar y filtrar datos con filter()"
   ]
  },
  {
   "cell_type": "code",
   "execution_count": 30,
   "metadata": {},
   "outputs": [
    {
     "name": "stdout",
     "output_type": "stream",
     "text": [
      "  Departamento Empleado  Salario\n",
      "2           IT   Carlos     6000\n",
      "3           IT    María     5200\n",
      "6           IT    Elena     6100\n"
     ]
    }
   ],
   "source": [
    "df_filtrado = df.groupby(\"Departamento\").filter(lambda x: len(x) > 2)\n",
    "print(df_filtrado)"
   ]
  },
  {
   "cell_type": "markdown",
   "metadata": {},
   "source": [
    "Obtener estadísticos generales con describe()\n",
    "- Podemos obtener un resumen estadístico por grupo."
   ]
  },
  {
   "cell_type": "code",
   "execution_count": 31,
   "metadata": {},
   "outputs": [
    {
     "name": "stdout",
     "output_type": "stream",
     "text": [
      "              count         mean         std     min     25%     50%     75%  \\\n",
      "Departamento                                                                   \n",
      "IT              3.0  5766.666667  493.288286  5200.0  5600.0  6000.0  6050.0   \n",
      "RRHH            2.0  4750.000000   70.710678  4700.0  4725.0  4750.0  4775.0   \n",
      "Ventas          2.0  4750.000000  353.553391  4500.0  4625.0  4750.0  4875.0   \n",
      "\n",
      "                 max  \n",
      "Departamento          \n",
      "IT            6100.0  \n",
      "RRHH          4800.0  \n",
      "Ventas        5000.0  \n"
     ]
    }
   ],
   "source": [
    "df_grouped = df.groupby(\"Departamento\")[\"Salario\"].describe()\n",
    "print(df_grouped)"
   ]
  },
  {
   "cell_type": "markdown",
   "metadata": {},
   "source": [
    "Aplicación de transform() y apply() en Agrupaciones."
   ]
  },
  {
   "cell_type": "code",
   "execution_count": null,
   "metadata": {},
   "outputs": [
    {
     "name": "stdout",
     "output_type": "stream",
     "text": [
      "\n",
      "Calculo de el porcentaje del precio respecto al total por categoria\n",
      "  Producto    Categoria  Precio  Total_Categoria  Porcentaje\n",
      "0   Laptop  Electrónica    1000             2200   45.454545\n",
      "1    Mouse   Accesorios      50              185   27.027027\n",
      "2   Laptop  Electrónica    1200             2200   54.545455\n",
      "3  Teclado   Accesorios      80              185   43.243243\n",
      "4    Mouse   Accesorios      55              185   29.729730\n"
     ]
    }
   ],
   "source": [
    "print(\"\\nCalculo de porcentaje del precio respecto al total por categoria\")\n",
    "df[\"Total_Categoria\"] = df.groupby(\"Categoria\")[\"Precio\"].transform(\"sum\")\n",
    "df[\"Porcentaje\"] = (df[\"Precio\"] / df[\"Total_Categoria\"]) * 100\n",
    "print(df)\n"
   ]
  },
  {
   "cell_type": "markdown",
   "metadata": {},
   "source": [
    "#### Combinación y fusión de DataFrames en Pandas\n",
    "- En este módulo aprenderemos a unir, concatenar y fusionar DataFrames utilizando funciones como merge(), concat() y join()"
   ]
  },
  {
   "cell_type": "markdown",
   "metadata": {},
   "source": [
    "Concatenación vertical (Apilado de Datos)"
   ]
  },
  {
   "cell_type": "code",
   "execution_count": 37,
   "metadata": {},
   "outputs": [
    {
     "name": "stdout",
     "output_type": "stream",
     "text": [
      "   ID  Nombre\n",
      "0   1     Ana\n",
      "1   2    Luis\n",
      "2   3  Carlos\n",
      "3   4   Marta\n",
      "4   5   Pedro\n"
     ]
    }
   ],
   "source": [
    "import pandas as pd\n",
    "\n",
    "# Crear dos DataFrames\n",
    "df1 = pd.DataFrame({\"ID\": [1, 2, 3], \"Nombre\": [\"Ana\", \"Luis\", \"Carlos\"]})\n",
    "df2 = pd.DataFrame({\"ID\": [4, 5], \"Nombre\": [\"Marta\", \"Pedro\"]})\n",
    "\n",
    "# Concatenación vertical\n",
    "df_concatenado = pd.concat([df1, df2], ignore_index=True)\n",
    "print(df_concatenado)\n"
   ]
  },
  {
   "cell_type": "markdown",
   "metadata": {},
   "source": [
    "Concatenación horizontal (Añadir columnas)"
   ]
  },
  {
   "cell_type": "code",
   "execution_count": 38,
   "metadata": {},
   "outputs": [
    {
     "name": "stdout",
     "output_type": "stream",
     "text": [
      "   ID  Nombre  ID  Edad\n",
      "0   1     Ana   1    25\n",
      "1   2    Luis   2    30\n",
      "2   3  Carlos   3    35\n"
     ]
    }
   ],
   "source": [
    "df3 = pd.DataFrame({\"ID\": [1, 2, 3], \"Edad\": [25, 30, 35]})\n",
    "\n",
    "# Concatenación horizontal\n",
    "df_combinado = pd.concat([df1, df3], axis=1)\n",
    "print(df_combinado)"
   ]
  },
  {
   "cell_type": "markdown",
   "metadata": {},
   "source": [
    "Fusión de DataFrames con merge()\n",
    "- La función merge() es más flexible y permite combinar DataFrames con en SQL(INNER JOIN, LEFT JOIN, RIGHT JOIN, OUTER JOIN)."
   ]
  },
  {
   "cell_type": "code",
   "execution_count": 39,
   "metadata": {},
   "outputs": [
    {
     "name": "stdout",
     "output_type": "stream",
     "text": [
      "   ID  Nombre  Edad\n",
      "0   1     Ana    25\n",
      "1   3  Carlos    35\n"
     ]
    }
   ],
   "source": [
    "df1 = pd.DataFrame({\"ID\": [1, 2, 3], \"Nombre\": [\"Ana\", \"Luis\", \"Carlos\"]})\n",
    "df2 = pd.DataFrame({\"ID\": [1, 3, 4], \"Edad\": [25, 35, 40]})\n",
    "\n",
    "# Fusionar por la columna \"ID\"\n",
    "df_merge = pd.merge(df1, df2, on=\"ID\", how=\"inner\")\n",
    "print(df_merge)\n"
   ]
  },
  {
   "cell_type": "markdown",
   "metadata": {},
   "source": [
    "LEFT JOIN (Mantener todos los datos de la izquierda)"
   ]
  },
  {
   "cell_type": "code",
   "execution_count": 40,
   "metadata": {},
   "outputs": [
    {
     "name": "stdout",
     "output_type": "stream",
     "text": [
      "   ID  Nombre  Edad\n",
      "0   1     Ana  25.0\n",
      "1   2    Luis   NaN\n",
      "2   3  Carlos  35.0\n"
     ]
    }
   ],
   "source": [
    "df_merge = pd.merge(df1, df2, on=\"ID\", how=\"left\")\n",
    "print(df_merge)"
   ]
  },
  {
   "cell_type": "markdown",
   "metadata": {},
   "source": [
    "Unión de DataFrames cono join()\n",
    "- El método join() se usa cuando queremos unir DataFrames basados en el índice."
   ]
  },
  {
   "cell_type": "code",
   "execution_count": 41,
   "metadata": {},
   "outputs": [
    {
     "name": "stdout",
     "output_type": "stream",
     "text": [
      "\n",
      "Unir los DataFrames por el indice.\n",
      "   Nombre  Edad\n",
      "1     Ana    25\n",
      "2    Luis    30\n",
      "3  Carlos    35\n"
     ]
    }
   ],
   "source": [
    "print(\"\\nUnir los DataFrames por el indice.\")\n",
    "df1 = pd.DataFrame({\"Nombre\": [\"Ana\", \"Luis\", \"Carlos\"]}, index=[1, 2, 3])\n",
    "df2 = pd.DataFrame({\"Edad\": [25, 30, 35]}, index=[1, 2, 3])\n",
    "\n",
    "df_unido = df1.join(df2)\n",
    "print(df_unido)\n"
   ]
  },
  {
   "cell_type": "markdown",
   "metadata": {},
   "source": [
    "RIGTH JOIN (Mantener todos los datos de la derecha)\n",
    "- Este tipo de fusión mantiene todas las filas de la derecha, aunque algunas no tengan coincidencia en la izquierda."
   ]
  },
  {
   "cell_type": "code",
   "execution_count": 42,
   "metadata": {},
   "outputs": [
    {
     "name": "stdout",
     "output_type": "stream",
     "text": [
      "   ID  Nombre  Edad\n",
      "0   1     Ana    25\n",
      "1   3  Carlos    35\n",
      "2   4     NaN    40\n"
     ]
    }
   ],
   "source": [
    "df1 = pd.DataFrame({\"ID\": [1, 2, 3], \"Nombre\": [\"Ana\", \"Luis\", \"Carlos\"]})\n",
    "df2 = pd.DataFrame({\"ID\": [1, 3, 4], \"Edad\": [25, 35, 40]})\n",
    "\n",
    "df_merge = pd.merge(df1, df2, on=\"ID\", how=\"right\")\n",
    "print(df_merge)\n"
   ]
  },
  {
   "cell_type": "markdown",
   "metadata": {},
   "source": [
    "OUTER JOIN (Unión completa de los datos)\n",
    "- Aquí se combinan todos los datos de ambos DaraFrames, incluso si no tienen coincidencias."
   ]
  },
  {
   "cell_type": "code",
   "execution_count": 43,
   "metadata": {},
   "outputs": [
    {
     "name": "stdout",
     "output_type": "stream",
     "text": [
      "   ID  Nombre  Edad\n",
      "0   1     Ana  25.0\n",
      "1   2    Luis   NaN\n",
      "2   3  Carlos  35.0\n",
      "3   4     NaN  40.0\n"
     ]
    }
   ],
   "source": [
    "df_merge = pd.merge(df1, df2, on=\"ID\", how=\"outer\")\n",
    "print(df_merge)\n"
   ]
  },
  {
   "cell_type": "markdown",
   "metadata": {},
   "source": [
    "Concatenar DataFrames con diferentes columnas\n",
    "- Si los DataFrames tienen columnas distintas concat() rellena con NaN los valores faltantes."
   ]
  },
  {
   "cell_type": "code",
   "execution_count": 44,
   "metadata": {},
   "outputs": [
    {
     "name": "stdout",
     "output_type": "stream",
     "text": [
      "   ID Nombre  Edad\n",
      "0   1    Ana   NaN\n",
      "1   2   Luis   NaN\n",
      "2   3    NaN  25.0\n",
      "3   4    NaN  30.0\n"
     ]
    }
   ],
   "source": [
    "df1 = pd.DataFrame({\"ID\": [1, 2], \"Nombre\": [\"Ana\", \"Luis\"]})\n",
    "df2 = pd.DataFrame({\"ID\": [3, 4], \"Edad\": [25, 30]})\n",
    "\n",
    "df_concatenado = pd.concat([df1, df2], ignore_index=True)\n",
    "print(df_concatenado)"
   ]
  },
  {
   "cell_type": "markdown",
   "metadata": {},
   "source": [
    "Fusionar con diferentes nombres de columnas (left_on, right_on)\n",
    "- Podemos unir DatasFrames que no tienen el mismo nombre de columna para la clave"
   ]
  },
  {
   "cell_type": "code",
   "execution_count": 45,
   "metadata": {},
   "outputs": [
    {
     "name": "stdout",
     "output_type": "stream",
     "text": [
      "   ID_Cliente  Nombre   ID Producto\n",
      "0           1     Ana  1.0   Laptop\n",
      "1           2    Luis  NaN      NaN\n",
      "2           3  Carlos  3.0    Mouse\n"
     ]
    }
   ],
   "source": [
    "df_clientes = pd.DataFrame({\"ID_Cliente\": [1, 2, 3], \"Nombre\": [\"Ana\", \"Luis\", \"Carlos\"]})\n",
    "df_compras = pd.DataFrame({\"ID\": [1, 3, 4], \"Producto\": [\"Laptop\", \"Mouse\", \"Teclado\"]})\n",
    "\n",
    "df_merge = pd.merge(df_clientes, df_compras, left_on=\"ID_Cliente\", right_on=\"ID\", how=\"left\")\n",
    "print(df_merge)"
   ]
  },
  {
   "cell_type": "markdown",
   "metadata": {},
   "source": [
    "Unir multiples DataFrames con reduce()\n",
    "- Cuando necesitamos unir varios DataFrames, podemos hacerlo con reduce()"
   ]
  },
  {
   "cell_type": "code",
   "execution_count": 46,
   "metadata": {},
   "outputs": [
    {
     "name": "stdout",
     "output_type": "stream",
     "text": [
      "   ID  Nombre  Edad  Salario\n",
      "0   1     Ana  25.0   2000.0\n",
      "1   2    Luis   NaN   2500.0\n",
      "2   3  Carlos  35.0      NaN\n",
      "3   4     NaN  40.0   3000.0\n"
     ]
    }
   ],
   "source": [
    "from functools import reduce\n",
    "\n",
    "df1 = pd.DataFrame({\"ID\": [1, 2, 3], \"Nombre\": [\"Ana\", \"Luis\", \"Carlos\"]})\n",
    "df2 = pd.DataFrame({\"ID\": [1, 3, 4], \"Edad\": [25, 35, 40]})\n",
    "df3 = pd.DataFrame({\"ID\": [1, 2, 4], \"Salario\": [2000, 2500, 3000]})\n",
    "\n",
    "dfs = [df1, df2, df3]\n",
    "\n",
    "df_final = reduce(lambda left, right: pd.merge(left, right, on=\"ID\", how=\"outer\"), dfs)\n",
    "print(df_final)"
   ]
  },
  {
   "cell_type": "markdown",
   "metadata": {},
   "source": [
    "#### Manejo de Datos faltantes en Pandas\n",
    "- En este módulo aprenderemos a manejar valores NaN (valores nulos o faltantes) en un DataFrame.\n",
    "- Al trabajar con datos reales, es común encontrar valores ausentes, por lo que es importante saber cómo detectarlos, eliminarlos o reemplazarlos."
   ]
  },
  {
   "cell_type": "markdown",
   "metadata": {},
   "source": [
    "Detección de Datos faltantes.\n",
    "- Para identificar valores faltantes en un DataFrame, usamos isna() o isnull() (ambas hacen lo mismo)\n",
    "\n",
    "Identificar valores nulos en un DataFrame\n",
    "- isna() devuelve un DataFrame de True/false indicando dónde hay valores nulos.\n",
    "- sum() cuenta la cantidad de valores nulos en cada columna."
   ]
  },
  {
   "cell_type": "code",
   "execution_count": 2,
   "metadata": {},
   "outputs": [
    {
     "name": "stdout",
     "output_type": "stream",
     "text": [
      "   Nombre  Edad  Ciudad\n",
      "0     Ana  25.0  Mexico\n",
      "1    Luis   NaN  Canada\n",
      "2  Carlos  35.0      EU\n",
      "3     NaN  40.0  Panama\n",
      "4   Marta   NaN     NaN\n",
      "   Nombre   Edad  Ciudad\n",
      "0   False  False   False\n",
      "1   False   True   False\n",
      "2   False  False   False\n",
      "3    True  False   False\n",
      "4   False   True    True\n",
      "Nombre    1\n",
      "Edad      2\n",
      "Ciudad    1\n",
      "dtype: int64\n"
     ]
    }
   ],
   "source": [
    "import pandas as pd\n",
    "import numpy as np\n",
    "\n",
    "# Crear un DataFrame con valores faltantes\n",
    "df = pd.DataFrame({\n",
    "    \"Nombre\": [\"Ana\", \"Luis\", \"Carlos\", np.nan, \"Marta\"],\n",
    "    \"Edad\": [25, np.nan, 35, 40, np.nan],\n",
    "    \"Ciudad\": [\"Mexico\", \"Canada\", \"EU\", \"Panama\", np.nan]\n",
    "})\n",
    "\n",
    "# Mostrar el DataFrame\n",
    "print(df)\n",
    "\n",
    "# Detectar valores nulos\n",
    "print(df.isna())\n",
    "\n",
    "# Contar valores nulos por columna\n",
    "print(df.isna().sum())"
   ]
  },
  {
   "cell_type": "markdown",
   "metadata": {},
   "source": [
    "Eliminación de datos faltantes (dropna())\n",
    "- Podemos eliminar filas o columnas con datos nulos usando dropna()\n",
    "- Eliminar filas con valores nulos."
   ]
  },
  {
   "cell_type": "code",
   "execution_count": 3,
   "metadata": {},
   "outputs": [
    {
     "name": "stdout",
     "output_type": "stream",
     "text": [
      "   Nombre  Edad  Ciudad\n",
      "0     Ana  25.0  Mexico\n",
      "2  Carlos  35.0      EU\n"
     ]
    }
   ],
   "source": [
    "df_sin_nulos = df.dropna()\n",
    "print(df_sin_nulos)"
   ]
  },
  {
   "cell_type": "markdown",
   "metadata": {},
   "source": [
    "Eliminar columnas con valores nulos."
   ]
  },
  {
   "cell_type": "code",
   "execution_count": 4,
   "metadata": {},
   "outputs": [
    {
     "name": "stdout",
     "output_type": "stream",
     "text": [
      "Empty DataFrame\n",
      "Columns: []\n",
      "Index: [0, 1, 2, 3, 4]\n"
     ]
    }
   ],
   "source": [
    "df_sin_columnas_nulas = df.dropna(axis=1)\n",
    "print(df_sin_columnas_nulas)"
   ]
  },
  {
   "cell_type": "markdown",
   "metadata": {},
   "source": [
    "Relleno de datos faltantes (fillna())\n",
    "- En lugar de eliminar datos, podemos reemplazar valores nulos con fillna()\n",
    "- Rellenar valores nulos con un valor especifico."
   ]
  },
  {
   "cell_type": "code",
   "execution_count": 5,
   "metadata": {},
   "outputs": [
    {
     "name": "stdout",
     "output_type": "stream",
     "text": [
      "        Nombre         Edad       Ciudad\n",
      "0          Ana         25.0       Mexico\n",
      "1         Luis  Desconocido       Canada\n",
      "2       Carlos         35.0           EU\n",
      "3  Desconocido         40.0       Panama\n",
      "4        Marta  Desconocido  Desconocido\n"
     ]
    }
   ],
   "source": [
    "df_rellenado = df.fillna(\"Desconocido\")\n",
    "print(df_rellenado)"
   ]
  },
  {
   "cell_type": "markdown",
   "metadata": {},
   "source": [
    "Rellenar valores nulos con la media de la columna."
   ]
  },
  {
   "cell_type": "code",
   "execution_count": 6,
   "metadata": {},
   "outputs": [
    {
     "name": "stdout",
     "output_type": "stream",
     "text": [
      "   Nombre       Edad  Ciudad\n",
      "0     Ana  25.000000  Mexico\n",
      "1    Luis  33.333333  Canada\n",
      "2  Carlos  35.000000      EU\n",
      "3     NaN  40.000000  Panama\n",
      "4   Marta  33.333333     NaN\n"
     ]
    }
   ],
   "source": [
    "media_edad = df[\"Edad\"].mean()\n",
    "df[\"Edad\"] = df[\"Edad\"].fillna(media_edad)\n",
    "print(df)"
   ]
  },
  {
   "cell_type": "markdown",
   "metadata": {},
   "source": [
    "Interpolación de datos.\n",
    "- Si los datos siguen una tendencia, interpolate() puede estimar valores faltantes.\n",
    "- Interpolar valores numéricos."
   ]
  },
  {
   "cell_type": "code",
   "execution_count": 7,
   "metadata": {},
   "outputs": [
    {
     "name": "stdout",
     "output_type": "stream",
     "text": [
      "    Año  Ventas\n",
      "0  2000   100.0\n",
      "1  2001   150.0\n",
      "2  2002   200.0\n",
      "3  2003   300.0\n",
      "4  2004   400.0\n"
     ]
    }
   ],
   "source": [
    "df_numerico = pd.DataFrame({\"Año\": [2000, 2001, 2002, 2003, 2004],\n",
    "                            \"Ventas\": [100, np.nan, 200, np.nan, 400]})\n",
    "\n",
    "df_interpolado = df_numerico.interpolate()\n",
    "print(df_interpolado)"
   ]
  },
  {
   "cell_type": "markdown",
   "metadata": {},
   "source": [
    "#### Manejo de fechas y tiempos en Pandas\n",
    "- El manejo de fechas es crucial en análisis de datos, especialmente en series temporales.\n",
    "- Pandas proporciona herramientas poderosas para trabajar con fechas, como pd.to_datetime(), dt y resample().\n",
    "\n",
    "Convertir fechas con pd.to_datetime()"
   ]
  },
  {
   "cell_type": "code",
   "execution_count": 22,
   "metadata": {},
   "outputs": [
    {
     "name": "stdout",
     "output_type": "stream",
     "text": [
      "fecha     datetime64[ns]\n",
      "ventas             int64\n",
      "dtype: object\n",
      "Ahora fecha es de tipo datetime64, lo que permite hacer operaciones avanzadas\n"
     ]
    }
   ],
   "source": [
    "import pandas as pd\n",
    "\n",
    "df = pd.DataFrame({\n",
    "    \"fecha\" : [\"2025-01-01\", \"2025-02-01\", \"2025-03-01\"],\n",
    "    \"ventas\": [100, 150, 200]\n",
    "})\n",
    "\n",
    "df[\"fecha\"] = pd.to_datetime(df[\"fecha\"])\n",
    "print(df.dtypes) \n",
    "print(\"Ahora fecha es de tipo datetime64, lo que permite hacer operaciones avanzadas\")"
   ]
  },
  {
   "cell_type": "markdown",
   "metadata": {},
   "source": [
    "Extracción de componentes dde fechas.(.dt)\n",
    "- Podemos extraer año, mes, dia, etc.\n"
   ]
  },
  {
   "cell_type": "code",
   "execution_count": 12,
   "metadata": {},
   "outputs": [
    {
     "name": "stdout",
     "output_type": "stream",
     "text": [
      "       fecha  ventas   Año  Mes  dia Dia_Semana\n",
      "0 2025-01-01     100  2025    1    1  Wednesday\n",
      "1 2025-02-01     150  2025    2    1   Saturday\n",
      "2 2025-03-01     200  2025    3    1   Saturday\n"
     ]
    }
   ],
   "source": [
    "df[\"Año\"] = df[\"fecha\"].dt.year\n",
    "df[\"Mes\"] = df[\"fecha\"].dt.month\n",
    "df[\"dia\"] = df[\"fecha\"].dt.day\n",
    "df[\"Dia_Semana\"] = df[\"fecha\"].dt.day_name()\n",
    "print(df)\n"
   ]
  },
  {
   "cell_type": "markdown",
   "metadata": {},
   "source": [
    "Creación de rano de fechas (pd.date_range())\n",
    "- Si necesitamos generar una serie de fechas pd.date_range() nos ayuda.\n",
    "- Generar un rango de fechas  diaria.  "
   ]
  },
  {
   "cell_type": "code",
   "execution_count": 13,
   "metadata": {},
   "outputs": [
    {
     "name": "stdout",
     "output_type": "stream",
     "text": [
      "DatetimeIndex(['2025-02-02', '2025-02-03', '2025-02-04', '2025-02-05',\n",
      "               '2025-02-06', '2025-02-07', '2025-02-08', '2025-02-09',\n",
      "               '2025-02-10', '2025-02-11', '2025-02-12', '2025-02-13',\n",
      "               '2025-02-14', '2025-02-15', '2025-02-16', '2025-02-17',\n",
      "               '2025-02-18', '2025-02-19', '2025-02-20', '2025-02-21',\n",
      "               '2025-02-22', '2025-02-23', '2025-02-24', '2025-02-25',\n",
      "               '2025-02-26', '2025-02-27', '2025-02-28', '2025-03-01',\n",
      "               '2025-03-02', '2025-03-03'],\n",
      "              dtype='datetime64[ns]', freq='D')\n"
     ]
    }
   ],
   "source": [
    "rango_fechas = pd.date_range(start=\"2025-02-02\", end=\"2025-03-03\", freq=\"D\")\n",
    "print(rango_fechas) "
   ]
  },
  {
   "cell_type": "markdown",
   "metadata": {},
   "source": [
    "Operaciones con fechas.\n",
    "- Podemos calcular diferencias, agregar días y más "
   ]
  },
  {
   "cell_type": "code",
   "execution_count": 14,
   "metadata": {},
   "outputs": [
    {
     "name": "stdout",
     "output_type": "stream",
     "text": [
      "       fecha  ventas   Año  Mes  dia Dia_Semana  Dias desde inicio\n",
      "0 2025-01-01     100  2025    1    1  Wednesday                  0\n",
      "1 2025-02-01     150  2025    2    1   Saturday                 31\n",
      "2 2025-03-01     200  2025    3    1   Saturday                 59\n"
     ]
    }
   ],
   "source": [
    "df[\"Dias desde inicio\"] = (df[\"fecha\"] - df[\"fecha\"].min()).dt.days\n",
    "print(df)\n"
   ]
  },
  {
   "cell_type": "markdown",
   "metadata": {},
   "source": [
    "Re-muestreo de datos temporales (resample())\n",
    "- Podemos agrupar datos por días, semanas o meses con resample()"
   ]
  },
  {
   "cell_type": "code",
   "execution_count": 23,
   "metadata": {},
   "outputs": [
    {
     "name": "stdout",
     "output_type": "stream",
     "text": [
      "            ventas\n",
      "fecha             \n",
      "2025-01-31     100\n",
      "2025-02-28     150\n",
      "2025-03-31     200\n"
     ]
    },
    {
     "name": "stderr",
     "output_type": "stream",
     "text": [
      "C:\\Users\\Lalo\\AppData\\Local\\Temp\\ipykernel_20152\\2306358148.py:2: FutureWarning: 'M' is deprecated and will be removed in a future version, please use 'ME' instead.\n",
      "  df_mensual = df.resample(\"M\").sum()\n"
     ]
    }
   ],
   "source": [
    "df.set_index(\"fecha\", inplace=True)\n",
    "df_mensual = df.resample(\"M\").sum()\n",
    "print(df_mensual)"
   ]
  },
  {
   "cell_type": "markdown",
   "metadata": {},
   "source": [
    "Filtrar datos por fechas.\n",
    "- Podemos seleccionar datos en un rango de fechas."
   ]
  },
  {
   "cell_type": "code",
   "execution_count": 24,
   "metadata": {},
   "outputs": [
    {
     "name": "stdout",
     "output_type": "stream",
     "text": [
      "       Fecha  Ventas\n",
      "2 2024-01-03     120\n",
      "3 2024-01-04     180\n",
      "4 2024-01-05     200\n",
      "5 2024-01-06     140\n",
      "6 2024-01-07     160\n"
     ]
    }
   ],
   "source": [
    "df = pd.DataFrame({\n",
    "    \"Fecha\": pd.date_range(start=\"2024-01-01\", periods=10, freq=\"D\"),\n",
    "    \"Ventas\": [100, 150, 120, 180, 200, 140, 160, 180, 220, 190]\n",
    "})\n",
    "\n",
    "# Filtrar datos entre el 3 y el 7 de enero\n",
    "filtro = (df[\"Fecha\"] >= \"2024-01-03\") & (df[\"Fecha\"] <= \"2024-01-07\")\n",
    "df_filtrado = df[filtro]\n",
    "print(df_filtrado)\n"
   ]
  },
  {
   "cell_type": "markdown",
   "metadata": {},
   "source": [
    "Reemplazar el formato fecha.\n",
    "- Podemos cambiar el formato de fechas con .dt.strftime()\n",
    "\n",
    "%d/%m/%y da formato día/mes/año.\n",
    "\n",
    "%Y da formato año completo.\n",
    "\n",
    "%Y-%m-%d da formato 2025-02-02.\n",
    "\n",
    "%B %d, %y da formato Febrero  13, 2025.\n",
    "\n",
    "%A Monday es dia de la semana."
   ]
  },
  {
   "cell_type": "code",
   "execution_count": 25,
   "metadata": {},
   "outputs": [
    {
     "name": "stdout",
     "output_type": "stream",
     "text": [
      "       Fecha Fecha Formateada\n",
      "0 2024-01-01       01/01/2024\n",
      "1 2024-01-02       02/01/2024\n",
      "2 2024-01-03       03/01/2024\n",
      "3 2024-01-04       04/01/2024\n",
      "4 2024-01-05       05/01/2024\n",
      "5 2024-01-06       06/01/2024\n",
      "6 2024-01-07       07/01/2024\n",
      "7 2024-01-08       08/01/2024\n",
      "8 2024-01-09       09/01/2024\n",
      "9 2024-01-10       10/01/2024\n"
     ]
    }
   ],
   "source": [
    "df[\"Fecha Formateada\"] = df[\"Fecha\"].dt.strftime(\"%d/%m/%Y\")\n",
    "print(df[[\"Fecha\", \"Fecha Formateada\"]])\n"
   ]
  },
  {
   "cell_type": "markdown",
   "metadata": {},
   "source": [
    "#### Análisis exploratorio de datos en Pandas (EDA)\n",
    "- El análisis exploratorio de datos (EDA, Exploratory Data Analysis) es un proceso clave en ciencia de datos. Permite comprender, limpiar y visualizar la información antes de aplicar modelos o tomar decisiones. \n",
    "- Pandas ofrece muchas herramientas para realizar EDA de manera eficiente.  "
   ]
  },
  {
   "cell_type": "markdown",
   "metadata": {},
   "source": [
    "Cargar datos y obtener información general.\n",
    "- Antes de analizar datos, necesitamos cargarlos y revisar su estructura.\n",
    "\n",
    "Cargar un dataset y obtener información básica.\n",
    "- Este dataset que vamos a cargar para hacer EDA lo tenemos de forma local y fue descargado desde Kaggle \n",
    "- link https://www.kaggle.com/datasets/sameerk2004/space-missions-dataset\n",
    "- Pueden hacer uso de cualquier dataset que sea de su agrado."
   ]
  },
  {
   "cell_type": "code",
   "execution_count": 33,
   "metadata": {},
   "outputs": [
    {
     "name": "stdout",
     "output_type": "stream",
     "text": [
      "Información General sobre el dataset\n",
      "<class 'pandas.core.frame.DataFrame'>\n",
      "RangeIndex: 500 entries, 0 to 499\n",
      "Data columns (total 15 columns):\n",
      " #   Column                             Non-Null Count  Dtype  \n",
      "---  ------                             --------------  -----  \n",
      " 0   Mission ID                         500 non-null    object \n",
      " 1   Mission Name                       500 non-null    object \n",
      " 2   Launch Date                        500 non-null    object \n",
      " 3   Target Type                        500 non-null    object \n",
      " 4   Target Name                        500 non-null    object \n",
      " 5   Mission Type                       500 non-null    object \n",
      " 6   Distance from Earth (light-years)  500 non-null    float64\n",
      " 7   Mission Duration (years)           500 non-null    float64\n",
      " 8   Mission Cost (billion USD)         500 non-null    float64\n",
      " 9   Scientific Yield (points)          500 non-null    float64\n",
      " 10  Crew Size                          500 non-null    int64  \n",
      " 11  Mission Success (%)                500 non-null    float64\n",
      " 12  Fuel Consumption (tons)            500 non-null    float64\n",
      " 13  Payload Weight (tons)              500 non-null    float64\n",
      " 14  Launch Vehicle                     500 non-null    object \n",
      "dtypes: float64(7), int64(1), object(7)\n",
      "memory usage: 58.7+ KB\n",
      "None\n"
     ]
    }
   ],
   "source": [
    "import pandas as pd\n",
    "\n",
    "# Cargar un dataset desde un archivo CSV\n",
    "df = pd.read_csv(\"space_missions_dataset.csv\")\n",
    "\n",
    "# Información general sobre las columnas y tipos de datos\n",
    "print(\"Información General sobre el dataset\")\n",
    "print(df.info())\n",
    "\n"
   ]
  },
  {
   "cell_type": "markdown",
   "metadata": {},
   "source": [
    "Inspección de los datos."
   ]
  },
  {
   "cell_type": "code",
   "execution_count": 36,
   "metadata": {},
   "outputs": [
    {
     "name": "stdout",
     "output_type": "stream",
     "text": [
      "\n",
      "Vamos a mostrar las primeros 5 filas\n"
     ]
    },
    {
     "data": {
      "text/html": [
       "<div>\n",
       "<style scoped>\n",
       "    .dataframe tbody tr th:only-of-type {\n",
       "        vertical-align: middle;\n",
       "    }\n",
       "\n",
       "    .dataframe tbody tr th {\n",
       "        vertical-align: top;\n",
       "    }\n",
       "\n",
       "    .dataframe thead th {\n",
       "        text-align: right;\n",
       "    }\n",
       "</style>\n",
       "<table border=\"1\" class=\"dataframe\">\n",
       "  <thead>\n",
       "    <tr style=\"text-align: right;\">\n",
       "      <th></th>\n",
       "      <th>Mission ID</th>\n",
       "      <th>Mission Name</th>\n",
       "      <th>Launch Date</th>\n",
       "      <th>Target Type</th>\n",
       "      <th>Target Name</th>\n",
       "      <th>Mission Type</th>\n",
       "      <th>Distance from Earth (light-years)</th>\n",
       "      <th>Mission Duration (years)</th>\n",
       "      <th>Mission Cost (billion USD)</th>\n",
       "      <th>Scientific Yield (points)</th>\n",
       "      <th>Crew Size</th>\n",
       "      <th>Mission Success (%)</th>\n",
       "      <th>Fuel Consumption (tons)</th>\n",
       "      <th>Payload Weight (tons)</th>\n",
       "      <th>Launch Vehicle</th>\n",
       "    </tr>\n",
       "  </thead>\n",
       "  <tbody>\n",
       "    <tr>\n",
       "      <th>0</th>\n",
       "      <td>MSN-0001</td>\n",
       "      <td>Mission-1</td>\n",
       "      <td>2025-01-01</td>\n",
       "      <td>Star</td>\n",
       "      <td>Titan</td>\n",
       "      <td>Colonization</td>\n",
       "      <td>7.05</td>\n",
       "      <td>5.2</td>\n",
       "      <td>526.68</td>\n",
       "      <td>64.3</td>\n",
       "      <td>21</td>\n",
       "      <td>100.0</td>\n",
       "      <td>731.88</td>\n",
       "      <td>99.78</td>\n",
       "      <td>SLS</td>\n",
       "    </tr>\n",
       "    <tr>\n",
       "      <th>1</th>\n",
       "      <td>MSN-0002</td>\n",
       "      <td>Mission-2</td>\n",
       "      <td>2025-01-08</td>\n",
       "      <td>Exoplanet</td>\n",
       "      <td>Betelgeuse</td>\n",
       "      <td>Colonization</td>\n",
       "      <td>41.76</td>\n",
       "      <td>23.0</td>\n",
       "      <td>234.08</td>\n",
       "      <td>84.4</td>\n",
       "      <td>72</td>\n",
       "      <td>89.6</td>\n",
       "      <td>4197.41</td>\n",
       "      <td>45.72</td>\n",
       "      <td>Starship</td>\n",
       "    </tr>\n",
       "    <tr>\n",
       "      <th>2</th>\n",
       "      <td>MSN-0003</td>\n",
       "      <td>Mission-3</td>\n",
       "      <td>2025-01-15</td>\n",
       "      <td>Asteroid</td>\n",
       "      <td>Mars</td>\n",
       "      <td>Exploration</td>\n",
       "      <td>49.22</td>\n",
       "      <td>28.8</td>\n",
       "      <td>218.68</td>\n",
       "      <td>98.6</td>\n",
       "      <td>16</td>\n",
       "      <td>98.6</td>\n",
       "      <td>4908.00</td>\n",
       "      <td>36.12</td>\n",
       "      <td>Starship</td>\n",
       "    </tr>\n",
       "    <tr>\n",
       "      <th>3</th>\n",
       "      <td>MSN-0004</td>\n",
       "      <td>Mission-4</td>\n",
       "      <td>2025-01-22</td>\n",
       "      <td>Exoplanet</td>\n",
       "      <td>Titan</td>\n",
       "      <td>Colonization</td>\n",
       "      <td>26.33</td>\n",
       "      <td>17.8</td>\n",
       "      <td>232.89</td>\n",
       "      <td>36.0</td>\n",
       "      <td>59</td>\n",
       "      <td>90.0</td>\n",
       "      <td>2569.05</td>\n",
       "      <td>40.67</td>\n",
       "      <td>Starship</td>\n",
       "    </tr>\n",
       "    <tr>\n",
       "      <th>4</th>\n",
       "      <td>MSN-0005</td>\n",
       "      <td>Mission-5</td>\n",
       "      <td>2025-01-29</td>\n",
       "      <td>Exoplanet</td>\n",
       "      <td>Proxima b</td>\n",
       "      <td>Mining</td>\n",
       "      <td>8.67</td>\n",
       "      <td>9.2</td>\n",
       "      <td>72.14</td>\n",
       "      <td>96.5</td>\n",
       "      <td>31</td>\n",
       "      <td>73.2</td>\n",
       "      <td>892.76</td>\n",
       "      <td>12.40</td>\n",
       "      <td>Starship</td>\n",
       "    </tr>\n",
       "  </tbody>\n",
       "</table>\n",
       "</div>"
      ],
      "text/plain": [
       "  Mission ID Mission Name Launch Date Target Type Target Name  Mission Type  \\\n",
       "0   MSN-0001    Mission-1  2025-01-01        Star       Titan  Colonization   \n",
       "1   MSN-0002    Mission-2  2025-01-08   Exoplanet  Betelgeuse  Colonization   \n",
       "2   MSN-0003    Mission-3  2025-01-15    Asteroid        Mars   Exploration   \n",
       "3   MSN-0004    Mission-4  2025-01-22   Exoplanet       Titan  Colonization   \n",
       "4   MSN-0005    Mission-5  2025-01-29   Exoplanet   Proxima b        Mining   \n",
       "\n",
       "   Distance from Earth (light-years)  Mission Duration (years)  \\\n",
       "0                               7.05                       5.2   \n",
       "1                              41.76                      23.0   \n",
       "2                              49.22                      28.8   \n",
       "3                              26.33                      17.8   \n",
       "4                               8.67                       9.2   \n",
       "\n",
       "   Mission Cost (billion USD)  Scientific Yield (points)  Crew Size  \\\n",
       "0                      526.68                       64.3         21   \n",
       "1                      234.08                       84.4         72   \n",
       "2                      218.68                       98.6         16   \n",
       "3                      232.89                       36.0         59   \n",
       "4                       72.14                       96.5         31   \n",
       "\n",
       "   Mission Success (%)  Fuel Consumption (tons)  Payload Weight (tons)  \\\n",
       "0                100.0                   731.88                  99.78   \n",
       "1                 89.6                  4197.41                  45.72   \n",
       "2                 98.6                  4908.00                  36.12   \n",
       "3                 90.0                  2569.05                  40.67   \n",
       "4                 73.2                   892.76                  12.40   \n",
       "\n",
       "  Launch Vehicle  \n",
       "0            SLS  \n",
       "1       Starship  \n",
       "2       Starship  \n",
       "3       Starship  \n",
       "4       Starship  "
      ]
     },
     "execution_count": 36,
     "metadata": {},
     "output_type": "execute_result"
    }
   ],
   "source": [
    "print(\"\\nVamos a mostrar las primeros 5 filas\")\n",
    "df.head()"
   ]
  },
  {
   "cell_type": "code",
   "execution_count": 37,
   "metadata": {},
   "outputs": [
    {
     "name": "stdout",
     "output_type": "stream",
     "text": [
      "\n",
      "Vamos a mostrar las ultimas 5 filas\n"
     ]
    },
    {
     "data": {
      "text/html": [
       "<div>\n",
       "<style scoped>\n",
       "    .dataframe tbody tr th:only-of-type {\n",
       "        vertical-align: middle;\n",
       "    }\n",
       "\n",
       "    .dataframe tbody tr th {\n",
       "        vertical-align: top;\n",
       "    }\n",
       "\n",
       "    .dataframe thead th {\n",
       "        text-align: right;\n",
       "    }\n",
       "</style>\n",
       "<table border=\"1\" class=\"dataframe\">\n",
       "  <thead>\n",
       "    <tr style=\"text-align: right;\">\n",
       "      <th></th>\n",
       "      <th>Mission ID</th>\n",
       "      <th>Mission Name</th>\n",
       "      <th>Launch Date</th>\n",
       "      <th>Target Type</th>\n",
       "      <th>Target Name</th>\n",
       "      <th>Mission Type</th>\n",
       "      <th>Distance from Earth (light-years)</th>\n",
       "      <th>Mission Duration (years)</th>\n",
       "      <th>Mission Cost (billion USD)</th>\n",
       "      <th>Scientific Yield (points)</th>\n",
       "      <th>Crew Size</th>\n",
       "      <th>Mission Success (%)</th>\n",
       "      <th>Fuel Consumption (tons)</th>\n",
       "      <th>Payload Weight (tons)</th>\n",
       "      <th>Launch Vehicle</th>\n",
       "    </tr>\n",
       "  </thead>\n",
       "  <tbody>\n",
       "    <tr>\n",
       "      <th>495</th>\n",
       "      <td>MSN-0496</td>\n",
       "      <td>Mission-496</td>\n",
       "      <td>2034-06-28</td>\n",
       "      <td>Planet</td>\n",
       "      <td>Betelgeuse</td>\n",
       "      <td>Colonization</td>\n",
       "      <td>48.26</td>\n",
       "      <td>25.3</td>\n",
       "      <td>274.82</td>\n",
       "      <td>91.2</td>\n",
       "      <td>64</td>\n",
       "      <td>96.2</td>\n",
       "      <td>4837.16</td>\n",
       "      <td>44.97</td>\n",
       "      <td>Ariane 6</td>\n",
       "    </tr>\n",
       "    <tr>\n",
       "      <th>496</th>\n",
       "      <td>MSN-0497</td>\n",
       "      <td>Mission-497</td>\n",
       "      <td>2034-07-05</td>\n",
       "      <td>Asteroid</td>\n",
       "      <td>Betelgeuse</td>\n",
       "      <td>Exploration</td>\n",
       "      <td>0.35</td>\n",
       "      <td>4.1</td>\n",
       "      <td>379.71</td>\n",
       "      <td>82.6</td>\n",
       "      <td>61</td>\n",
       "      <td>100.0</td>\n",
       "      <td>62.59</td>\n",
       "      <td>67.88</td>\n",
       "      <td>SLS</td>\n",
       "    </tr>\n",
       "    <tr>\n",
       "      <th>497</th>\n",
       "      <td>MSN-0498</td>\n",
       "      <td>Mission-498</td>\n",
       "      <td>2034-07-12</td>\n",
       "      <td>Planet</td>\n",
       "      <td>Ceres</td>\n",
       "      <td>Exploration</td>\n",
       "      <td>47.60</td>\n",
       "      <td>26.6</td>\n",
       "      <td>296.45</td>\n",
       "      <td>98.6</td>\n",
       "      <td>29</td>\n",
       "      <td>100.0</td>\n",
       "      <td>4794.01</td>\n",
       "      <td>51.38</td>\n",
       "      <td>Falcon Heavy</td>\n",
       "    </tr>\n",
       "    <tr>\n",
       "      <th>498</th>\n",
       "      <td>MSN-0499</td>\n",
       "      <td>Mission-499</td>\n",
       "      <td>2034-07-19</td>\n",
       "      <td>Planet</td>\n",
       "      <td>Betelgeuse</td>\n",
       "      <td>Research</td>\n",
       "      <td>31.99</td>\n",
       "      <td>18.0</td>\n",
       "      <td>457.38</td>\n",
       "      <td>77.9</td>\n",
       "      <td>39</td>\n",
       "      <td>100.0</td>\n",
       "      <td>3102.16</td>\n",
       "      <td>86.28</td>\n",
       "      <td>SLS</td>\n",
       "    </tr>\n",
       "    <tr>\n",
       "      <th>499</th>\n",
       "      <td>MSN-0500</td>\n",
       "      <td>Mission-500</td>\n",
       "      <td>2034-07-26</td>\n",
       "      <td>Planet</td>\n",
       "      <td>Io</td>\n",
       "      <td>Exploration</td>\n",
       "      <td>43.41</td>\n",
       "      <td>23.5</td>\n",
       "      <td>449.40</td>\n",
       "      <td>45.4</td>\n",
       "      <td>88</td>\n",
       "      <td>100.0</td>\n",
       "      <td>4302.93</td>\n",
       "      <td>86.74</td>\n",
       "      <td>Falcon Heavy</td>\n",
       "    </tr>\n",
       "  </tbody>\n",
       "</table>\n",
       "</div>"
      ],
      "text/plain": [
       "    Mission ID Mission Name Launch Date Target Type Target Name  Mission Type  \\\n",
       "495   MSN-0496  Mission-496  2034-06-28      Planet  Betelgeuse  Colonization   \n",
       "496   MSN-0497  Mission-497  2034-07-05    Asteroid  Betelgeuse   Exploration   \n",
       "497   MSN-0498  Mission-498  2034-07-12      Planet       Ceres   Exploration   \n",
       "498   MSN-0499  Mission-499  2034-07-19      Planet  Betelgeuse      Research   \n",
       "499   MSN-0500  Mission-500  2034-07-26      Planet          Io   Exploration   \n",
       "\n",
       "     Distance from Earth (light-years)  Mission Duration (years)  \\\n",
       "495                              48.26                      25.3   \n",
       "496                               0.35                       4.1   \n",
       "497                              47.60                      26.6   \n",
       "498                              31.99                      18.0   \n",
       "499                              43.41                      23.5   \n",
       "\n",
       "     Mission Cost (billion USD)  Scientific Yield (points)  Crew Size  \\\n",
       "495                      274.82                       91.2         64   \n",
       "496                      379.71                       82.6         61   \n",
       "497                      296.45                       98.6         29   \n",
       "498                      457.38                       77.9         39   \n",
       "499                      449.40                       45.4         88   \n",
       "\n",
       "     Mission Success (%)  Fuel Consumption (tons)  Payload Weight (tons)  \\\n",
       "495                 96.2                  4837.16                  44.97   \n",
       "496                100.0                    62.59                  67.88   \n",
       "497                100.0                  4794.01                  51.38   \n",
       "498                100.0                  3102.16                  86.28   \n",
       "499                100.0                  4302.93                  86.74   \n",
       "\n",
       "    Launch Vehicle  \n",
       "495       Ariane 6  \n",
       "496            SLS  \n",
       "497   Falcon Heavy  \n",
       "498            SLS  \n",
       "499   Falcon Heavy  "
      ]
     },
     "execution_count": 37,
     "metadata": {},
     "output_type": "execute_result"
    }
   ],
   "source": [
    "print(\"\\nVamos a mostrar las ultimas 5 filas\")\n",
    "df.tail()"
   ]
  },
  {
   "cell_type": "code",
   "execution_count": 38,
   "metadata": {},
   "outputs": [
    {
     "name": "stdout",
     "output_type": "stream",
     "text": [
      "\n",
      "Vamos a mostrar 5 filas de forma aleatorias\n"
     ]
    },
    {
     "data": {
      "text/html": [
       "<div>\n",
       "<style scoped>\n",
       "    .dataframe tbody tr th:only-of-type {\n",
       "        vertical-align: middle;\n",
       "    }\n",
       "\n",
       "    .dataframe tbody tr th {\n",
       "        vertical-align: top;\n",
       "    }\n",
       "\n",
       "    .dataframe thead th {\n",
       "        text-align: right;\n",
       "    }\n",
       "</style>\n",
       "<table border=\"1\" class=\"dataframe\">\n",
       "  <thead>\n",
       "    <tr style=\"text-align: right;\">\n",
       "      <th></th>\n",
       "      <th>Mission ID</th>\n",
       "      <th>Mission Name</th>\n",
       "      <th>Launch Date</th>\n",
       "      <th>Target Type</th>\n",
       "      <th>Target Name</th>\n",
       "      <th>Mission Type</th>\n",
       "      <th>Distance from Earth (light-years)</th>\n",
       "      <th>Mission Duration (years)</th>\n",
       "      <th>Mission Cost (billion USD)</th>\n",
       "      <th>Scientific Yield (points)</th>\n",
       "      <th>Crew Size</th>\n",
       "      <th>Mission Success (%)</th>\n",
       "      <th>Fuel Consumption (tons)</th>\n",
       "      <th>Payload Weight (tons)</th>\n",
       "      <th>Launch Vehicle</th>\n",
       "    </tr>\n",
       "  </thead>\n",
       "  <tbody>\n",
       "    <tr>\n",
       "      <th>361</th>\n",
       "      <td>MSN-0362</td>\n",
       "      <td>Mission-362</td>\n",
       "      <td>2031-12-03</td>\n",
       "      <td>Star</td>\n",
       "      <td>Proxima b</td>\n",
       "      <td>Research</td>\n",
       "      <td>6.72</td>\n",
       "      <td>7.9</td>\n",
       "      <td>479.66</td>\n",
       "      <td>98.3</td>\n",
       "      <td>77</td>\n",
       "      <td>100.0</td>\n",
       "      <td>708.60</td>\n",
       "      <td>87.67</td>\n",
       "      <td>SLS</td>\n",
       "    </tr>\n",
       "    <tr>\n",
       "      <th>474</th>\n",
       "      <td>MSN-0475</td>\n",
       "      <td>Mission-475</td>\n",
       "      <td>2034-02-01</td>\n",
       "      <td>Asteroid</td>\n",
       "      <td>Titan</td>\n",
       "      <td>Mining</td>\n",
       "      <td>33.22</td>\n",
       "      <td>20.1</td>\n",
       "      <td>81.24</td>\n",
       "      <td>57.0</td>\n",
       "      <td>47</td>\n",
       "      <td>76.8</td>\n",
       "      <td>3390.49</td>\n",
       "      <td>12.92</td>\n",
       "      <td>Falcon Heavy</td>\n",
       "    </tr>\n",
       "    <tr>\n",
       "      <th>46</th>\n",
       "      <td>MSN-0047</td>\n",
       "      <td>Mission-47</td>\n",
       "      <td>2025-11-19</td>\n",
       "      <td>Moon</td>\n",
       "      <td>Io</td>\n",
       "      <td>Colonization</td>\n",
       "      <td>29.79</td>\n",
       "      <td>17.2</td>\n",
       "      <td>426.74</td>\n",
       "      <td>21.8</td>\n",
       "      <td>84</td>\n",
       "      <td>100.0</td>\n",
       "      <td>2880.23</td>\n",
       "      <td>75.76</td>\n",
       "      <td>Ariane 6</td>\n",
       "    </tr>\n",
       "    <tr>\n",
       "      <th>220</th>\n",
       "      <td>MSN-0221</td>\n",
       "      <td>Mission-221</td>\n",
       "      <td>2029-03-21</td>\n",
       "      <td>Moon</td>\n",
       "      <td>Proxima b</td>\n",
       "      <td>Mining</td>\n",
       "      <td>35.45</td>\n",
       "      <td>22.5</td>\n",
       "      <td>228.78</td>\n",
       "      <td>28.8</td>\n",
       "      <td>27</td>\n",
       "      <td>96.4</td>\n",
       "      <td>3530.13</td>\n",
       "      <td>42.42</td>\n",
       "      <td>SLS</td>\n",
       "    </tr>\n",
       "    <tr>\n",
       "      <th>110</th>\n",
       "      <td>MSN-0111</td>\n",
       "      <td>Mission-111</td>\n",
       "      <td>2027-02-10</td>\n",
       "      <td>Planet</td>\n",
       "      <td>Mars</td>\n",
       "      <td>Exploration</td>\n",
       "      <td>27.02</td>\n",
       "      <td>17.0</td>\n",
       "      <td>47.56</td>\n",
       "      <td>69.3</td>\n",
       "      <td>56</td>\n",
       "      <td>71.1</td>\n",
       "      <td>2775.11</td>\n",
       "      <td>8.93</td>\n",
       "      <td>Falcon Heavy</td>\n",
       "    </tr>\n",
       "  </tbody>\n",
       "</table>\n",
       "</div>"
      ],
      "text/plain": [
       "    Mission ID Mission Name Launch Date Target Type Target Name  Mission Type  \\\n",
       "361   MSN-0362  Mission-362  2031-12-03        Star   Proxima b      Research   \n",
       "474   MSN-0475  Mission-475  2034-02-01    Asteroid       Titan        Mining   \n",
       "46    MSN-0047   Mission-47  2025-11-19        Moon          Io  Colonization   \n",
       "220   MSN-0221  Mission-221  2029-03-21        Moon   Proxima b        Mining   \n",
       "110   MSN-0111  Mission-111  2027-02-10      Planet        Mars   Exploration   \n",
       "\n",
       "     Distance from Earth (light-years)  Mission Duration (years)  \\\n",
       "361                               6.72                       7.9   \n",
       "474                              33.22                      20.1   \n",
       "46                               29.79                      17.2   \n",
       "220                              35.45                      22.5   \n",
       "110                              27.02                      17.0   \n",
       "\n",
       "     Mission Cost (billion USD)  Scientific Yield (points)  Crew Size  \\\n",
       "361                      479.66                       98.3         77   \n",
       "474                       81.24                       57.0         47   \n",
       "46                       426.74                       21.8         84   \n",
       "220                      228.78                       28.8         27   \n",
       "110                       47.56                       69.3         56   \n",
       "\n",
       "     Mission Success (%)  Fuel Consumption (tons)  Payload Weight (tons)  \\\n",
       "361                100.0                   708.60                  87.67   \n",
       "474                 76.8                  3390.49                  12.92   \n",
       "46                 100.0                  2880.23                  75.76   \n",
       "220                 96.4                  3530.13                  42.42   \n",
       "110                 71.1                  2775.11                   8.93   \n",
       "\n",
       "    Launch Vehicle  \n",
       "361            SLS  \n",
       "474   Falcon Heavy  \n",
       "46        Ariane 6  \n",
       "220            SLS  \n",
       "110   Falcon Heavy  "
      ]
     },
     "execution_count": 38,
     "metadata": {},
     "output_type": "execute_result"
    }
   ],
   "source": [
    "print(\"\\nVamos a mostrar 5 filas de forma aleatorias\")\n",
    "df.sample(5)"
   ]
  },
  {
   "cell_type": "code",
   "execution_count": 39,
   "metadata": {},
   "outputs": [
    {
     "name": "stdout",
     "output_type": "stream",
     "text": [
      "\n",
      "Vamos a ver la cantidad de columnas\n"
     ]
    },
    {
     "data": {
      "text/plain": [
       "(500, 15)"
      ]
     },
     "execution_count": 39,
     "metadata": {},
     "output_type": "execute_result"
    }
   ],
   "source": [
    "print(\"\\nVamos a ver la cantidad de columnas\")\n",
    "df.shape"
   ]
  },
  {
   "cell_type": "code",
   "execution_count": 40,
   "metadata": {},
   "outputs": [
    {
     "name": "stdout",
     "output_type": "stream",
     "text": [
      "\n",
      "Listar nombres de las columnas\n"
     ]
    },
    {
     "data": {
      "text/plain": [
       "Index(['Mission ID', 'Mission Name', 'Launch Date', 'Target Type',\n",
       "       'Target Name', 'Mission Type', 'Distance from Earth (light-years)',\n",
       "       'Mission Duration (years)', 'Mission Cost (billion USD)',\n",
       "       'Scientific Yield (points)', 'Crew Size', 'Mission Success (%)',\n",
       "       'Fuel Consumption (tons)', 'Payload Weight (tons)', 'Launch Vehicle'],\n",
       "      dtype='object')"
      ]
     },
     "execution_count": 40,
     "metadata": {},
     "output_type": "execute_result"
    }
   ],
   "source": [
    "print(\"\\nListar nombres de las columnas\")\n",
    "df.columns"
   ]
  },
  {
   "cell_type": "code",
   "execution_count": 41,
   "metadata": {},
   "outputs": [
    {
     "name": "stdout",
     "output_type": "stream",
     "text": [
      "\n",
      "Ver indices del dataframe\n"
     ]
    },
    {
     "data": {
      "text/plain": [
       "RangeIndex(start=0, stop=500, step=1)"
      ]
     },
     "execution_count": 41,
     "metadata": {},
     "output_type": "execute_result"
    }
   ],
   "source": [
    "print(\"\\nVer indices del dataframe\")\n",
    "df.index"
   ]
  },
  {
   "cell_type": "code",
   "execution_count": 42,
   "metadata": {},
   "outputs": [
    {
     "name": "stdout",
     "output_type": "stream",
     "text": [
      "\n",
      "Listar tipos de datos de las columnas\n"
     ]
    },
    {
     "data": {
      "text/plain": [
       "Mission ID                            object\n",
       "Mission Name                          object\n",
       "Launch Date                           object\n",
       "Target Type                           object\n",
       "Target Name                           object\n",
       "Mission Type                          object\n",
       "Distance from Earth (light-years)    float64\n",
       "Mission Duration (years)             float64\n",
       "Mission Cost (billion USD)           float64\n",
       "Scientific Yield (points)            float64\n",
       "Crew Size                              int64\n",
       "Mission Success (%)                  float64\n",
       "Fuel Consumption (tons)              float64\n",
       "Payload Weight (tons)                float64\n",
       "Launch Vehicle                        object\n",
       "dtype: object"
      ]
     },
     "execution_count": 42,
     "metadata": {},
     "output_type": "execute_result"
    }
   ],
   "source": [
    "print(\"\\nListar tipos de datos de las columnas\")\n",
    "df.dtypes"
   ]
  },
  {
   "cell_type": "code",
   "execution_count": 47,
   "metadata": {},
   "outputs": [
    {
     "name": "stdout",
     "output_type": "stream",
     "text": [
      "\n",
      "Información general sobre el dataframe\n",
      "<class 'pandas.core.frame.DataFrame'>\n",
      "RangeIndex: 500 entries, 0 to 499\n",
      "Data columns (total 15 columns):\n",
      " #   Column                             Non-Null Count  Dtype  \n",
      "---  ------                             --------------  -----  \n",
      " 0   Mission ID                         500 non-null    object \n",
      " 1   Mission Name                       500 non-null    object \n",
      " 2   Launch Date                        500 non-null    object \n",
      " 3   Target Type                        500 non-null    object \n",
      " 4   Target Name                        500 non-null    object \n",
      " 5   Mission Type                       500 non-null    object \n",
      " 6   Distance from Earth (light-years)  500 non-null    float64\n",
      " 7   Mission Duration (years)           500 non-null    float64\n",
      " 8   Mission Cost (billion USD)         500 non-null    float64\n",
      " 9   Scientific Yield (points)          500 non-null    float64\n",
      " 10  Crew Size                          500 non-null    int64  \n",
      " 11  Mission Success (%)                500 non-null    float64\n",
      " 12  Fuel Consumption (tons)            500 non-null    float64\n",
      " 13  Payload Weight (tons)              500 non-null    float64\n",
      " 14  Launch Vehicle                     500 non-null    object \n",
      "dtypes: float64(7), int64(1), object(7)\n",
      "memory usage: 58.7+ KB\n"
     ]
    }
   ],
   "source": [
    "print(\"\\nInformación general sobre el dataframe\")\n",
    "df.info()"
   ]
  },
  {
   "cell_type": "code",
   "execution_count": null,
   "metadata": {},
   "outputs": [
    {
     "name": "stdout",
     "output_type": "stream",
     "text": [
      "\n",
      "Estadisticas basics de columnas numericas\n"
     ]
    },
    {
     "data": {
      "text/html": [
       "<div>\n",
       "<style scoped>\n",
       "    .dataframe tbody tr th:only-of-type {\n",
       "        vertical-align: middle;\n",
       "    }\n",
       "\n",
       "    .dataframe tbody tr th {\n",
       "        vertical-align: top;\n",
       "    }\n",
       "\n",
       "    .dataframe thead th {\n",
       "        text-align: right;\n",
       "    }\n",
       "</style>\n",
       "<table border=\"1\" class=\"dataframe\">\n",
       "  <thead>\n",
       "    <tr style=\"text-align: right;\">\n",
       "      <th></th>\n",
       "      <th>Distance from Earth (light-years)</th>\n",
       "      <th>Mission Duration (years)</th>\n",
       "      <th>Mission Cost (billion USD)</th>\n",
       "      <th>Scientific Yield (points)</th>\n",
       "      <th>Crew Size</th>\n",
       "      <th>Mission Success (%)</th>\n",
       "      <th>Fuel Consumption (tons)</th>\n",
       "      <th>Payload Weight (tons)</th>\n",
       "    </tr>\n",
       "  </thead>\n",
       "  <tbody>\n",
       "    <tr>\n",
       "      <th>count</th>\n",
       "      <td>500.000000</td>\n",
       "      <td>500.000000</td>\n",
       "      <td>500.000000</td>\n",
       "      <td>500.000000</td>\n",
       "      <td>500.000000</td>\n",
       "      <td>500.000000</td>\n",
       "      <td>500.000000</td>\n",
       "      <td>500.000000</td>\n",
       "    </tr>\n",
       "    <tr>\n",
       "      <th>mean</th>\n",
       "      <td>25.483060</td>\n",
       "      <td>15.736800</td>\n",
       "      <td>277.300280</td>\n",
       "      <td>55.223400</td>\n",
       "      <td>50.118000</td>\n",
       "      <td>92.616600</td>\n",
       "      <td>2543.522140</td>\n",
       "      <td>50.355620</td>\n",
       "    </tr>\n",
       "    <tr>\n",
       "      <th>std</th>\n",
       "      <td>14.942128</td>\n",
       "      <td>7.578316</td>\n",
       "      <td>141.137422</td>\n",
       "      <td>26.446232</td>\n",
       "      <td>27.660989</td>\n",
       "      <td>9.391094</td>\n",
       "      <td>1492.964489</td>\n",
       "      <td>28.227546</td>\n",
       "    </tr>\n",
       "    <tr>\n",
       "      <th>min</th>\n",
       "      <td>0.350000</td>\n",
       "      <td>1.400000</td>\n",
       "      <td>13.320000</td>\n",
       "      <td>10.000000</td>\n",
       "      <td>1.000000</td>\n",
       "      <td>66.000000</td>\n",
       "      <td>18.060000</td>\n",
       "      <td>1.020000</td>\n",
       "    </tr>\n",
       "    <tr>\n",
       "      <th>25%</th>\n",
       "      <td>11.750000</td>\n",
       "      <td>8.900000</td>\n",
       "      <td>149.960000</td>\n",
       "      <td>33.775000</td>\n",
       "      <td>27.000000</td>\n",
       "      <td>85.500000</td>\n",
       "      <td>1177.315000</td>\n",
       "      <td>25.567500</td>\n",
       "    </tr>\n",
       "    <tr>\n",
       "      <th>50%</th>\n",
       "      <td>26.185000</td>\n",
       "      <td>16.400000</td>\n",
       "      <td>282.170000</td>\n",
       "      <td>54.400000</td>\n",
       "      <td>50.000000</td>\n",
       "      <td>98.600000</td>\n",
       "      <td>2597.985000</td>\n",
       "      <td>50.995000</td>\n",
       "    </tr>\n",
       "    <tr>\n",
       "      <th>75%</th>\n",
       "      <td>38.570000</td>\n",
       "      <td>22.200000</td>\n",
       "      <td>399.995000</td>\n",
       "      <td>79.025000</td>\n",
       "      <td>74.000000</td>\n",
       "      <td>100.000000</td>\n",
       "      <td>3859.355000</td>\n",
       "      <td>74.482500</td>\n",
       "    </tr>\n",
       "    <tr>\n",
       "      <th>max</th>\n",
       "      <td>49.900000</td>\n",
       "      <td>29.500000</td>\n",
       "      <td>538.320000</td>\n",
       "      <td>99.800000</td>\n",
       "      <td>99.000000</td>\n",
       "      <td>100.000000</td>\n",
       "      <td>5018.600000</td>\n",
       "      <td>99.780000</td>\n",
       "    </tr>\n",
       "  </tbody>\n",
       "</table>\n",
       "</div>"
      ],
      "text/plain": [
       "       Distance from Earth (light-years)  Mission Duration (years)  \\\n",
       "count                         500.000000                500.000000   \n",
       "mean                           25.483060                 15.736800   \n",
       "std                            14.942128                  7.578316   \n",
       "min                             0.350000                  1.400000   \n",
       "25%                            11.750000                  8.900000   \n",
       "50%                            26.185000                 16.400000   \n",
       "75%                            38.570000                 22.200000   \n",
       "max                            49.900000                 29.500000   \n",
       "\n",
       "       Mission Cost (billion USD)  Scientific Yield (points)   Crew Size  \\\n",
       "count                  500.000000                 500.000000  500.000000   \n",
       "mean                   277.300280                  55.223400   50.118000   \n",
       "std                    141.137422                  26.446232   27.660989   \n",
       "min                     13.320000                  10.000000    1.000000   \n",
       "25%                    149.960000                  33.775000   27.000000   \n",
       "50%                    282.170000                  54.400000   50.000000   \n",
       "75%                    399.995000                  79.025000   74.000000   \n",
       "max                    538.320000                  99.800000   99.000000   \n",
       "\n",
       "       Mission Success (%)  Fuel Consumption (tons)  Payload Weight (tons)  \n",
       "count           500.000000               500.000000             500.000000  \n",
       "mean             92.616600              2543.522140              50.355620  \n",
       "std               9.391094              1492.964489              28.227546  \n",
       "min              66.000000                18.060000               1.020000  \n",
       "25%              85.500000              1177.315000              25.567500  \n",
       "50%              98.600000              2597.985000              50.995000  \n",
       "75%             100.000000              3859.355000              74.482500  \n",
       "max             100.000000              5018.600000              99.780000  "
      ]
     },
     "execution_count": 44,
     "metadata": {},
     "output_type": "execute_result"
    }
   ],
   "source": [
    "print(\"\\nEstadísticas basics de columnas numéricas\")\n",
    "df.describe()"
   ]
  },
  {
   "cell_type": "code",
   "execution_count": null,
   "metadata": {},
   "outputs": [
    {
     "name": "stdout",
     "output_type": "stream",
     "text": [
      "\n",
      "Estadisticas de todas las columnas\n"
     ]
    },
    {
     "data": {
      "text/html": [
       "<div>\n",
       "<style scoped>\n",
       "    .dataframe tbody tr th:only-of-type {\n",
       "        vertical-align: middle;\n",
       "    }\n",
       "\n",
       "    .dataframe tbody tr th {\n",
       "        vertical-align: top;\n",
       "    }\n",
       "\n",
       "    .dataframe thead th {\n",
       "        text-align: right;\n",
       "    }\n",
       "</style>\n",
       "<table border=\"1\" class=\"dataframe\">\n",
       "  <thead>\n",
       "    <tr style=\"text-align: right;\">\n",
       "      <th></th>\n",
       "      <th>Mission ID</th>\n",
       "      <th>Mission Name</th>\n",
       "      <th>Launch Date</th>\n",
       "      <th>Target Type</th>\n",
       "      <th>Target Name</th>\n",
       "      <th>Mission Type</th>\n",
       "      <th>Distance from Earth (light-years)</th>\n",
       "      <th>Mission Duration (years)</th>\n",
       "      <th>Mission Cost (billion USD)</th>\n",
       "      <th>Scientific Yield (points)</th>\n",
       "      <th>Crew Size</th>\n",
       "      <th>Mission Success (%)</th>\n",
       "      <th>Fuel Consumption (tons)</th>\n",
       "      <th>Payload Weight (tons)</th>\n",
       "      <th>Launch Vehicle</th>\n",
       "    </tr>\n",
       "  </thead>\n",
       "  <tbody>\n",
       "    <tr>\n",
       "      <th>count</th>\n",
       "      <td>500</td>\n",
       "      <td>500</td>\n",
       "      <td>500</td>\n",
       "      <td>500</td>\n",
       "      <td>500</td>\n",
       "      <td>500</td>\n",
       "      <td>500.000000</td>\n",
       "      <td>500.000000</td>\n",
       "      <td>500.000000</td>\n",
       "      <td>500.000000</td>\n",
       "      <td>500.000000</td>\n",
       "      <td>500.000000</td>\n",
       "      <td>500.000000</td>\n",
       "      <td>500.000000</td>\n",
       "      <td>500</td>\n",
       "    </tr>\n",
       "    <tr>\n",
       "      <th>unique</th>\n",
       "      <td>500</td>\n",
       "      <td>500</td>\n",
       "      <td>500</td>\n",
       "      <td>5</td>\n",
       "      <td>7</td>\n",
       "      <td>4</td>\n",
       "      <td>NaN</td>\n",
       "      <td>NaN</td>\n",
       "      <td>NaN</td>\n",
       "      <td>NaN</td>\n",
       "      <td>NaN</td>\n",
       "      <td>NaN</td>\n",
       "      <td>NaN</td>\n",
       "      <td>NaN</td>\n",
       "      <td>4</td>\n",
       "    </tr>\n",
       "    <tr>\n",
       "      <th>top</th>\n",
       "      <td>MSN-0001</td>\n",
       "      <td>Mission-1</td>\n",
       "      <td>2025-01-01</td>\n",
       "      <td>Star</td>\n",
       "      <td>Proxima b</td>\n",
       "      <td>Research</td>\n",
       "      <td>NaN</td>\n",
       "      <td>NaN</td>\n",
       "      <td>NaN</td>\n",
       "      <td>NaN</td>\n",
       "      <td>NaN</td>\n",
       "      <td>NaN</td>\n",
       "      <td>NaN</td>\n",
       "      <td>NaN</td>\n",
       "      <td>Starship</td>\n",
       "    </tr>\n",
       "    <tr>\n",
       "      <th>freq</th>\n",
       "      <td>1</td>\n",
       "      <td>1</td>\n",
       "      <td>1</td>\n",
       "      <td>112</td>\n",
       "      <td>81</td>\n",
       "      <td>132</td>\n",
       "      <td>NaN</td>\n",
       "      <td>NaN</td>\n",
       "      <td>NaN</td>\n",
       "      <td>NaN</td>\n",
       "      <td>NaN</td>\n",
       "      <td>NaN</td>\n",
       "      <td>NaN</td>\n",
       "      <td>NaN</td>\n",
       "      <td>140</td>\n",
       "    </tr>\n",
       "    <tr>\n",
       "      <th>mean</th>\n",
       "      <td>NaN</td>\n",
       "      <td>NaN</td>\n",
       "      <td>NaN</td>\n",
       "      <td>NaN</td>\n",
       "      <td>NaN</td>\n",
       "      <td>NaN</td>\n",
       "      <td>25.483060</td>\n",
       "      <td>15.736800</td>\n",
       "      <td>277.300280</td>\n",
       "      <td>55.223400</td>\n",
       "      <td>50.118000</td>\n",
       "      <td>92.616600</td>\n",
       "      <td>2543.522140</td>\n",
       "      <td>50.355620</td>\n",
       "      <td>NaN</td>\n",
       "    </tr>\n",
       "    <tr>\n",
       "      <th>std</th>\n",
       "      <td>NaN</td>\n",
       "      <td>NaN</td>\n",
       "      <td>NaN</td>\n",
       "      <td>NaN</td>\n",
       "      <td>NaN</td>\n",
       "      <td>NaN</td>\n",
       "      <td>14.942128</td>\n",
       "      <td>7.578316</td>\n",
       "      <td>141.137422</td>\n",
       "      <td>26.446232</td>\n",
       "      <td>27.660989</td>\n",
       "      <td>9.391094</td>\n",
       "      <td>1492.964489</td>\n",
       "      <td>28.227546</td>\n",
       "      <td>NaN</td>\n",
       "    </tr>\n",
       "    <tr>\n",
       "      <th>min</th>\n",
       "      <td>NaN</td>\n",
       "      <td>NaN</td>\n",
       "      <td>NaN</td>\n",
       "      <td>NaN</td>\n",
       "      <td>NaN</td>\n",
       "      <td>NaN</td>\n",
       "      <td>0.350000</td>\n",
       "      <td>1.400000</td>\n",
       "      <td>13.320000</td>\n",
       "      <td>10.000000</td>\n",
       "      <td>1.000000</td>\n",
       "      <td>66.000000</td>\n",
       "      <td>18.060000</td>\n",
       "      <td>1.020000</td>\n",
       "      <td>NaN</td>\n",
       "    </tr>\n",
       "    <tr>\n",
       "      <th>25%</th>\n",
       "      <td>NaN</td>\n",
       "      <td>NaN</td>\n",
       "      <td>NaN</td>\n",
       "      <td>NaN</td>\n",
       "      <td>NaN</td>\n",
       "      <td>NaN</td>\n",
       "      <td>11.750000</td>\n",
       "      <td>8.900000</td>\n",
       "      <td>149.960000</td>\n",
       "      <td>33.775000</td>\n",
       "      <td>27.000000</td>\n",
       "      <td>85.500000</td>\n",
       "      <td>1177.315000</td>\n",
       "      <td>25.567500</td>\n",
       "      <td>NaN</td>\n",
       "    </tr>\n",
       "    <tr>\n",
       "      <th>50%</th>\n",
       "      <td>NaN</td>\n",
       "      <td>NaN</td>\n",
       "      <td>NaN</td>\n",
       "      <td>NaN</td>\n",
       "      <td>NaN</td>\n",
       "      <td>NaN</td>\n",
       "      <td>26.185000</td>\n",
       "      <td>16.400000</td>\n",
       "      <td>282.170000</td>\n",
       "      <td>54.400000</td>\n",
       "      <td>50.000000</td>\n",
       "      <td>98.600000</td>\n",
       "      <td>2597.985000</td>\n",
       "      <td>50.995000</td>\n",
       "      <td>NaN</td>\n",
       "    </tr>\n",
       "    <tr>\n",
       "      <th>75%</th>\n",
       "      <td>NaN</td>\n",
       "      <td>NaN</td>\n",
       "      <td>NaN</td>\n",
       "      <td>NaN</td>\n",
       "      <td>NaN</td>\n",
       "      <td>NaN</td>\n",
       "      <td>38.570000</td>\n",
       "      <td>22.200000</td>\n",
       "      <td>399.995000</td>\n",
       "      <td>79.025000</td>\n",
       "      <td>74.000000</td>\n",
       "      <td>100.000000</td>\n",
       "      <td>3859.355000</td>\n",
       "      <td>74.482500</td>\n",
       "      <td>NaN</td>\n",
       "    </tr>\n",
       "    <tr>\n",
       "      <th>max</th>\n",
       "      <td>NaN</td>\n",
       "      <td>NaN</td>\n",
       "      <td>NaN</td>\n",
       "      <td>NaN</td>\n",
       "      <td>NaN</td>\n",
       "      <td>NaN</td>\n",
       "      <td>49.900000</td>\n",
       "      <td>29.500000</td>\n",
       "      <td>538.320000</td>\n",
       "      <td>99.800000</td>\n",
       "      <td>99.000000</td>\n",
       "      <td>100.000000</td>\n",
       "      <td>5018.600000</td>\n",
       "      <td>99.780000</td>\n",
       "      <td>NaN</td>\n",
       "    </tr>\n",
       "  </tbody>\n",
       "</table>\n",
       "</div>"
      ],
      "text/plain": [
       "       Mission ID Mission Name Launch Date Target Type Target Name  \\\n",
       "count         500          500         500         500         500   \n",
       "unique        500          500         500           5           7   \n",
       "top      MSN-0001    Mission-1  2025-01-01        Star   Proxima b   \n",
       "freq            1            1           1         112          81   \n",
       "mean          NaN          NaN         NaN         NaN         NaN   \n",
       "std           NaN          NaN         NaN         NaN         NaN   \n",
       "min           NaN          NaN         NaN         NaN         NaN   \n",
       "25%           NaN          NaN         NaN         NaN         NaN   \n",
       "50%           NaN          NaN         NaN         NaN         NaN   \n",
       "75%           NaN          NaN         NaN         NaN         NaN   \n",
       "max           NaN          NaN         NaN         NaN         NaN   \n",
       "\n",
       "       Mission Type  Distance from Earth (light-years)  \\\n",
       "count           500                         500.000000   \n",
       "unique            4                                NaN   \n",
       "top        Research                                NaN   \n",
       "freq            132                                NaN   \n",
       "mean            NaN                          25.483060   \n",
       "std             NaN                          14.942128   \n",
       "min             NaN                           0.350000   \n",
       "25%             NaN                          11.750000   \n",
       "50%             NaN                          26.185000   \n",
       "75%             NaN                          38.570000   \n",
       "max             NaN                          49.900000   \n",
       "\n",
       "        Mission Duration (years)  Mission Cost (billion USD)  \\\n",
       "count                 500.000000                  500.000000   \n",
       "unique                       NaN                         NaN   \n",
       "top                          NaN                         NaN   \n",
       "freq                         NaN                         NaN   \n",
       "mean                   15.736800                  277.300280   \n",
       "std                     7.578316                  141.137422   \n",
       "min                     1.400000                   13.320000   \n",
       "25%                     8.900000                  149.960000   \n",
       "50%                    16.400000                  282.170000   \n",
       "75%                    22.200000                  399.995000   \n",
       "max                    29.500000                  538.320000   \n",
       "\n",
       "        Scientific Yield (points)   Crew Size  Mission Success (%)  \\\n",
       "count                  500.000000  500.000000           500.000000   \n",
       "unique                        NaN         NaN                  NaN   \n",
       "top                           NaN         NaN                  NaN   \n",
       "freq                          NaN         NaN                  NaN   \n",
       "mean                    55.223400   50.118000            92.616600   \n",
       "std                     26.446232   27.660989             9.391094   \n",
       "min                     10.000000    1.000000            66.000000   \n",
       "25%                     33.775000   27.000000            85.500000   \n",
       "50%                     54.400000   50.000000            98.600000   \n",
       "75%                     79.025000   74.000000           100.000000   \n",
       "max                     99.800000   99.000000           100.000000   \n",
       "\n",
       "        Fuel Consumption (tons)  Payload Weight (tons) Launch Vehicle  \n",
       "count                500.000000             500.000000            500  \n",
       "unique                      NaN                    NaN              4  \n",
       "top                         NaN                    NaN       Starship  \n",
       "freq                        NaN                    NaN            140  \n",
       "mean                2543.522140              50.355620            NaN  \n",
       "std                 1492.964489              28.227546            NaN  \n",
       "min                   18.060000               1.020000            NaN  \n",
       "25%                 1177.315000              25.567500            NaN  \n",
       "50%                 2597.985000              50.995000            NaN  \n",
       "75%                 3859.355000              74.482500            NaN  \n",
       "max                 5018.600000              99.780000            NaN  "
      ]
     },
     "execution_count": 45,
     "metadata": {},
     "output_type": "execute_result"
    }
   ],
   "source": [
    "print(\"\\nEstadísticas de todas las columnas\")\n",
    "df.describe(include=\"all\")"
   ]
  },
  {
   "cell_type": "code",
   "execution_count": 46,
   "metadata": {},
   "outputs": [
    {
     "name": "stdout",
     "output_type": "stream",
     "text": [
      "\n",
      "Ver el consumo de la memoria\n"
     ]
    },
    {
     "data": {
      "text/plain": [
       "<bound method DataFrame.memory_usage of     Mission ID Mission Name Launch Date Target Type Target Name  Mission Type  \\\n",
       "0     MSN-0001    Mission-1  2025-01-01        Star       Titan  Colonization   \n",
       "1     MSN-0002    Mission-2  2025-01-08   Exoplanet  Betelgeuse  Colonization   \n",
       "2     MSN-0003    Mission-3  2025-01-15    Asteroid        Mars   Exploration   \n",
       "3     MSN-0004    Mission-4  2025-01-22   Exoplanet       Titan  Colonization   \n",
       "4     MSN-0005    Mission-5  2025-01-29   Exoplanet   Proxima b        Mining   \n",
       "..         ...          ...         ...         ...         ...           ...   \n",
       "495   MSN-0496  Mission-496  2034-06-28      Planet  Betelgeuse  Colonization   \n",
       "496   MSN-0497  Mission-497  2034-07-05    Asteroid  Betelgeuse   Exploration   \n",
       "497   MSN-0498  Mission-498  2034-07-12      Planet       Ceres   Exploration   \n",
       "498   MSN-0499  Mission-499  2034-07-19      Planet  Betelgeuse      Research   \n",
       "499   MSN-0500  Mission-500  2034-07-26      Planet          Io   Exploration   \n",
       "\n",
       "     Distance from Earth (light-years)  Mission Duration (years)  \\\n",
       "0                                 7.05                       5.2   \n",
       "1                                41.76                      23.0   \n",
       "2                                49.22                      28.8   \n",
       "3                                26.33                      17.8   \n",
       "4                                 8.67                       9.2   \n",
       "..                                 ...                       ...   \n",
       "495                              48.26                      25.3   \n",
       "496                               0.35                       4.1   \n",
       "497                              47.60                      26.6   \n",
       "498                              31.99                      18.0   \n",
       "499                              43.41                      23.5   \n",
       "\n",
       "     Mission Cost (billion USD)  Scientific Yield (points)  Crew Size  \\\n",
       "0                        526.68                       64.3         21   \n",
       "1                        234.08                       84.4         72   \n",
       "2                        218.68                       98.6         16   \n",
       "3                        232.89                       36.0         59   \n",
       "4                         72.14                       96.5         31   \n",
       "..                          ...                        ...        ...   \n",
       "495                      274.82                       91.2         64   \n",
       "496                      379.71                       82.6         61   \n",
       "497                      296.45                       98.6         29   \n",
       "498                      457.38                       77.9         39   \n",
       "499                      449.40                       45.4         88   \n",
       "\n",
       "     Mission Success (%)  Fuel Consumption (tons)  Payload Weight (tons)  \\\n",
       "0                  100.0                   731.88                  99.78   \n",
       "1                   89.6                  4197.41                  45.72   \n",
       "2                   98.6                  4908.00                  36.12   \n",
       "3                   90.0                  2569.05                  40.67   \n",
       "4                   73.2                   892.76                  12.40   \n",
       "..                   ...                      ...                    ...   \n",
       "495                 96.2                  4837.16                  44.97   \n",
       "496                100.0                    62.59                  67.88   \n",
       "497                100.0                  4794.01                  51.38   \n",
       "498                100.0                  3102.16                  86.28   \n",
       "499                100.0                  4302.93                  86.74   \n",
       "\n",
       "    Launch Vehicle  \n",
       "0              SLS  \n",
       "1         Starship  \n",
       "2         Starship  \n",
       "3         Starship  \n",
       "4         Starship  \n",
       "..             ...  \n",
       "495       Ariane 6  \n",
       "496            SLS  \n",
       "497   Falcon Heavy  \n",
       "498            SLS  \n",
       "499   Falcon Heavy  \n",
       "\n",
       "[500 rows x 15 columns]>"
      ]
     },
     "execution_count": 46,
     "metadata": {},
     "output_type": "execute_result"
    }
   ],
   "source": [
    "print(\"\\nVer el consumo de la memoria\")\n",
    "df.memory_usage"
   ]
  },
  {
   "cell_type": "markdown",
   "metadata": {},
   "source": [
    "Manejo de valores nulos"
   ]
  },
  {
   "cell_type": "code",
   "execution_count": 50,
   "metadata": {},
   "outputs": [
    {
     "name": "stdout",
     "output_type": "stream",
     "text": [
      "\n",
      "Se muestra el numero de valores nulos en cada columna.\n"
     ]
    },
    {
     "data": {
      "text/plain": [
       "Mission ID                           0\n",
       "Mission Name                         0\n",
       "Launch Date                          0\n",
       "Target Type                          0\n",
       "Target Name                          0\n",
       "Mission Type                         0\n",
       "Distance from Earth (light-years)    0\n",
       "Mission Duration (years)             0\n",
       "Mission Cost (billion USD)           0\n",
       "Scientific Yield (points)            0\n",
       "Crew Size                            0\n",
       "Mission Success (%)                  0\n",
       "Fuel Consumption (tons)              0\n",
       "Payload Weight (tons)                0\n",
       "Launch Vehicle                       0\n",
       "dtype: int64"
      ]
     },
     "execution_count": 50,
     "metadata": {},
     "output_type": "execute_result"
    }
   ],
   "source": [
    "print(\"\\nSe muestra el numero de valores nulos en cada columna.\")\n",
    "df.isnull().sum()"
   ]
  },
  {
   "cell_type": "markdown",
   "metadata": {},
   "source": [
    "-Podemos eliminar calores nulos. pero como podemos ver este dataframe esta completo asi que solo comparto las instrucciones en caso de que un data si tenga valores nulos.\n",
    "\n",
    "- df_sin_nulos = df.dropna()\n",
    "\n",
    "- df_sin_columnas_nulas = df.dropna(axis=1)\n",
    "\n",
    "Estas lineas son para rellenar valores faltantes. \n",
    "\n",
    "- df[\"Target Type\"].fillna(df[\"Target Type\"].mean(), inplace=True)  # Rellenar con la media\n",
    "\n",
    "- df[\"Mission Type \"].fillna(\"Desconocido\", inplace=True)     # Rellenar con un valor fijo\n"
   ]
  },
  {
   "cell_type": "markdown",
   "metadata": {},
   "source": [
    "Analisis de frecuencias.\n",
    "- Podemos contar cuantas veces aparece cada valor en una columna categorica. "
   ]
  },
  {
   "cell_type": "code",
   "execution_count": 51,
   "metadata": {},
   "outputs": [
    {
     "name": "stdout",
     "output_type": "stream",
     "text": [
      "Mission Name\n",
      "Mission-1      1\n",
      "Mission-330    1\n",
      "Mission-343    1\n",
      "Mission-342    1\n",
      "Mission-341    1\n",
      "              ..\n",
      "Mission-162    1\n",
      "Mission-161    1\n",
      "Mission-160    1\n",
      "Mission-159    1\n",
      "Mission-500    1\n",
      "Name: count, Length: 500, dtype: int64\n"
     ]
    }
   ],
   "source": [
    "print(df[\"Mission Name\"].value_counts())"
   ]
  },
  {
   "cell_type": "code",
   "execution_count": 52,
   "metadata": {},
   "outputs": [
    {
     "name": "stdout",
     "output_type": "stream",
     "text": [
      "Mission Duration (years)\n",
      "26.6    7\n",
      "19.0    6\n",
      "25.8    6\n",
      "8.9     6\n",
      "26.1    6\n",
      "       ..\n",
      "8.1     1\n",
      "29.5    1\n",
      "18.8    1\n",
      "12.6    1\n",
      "17.3    1\n",
      "Name: count, Length: 231, dtype: int64\n"
     ]
    }
   ],
   "source": [
    "print(df[\"Mission Duration (years)\"].value_counts())"
   ]
  },
  {
   "cell_type": "markdown",
   "metadata": {},
   "source": [
    "Instrucciones completas para trabajar con valores nulos.\n",
    "\n",
    "- df.isnull().sum()   # Contar valores nulos en cada columna.  \n",
    "- df.notnull().sum()  # Contar valores NO nulos.  \n",
    "- df.dropna()         # Eliminar filas con valores nulos.  \n",
    "- df.dropna(axis=1)   # Eliminar columnas con valores nulos.  \n",
    "- df.fillna(0)        # Reemplazar valores nulos con 0.  \n",
    "- df.fillna(df.mean())  # Rellenar con la media.  \n",
    "- df.fillna(df.median())  # Rellenar con la mediana.  \n",
    "- df.fillna(method=\"ffill\")  # Rellenar con el valor anterior.  \n",
    "- df.fillna(method=\"bfill\")  # Rellenar con el siguiente valor.  \n",
    "- df.interpolate()  # Rellenar valores nulos interpolando.  \n",
    "\n",
    "Buscaremos un dataframe que tenga valores nulos y asi poder probar esta lista de instrucciones.\n"
   ]
  },
  {
   "cell_type": "markdown",
   "metadata": {},
   "source": [
    "Duplicados"
   ]
  },
  {
   "cell_type": "code",
   "execution_count": 55,
   "metadata": {},
   "outputs": [
    {
     "name": "stdout",
     "output_type": "stream",
     "text": [
      "\n",
      "Conteo de filas duplicadas\n",
      "\n",
      "Eliminar duplicados\n",
      "\n",
      "Eliminar duplicados en una columna\n"
     ]
    },
    {
     "data": {
      "text/html": [
       "<div>\n",
       "<style scoped>\n",
       "    .dataframe tbody tr th:only-of-type {\n",
       "        vertical-align: middle;\n",
       "    }\n",
       "\n",
       "    .dataframe tbody tr th {\n",
       "        vertical-align: top;\n",
       "    }\n",
       "\n",
       "    .dataframe thead th {\n",
       "        text-align: right;\n",
       "    }\n",
       "</style>\n",
       "<table border=\"1\" class=\"dataframe\">\n",
       "  <thead>\n",
       "    <tr style=\"text-align: right;\">\n",
       "      <th></th>\n",
       "      <th>Mission ID</th>\n",
       "      <th>Mission Name</th>\n",
       "      <th>Launch Date</th>\n",
       "      <th>Target Type</th>\n",
       "      <th>Target Name</th>\n",
       "      <th>Mission Type</th>\n",
       "      <th>Distance from Earth (light-years)</th>\n",
       "      <th>Mission Duration (years)</th>\n",
       "      <th>Mission Cost (billion USD)</th>\n",
       "      <th>Scientific Yield (points)</th>\n",
       "      <th>Crew Size</th>\n",
       "      <th>Mission Success (%)</th>\n",
       "      <th>Fuel Consumption (tons)</th>\n",
       "      <th>Payload Weight (tons)</th>\n",
       "      <th>Launch Vehicle</th>\n",
       "    </tr>\n",
       "  </thead>\n",
       "  <tbody>\n",
       "    <tr>\n",
       "      <th>0</th>\n",
       "      <td>MSN-0001</td>\n",
       "      <td>Mission-1</td>\n",
       "      <td>2025-01-01</td>\n",
       "      <td>Star</td>\n",
       "      <td>Titan</td>\n",
       "      <td>Colonization</td>\n",
       "      <td>7.05</td>\n",
       "      <td>5.2</td>\n",
       "      <td>526.68</td>\n",
       "      <td>64.3</td>\n",
       "      <td>21</td>\n",
       "      <td>100.0</td>\n",
       "      <td>731.88</td>\n",
       "      <td>99.78</td>\n",
       "      <td>SLS</td>\n",
       "    </tr>\n",
       "    <tr>\n",
       "      <th>1</th>\n",
       "      <td>MSN-0002</td>\n",
       "      <td>Mission-2</td>\n",
       "      <td>2025-01-08</td>\n",
       "      <td>Exoplanet</td>\n",
       "      <td>Betelgeuse</td>\n",
       "      <td>Colonization</td>\n",
       "      <td>41.76</td>\n",
       "      <td>23.0</td>\n",
       "      <td>234.08</td>\n",
       "      <td>84.4</td>\n",
       "      <td>72</td>\n",
       "      <td>89.6</td>\n",
       "      <td>4197.41</td>\n",
       "      <td>45.72</td>\n",
       "      <td>Starship</td>\n",
       "    </tr>\n",
       "    <tr>\n",
       "      <th>2</th>\n",
       "      <td>MSN-0003</td>\n",
       "      <td>Mission-3</td>\n",
       "      <td>2025-01-15</td>\n",
       "      <td>Asteroid</td>\n",
       "      <td>Mars</td>\n",
       "      <td>Exploration</td>\n",
       "      <td>49.22</td>\n",
       "      <td>28.8</td>\n",
       "      <td>218.68</td>\n",
       "      <td>98.6</td>\n",
       "      <td>16</td>\n",
       "      <td>98.6</td>\n",
       "      <td>4908.00</td>\n",
       "      <td>36.12</td>\n",
       "      <td>Starship</td>\n",
       "    </tr>\n",
       "    <tr>\n",
       "      <th>4</th>\n",
       "      <td>MSN-0005</td>\n",
       "      <td>Mission-5</td>\n",
       "      <td>2025-01-29</td>\n",
       "      <td>Exoplanet</td>\n",
       "      <td>Proxima b</td>\n",
       "      <td>Mining</td>\n",
       "      <td>8.67</td>\n",
       "      <td>9.2</td>\n",
       "      <td>72.14</td>\n",
       "      <td>96.5</td>\n",
       "      <td>31</td>\n",
       "      <td>73.2</td>\n",
       "      <td>892.76</td>\n",
       "      <td>12.40</td>\n",
       "      <td>Starship</td>\n",
       "    </tr>\n",
       "    <tr>\n",
       "      <th>5</th>\n",
       "      <td>MSN-0006</td>\n",
       "      <td>Mission-6</td>\n",
       "      <td>2025-02-05</td>\n",
       "      <td>Moon</td>\n",
       "      <td>Ceres</td>\n",
       "      <td>Colonization</td>\n",
       "      <td>13.69</td>\n",
       "      <td>8.8</td>\n",
       "      <td>452.42</td>\n",
       "      <td>45.1</td>\n",
       "      <td>42</td>\n",
       "      <td>100.0</td>\n",
       "      <td>1327.29</td>\n",
       "      <td>88.44</td>\n",
       "      <td>Ariane 6</td>\n",
       "    </tr>\n",
       "    <tr>\n",
       "      <th>15</th>\n",
       "      <td>MSN-0016</td>\n",
       "      <td>Mission-16</td>\n",
       "      <td>2025-04-16</td>\n",
       "      <td>Moon</td>\n",
       "      <td>Io</td>\n",
       "      <td>Exploration</td>\n",
       "      <td>0.65</td>\n",
       "      <td>3.1</td>\n",
       "      <td>495.63</td>\n",
       "      <td>37.2</td>\n",
       "      <td>86</td>\n",
       "      <td>100.0</td>\n",
       "      <td>159.52</td>\n",
       "      <td>95.50</td>\n",
       "      <td>Starship</td>\n",
       "    </tr>\n",
       "    <tr>\n",
       "      <th>21</th>\n",
       "      <td>MSN-0022</td>\n",
       "      <td>Mission-22</td>\n",
       "      <td>2025-05-28</td>\n",
       "      <td>Exoplanet</td>\n",
       "      <td>Europa</td>\n",
       "      <td>Mining</td>\n",
       "      <td>33.29</td>\n",
       "      <td>18.9</td>\n",
       "      <td>201.81</td>\n",
       "      <td>97.0</td>\n",
       "      <td>21</td>\n",
       "      <td>94.9</td>\n",
       "      <td>3234.52</td>\n",
       "      <td>34.47</td>\n",
       "      <td>Starship</td>\n",
       "    </tr>\n",
       "  </tbody>\n",
       "</table>\n",
       "</div>"
      ],
      "text/plain": [
       "   Mission ID Mission Name Launch Date Target Type Target Name  Mission Type  \\\n",
       "0    MSN-0001    Mission-1  2025-01-01        Star       Titan  Colonization   \n",
       "1    MSN-0002    Mission-2  2025-01-08   Exoplanet  Betelgeuse  Colonization   \n",
       "2    MSN-0003    Mission-3  2025-01-15    Asteroid        Mars   Exploration   \n",
       "4    MSN-0005    Mission-5  2025-01-29   Exoplanet   Proxima b        Mining   \n",
       "5    MSN-0006    Mission-6  2025-02-05        Moon       Ceres  Colonization   \n",
       "15   MSN-0016   Mission-16  2025-04-16        Moon          Io   Exploration   \n",
       "21   MSN-0022   Mission-22  2025-05-28   Exoplanet      Europa        Mining   \n",
       "\n",
       "    Distance from Earth (light-years)  Mission Duration (years)  \\\n",
       "0                                7.05                       5.2   \n",
       "1                               41.76                      23.0   \n",
       "2                               49.22                      28.8   \n",
       "4                                8.67                       9.2   \n",
       "5                               13.69                       8.8   \n",
       "15                               0.65                       3.1   \n",
       "21                              33.29                      18.9   \n",
       "\n",
       "    Mission Cost (billion USD)  Scientific Yield (points)  Crew Size  \\\n",
       "0                       526.68                       64.3         21   \n",
       "1                       234.08                       84.4         72   \n",
       "2                       218.68                       98.6         16   \n",
       "4                        72.14                       96.5         31   \n",
       "5                       452.42                       45.1         42   \n",
       "15                      495.63                       37.2         86   \n",
       "21                      201.81                       97.0         21   \n",
       "\n",
       "    Mission Success (%)  Fuel Consumption (tons)  Payload Weight (tons)  \\\n",
       "0                 100.0                   731.88                  99.78   \n",
       "1                  89.6                  4197.41                  45.72   \n",
       "2                  98.6                  4908.00                  36.12   \n",
       "4                  73.2                   892.76                  12.40   \n",
       "5                 100.0                  1327.29                  88.44   \n",
       "15                100.0                   159.52                  95.50   \n",
       "21                 94.9                  3234.52                  34.47   \n",
       "\n",
       "   Launch Vehicle  \n",
       "0             SLS  \n",
       "1        Starship  \n",
       "2        Starship  \n",
       "4        Starship  \n",
       "5        Ariane 6  \n",
       "15       Starship  \n",
       "21       Starship  "
      ]
     },
     "execution_count": 55,
     "metadata": {},
     "output_type": "execute_result"
    }
   ],
   "source": [
    "print(\"\\nConteo de filas duplicadas\")\n",
    "df.duplicated().sum()\n",
    "\n",
    "print(\"\\nEliminar duplicados\")\n",
    "df.duplicated().sum()\n",
    "\n",
    "print(\"\\nEliminar duplicados en una columna\")\n",
    "df.drop_duplicates(subset=[\"Target Name\"])"
   ]
  },
  {
   "cell_type": "code",
   "execution_count": 91,
   "metadata": {},
   "outputs": [],
   "source": [
    "df = pd.read_csv(\"space_missions_dataset.csv\")"
   ]
  },
  {
   "cell_type": "markdown",
   "metadata": {},
   "source": [
    "Filtrado de datos."
   ]
  },
  {
   "cell_type": "code",
   "execution_count": 92,
   "metadata": {},
   "outputs": [
    {
     "name": "stdout",
     "output_type": "stream",
     "text": [
      "<class 'pandas.core.frame.DataFrame'>\n",
      "RangeIndex: 500 entries, 0 to 499\n",
      "Data columns (total 15 columns):\n",
      " #   Column                             Non-Null Count  Dtype  \n",
      "---  ------                             --------------  -----  \n",
      " 0   Mission ID                         500 non-null    object \n",
      " 1   Mission Name                       500 non-null    object \n",
      " 2   Launch Date                        500 non-null    object \n",
      " 3   Target Type                        500 non-null    object \n",
      " 4   Target Name                        500 non-null    object \n",
      " 5   Mission Type                       500 non-null    object \n",
      " 6   Distance from Earth (light-years)  500 non-null    float64\n",
      " 7   Mission Duration (years)           500 non-null    float64\n",
      " 8   Mission Cost (billion USD)         500 non-null    float64\n",
      " 9   Scientific Yield (points)          500 non-null    float64\n",
      " 10  Crew Size                          500 non-null    int64  \n",
      " 11  Mission Success (%)                500 non-null    float64\n",
      " 12  Fuel Consumption (tons)            500 non-null    float64\n",
      " 13  Payload Weight (tons)              500 non-null    float64\n",
      " 14  Launch Vehicle                     500 non-null    object \n",
      "dtypes: float64(7), int64(1), object(7)\n",
      "memory usage: 58.7+ KB\n"
     ]
    }
   ],
   "source": [
    "df.info()"
   ]
  },
  {
   "cell_type": "code",
   "execution_count": 93,
   "metadata": {},
   "outputs": [
    {
     "name": "stdout",
     "output_type": "stream",
     "text": [
      "\n",
      "Filtrar valores mayores a 100\n"
     ]
    },
    {
     "data": {
      "text/html": [
       "<div>\n",
       "<style scoped>\n",
       "    .dataframe tbody tr th:only-of-type {\n",
       "        vertical-align: middle;\n",
       "    }\n",
       "\n",
       "    .dataframe tbody tr th {\n",
       "        vertical-align: top;\n",
       "    }\n",
       "\n",
       "    .dataframe thead th {\n",
       "        text-align: right;\n",
       "    }\n",
       "</style>\n",
       "<table border=\"1\" class=\"dataframe\">\n",
       "  <thead>\n",
       "    <tr style=\"text-align: right;\">\n",
       "      <th></th>\n",
       "      <th>Mission ID</th>\n",
       "      <th>Mission Name</th>\n",
       "      <th>Launch Date</th>\n",
       "      <th>Target Type</th>\n",
       "      <th>Target Name</th>\n",
       "      <th>Mission Type</th>\n",
       "      <th>Distance from Earth (light-years)</th>\n",
       "      <th>Mission Duration (years)</th>\n",
       "      <th>Mission Cost (billion USD)</th>\n",
       "      <th>Scientific Yield (points)</th>\n",
       "      <th>Crew Size</th>\n",
       "      <th>Mission Success (%)</th>\n",
       "      <th>Fuel Consumption (tons)</th>\n",
       "      <th>Payload Weight (tons)</th>\n",
       "      <th>Launch Vehicle</th>\n",
       "    </tr>\n",
       "  </thead>\n",
       "  <tbody>\n",
       "    <tr>\n",
       "      <th>1</th>\n",
       "      <td>MSN-0002</td>\n",
       "      <td>Mission-2</td>\n",
       "      <td>2025-01-08</td>\n",
       "      <td>Exoplanet</td>\n",
       "      <td>Betelgeuse</td>\n",
       "      <td>Colonization</td>\n",
       "      <td>41.76</td>\n",
       "      <td>23.0</td>\n",
       "      <td>234.08</td>\n",
       "      <td>84.4</td>\n",
       "      <td>72</td>\n",
       "      <td>89.6</td>\n",
       "      <td>4197.41</td>\n",
       "      <td>45.72</td>\n",
       "      <td>Starship</td>\n",
       "    </tr>\n",
       "    <tr>\n",
       "      <th>3</th>\n",
       "      <td>MSN-0004</td>\n",
       "      <td>Mission-4</td>\n",
       "      <td>2025-01-22</td>\n",
       "      <td>Exoplanet</td>\n",
       "      <td>Titan</td>\n",
       "      <td>Colonization</td>\n",
       "      <td>26.33</td>\n",
       "      <td>17.8</td>\n",
       "      <td>232.89</td>\n",
       "      <td>36.0</td>\n",
       "      <td>59</td>\n",
       "      <td>90.0</td>\n",
       "      <td>2569.05</td>\n",
       "      <td>40.67</td>\n",
       "      <td>Starship</td>\n",
       "    </tr>\n",
       "    <tr>\n",
       "      <th>6</th>\n",
       "      <td>MSN-0007</td>\n",
       "      <td>Mission-7</td>\n",
       "      <td>2025-02-12</td>\n",
       "      <td>Asteroid</td>\n",
       "      <td>Ceres</td>\n",
       "      <td>Research</td>\n",
       "      <td>1.02</td>\n",
       "      <td>5.0</td>\n",
       "      <td>220.38</td>\n",
       "      <td>44.7</td>\n",
       "      <td>74</td>\n",
       "      <td>95.5</td>\n",
       "      <td>211.20</td>\n",
       "      <td>42.07</td>\n",
       "      <td>SLS</td>\n",
       "    </tr>\n",
       "    <tr>\n",
       "      <th>8</th>\n",
       "      <td>MSN-0009</td>\n",
       "      <td>Mission-9</td>\n",
       "      <td>2025-02-26</td>\n",
       "      <td>Asteroid</td>\n",
       "      <td>Betelgeuse</td>\n",
       "      <td>Exploration</td>\n",
       "      <td>5.98</td>\n",
       "      <td>4.4</td>\n",
       "      <td>361.35</td>\n",
       "      <td>58.7</td>\n",
       "      <td>59</td>\n",
       "      <td>100.0</td>\n",
       "      <td>568.97</td>\n",
       "      <td>66.31</td>\n",
       "      <td>Ariane 6</td>\n",
       "    </tr>\n",
       "    <tr>\n",
       "      <th>11</th>\n",
       "      <td>MSN-0012</td>\n",
       "      <td>Mission-12</td>\n",
       "      <td>2025-03-19</td>\n",
       "      <td>Asteroid</td>\n",
       "      <td>Mars</td>\n",
       "      <td>Research</td>\n",
       "      <td>27.75</td>\n",
       "      <td>15.5</td>\n",
       "      <td>38.80</td>\n",
       "      <td>58.8</td>\n",
       "      <td>81</td>\n",
       "      <td>71.2</td>\n",
       "      <td>2763.02</td>\n",
       "      <td>7.08</td>\n",
       "      <td>SLS</td>\n",
       "    </tr>\n",
       "    <tr>\n",
       "      <th>...</th>\n",
       "      <td>...</td>\n",
       "      <td>...</td>\n",
       "      <td>...</td>\n",
       "      <td>...</td>\n",
       "      <td>...</td>\n",
       "      <td>...</td>\n",
       "      <td>...</td>\n",
       "      <td>...</td>\n",
       "      <td>...</td>\n",
       "      <td>...</td>\n",
       "      <td>...</td>\n",
       "      <td>...</td>\n",
       "      <td>...</td>\n",
       "      <td>...</td>\n",
       "      <td>...</td>\n",
       "    </tr>\n",
       "    <tr>\n",
       "      <th>490</th>\n",
       "      <td>MSN-0491</td>\n",
       "      <td>Mission-491</td>\n",
       "      <td>2034-05-24</td>\n",
       "      <td>Planet</td>\n",
       "      <td>Proxima b</td>\n",
       "      <td>Research</td>\n",
       "      <td>15.88</td>\n",
       "      <td>10.0</td>\n",
       "      <td>112.99</td>\n",
       "      <td>39.3</td>\n",
       "      <td>93</td>\n",
       "      <td>78.7</td>\n",
       "      <td>1646.67</td>\n",
       "      <td>19.80</td>\n",
       "      <td>SLS</td>\n",
       "    </tr>\n",
       "    <tr>\n",
       "      <th>492</th>\n",
       "      <td>MSN-0493</td>\n",
       "      <td>Mission-493</td>\n",
       "      <td>2034-06-07</td>\n",
       "      <td>Star</td>\n",
       "      <td>Io</td>\n",
       "      <td>Colonization</td>\n",
       "      <td>2.17</td>\n",
       "      <td>3.4</td>\n",
       "      <td>202.50</td>\n",
       "      <td>83.5</td>\n",
       "      <td>77</td>\n",
       "      <td>92.6</td>\n",
       "      <td>199.97</td>\n",
       "      <td>39.79</td>\n",
       "      <td>Ariane 6</td>\n",
       "    </tr>\n",
       "    <tr>\n",
       "      <th>495</th>\n",
       "      <td>MSN-0496</td>\n",
       "      <td>Mission-496</td>\n",
       "      <td>2034-06-28</td>\n",
       "      <td>Planet</td>\n",
       "      <td>Betelgeuse</td>\n",
       "      <td>Colonization</td>\n",
       "      <td>48.26</td>\n",
       "      <td>25.3</td>\n",
       "      <td>274.82</td>\n",
       "      <td>91.2</td>\n",
       "      <td>64</td>\n",
       "      <td>96.2</td>\n",
       "      <td>4837.16</td>\n",
       "      <td>44.97</td>\n",
       "      <td>Ariane 6</td>\n",
       "    </tr>\n",
       "    <tr>\n",
       "      <th>496</th>\n",
       "      <td>MSN-0497</td>\n",
       "      <td>Mission-497</td>\n",
       "      <td>2034-07-05</td>\n",
       "      <td>Asteroid</td>\n",
       "      <td>Betelgeuse</td>\n",
       "      <td>Exploration</td>\n",
       "      <td>0.35</td>\n",
       "      <td>4.1</td>\n",
       "      <td>379.71</td>\n",
       "      <td>82.6</td>\n",
       "      <td>61</td>\n",
       "      <td>100.0</td>\n",
       "      <td>62.59</td>\n",
       "      <td>67.88</td>\n",
       "      <td>SLS</td>\n",
       "    </tr>\n",
       "    <tr>\n",
       "      <th>499</th>\n",
       "      <td>MSN-0500</td>\n",
       "      <td>Mission-500</td>\n",
       "      <td>2034-07-26</td>\n",
       "      <td>Planet</td>\n",
       "      <td>Io</td>\n",
       "      <td>Exploration</td>\n",
       "      <td>43.41</td>\n",
       "      <td>23.5</td>\n",
       "      <td>449.40</td>\n",
       "      <td>45.4</td>\n",
       "      <td>88</td>\n",
       "      <td>100.0</td>\n",
       "      <td>4302.93</td>\n",
       "      <td>86.74</td>\n",
       "      <td>Falcon Heavy</td>\n",
       "    </tr>\n",
       "  </tbody>\n",
       "</table>\n",
       "<p>249 rows × 15 columns</p>\n",
       "</div>"
      ],
      "text/plain": [
       "    Mission ID Mission Name Launch Date Target Type Target Name  Mission Type  \\\n",
       "1     MSN-0002    Mission-2  2025-01-08   Exoplanet  Betelgeuse  Colonization   \n",
       "3     MSN-0004    Mission-4  2025-01-22   Exoplanet       Titan  Colonization   \n",
       "6     MSN-0007    Mission-7  2025-02-12    Asteroid       Ceres      Research   \n",
       "8     MSN-0009    Mission-9  2025-02-26    Asteroid  Betelgeuse   Exploration   \n",
       "11    MSN-0012   Mission-12  2025-03-19    Asteroid        Mars      Research   \n",
       "..         ...          ...         ...         ...         ...           ...   \n",
       "490   MSN-0491  Mission-491  2034-05-24      Planet   Proxima b      Research   \n",
       "492   MSN-0493  Mission-493  2034-06-07        Star          Io  Colonization   \n",
       "495   MSN-0496  Mission-496  2034-06-28      Planet  Betelgeuse  Colonization   \n",
       "496   MSN-0497  Mission-497  2034-07-05    Asteroid  Betelgeuse   Exploration   \n",
       "499   MSN-0500  Mission-500  2034-07-26      Planet          Io   Exploration   \n",
       "\n",
       "     Distance from Earth (light-years)  Mission Duration (years)  \\\n",
       "1                                41.76                      23.0   \n",
       "3                                26.33                      17.8   \n",
       "6                                 1.02                       5.0   \n",
       "8                                 5.98                       4.4   \n",
       "11                               27.75                      15.5   \n",
       "..                                 ...                       ...   \n",
       "490                              15.88                      10.0   \n",
       "492                               2.17                       3.4   \n",
       "495                              48.26                      25.3   \n",
       "496                               0.35                       4.1   \n",
       "499                              43.41                      23.5   \n",
       "\n",
       "     Mission Cost (billion USD)  Scientific Yield (points)  Crew Size  \\\n",
       "1                        234.08                       84.4         72   \n",
       "3                        232.89                       36.0         59   \n",
       "6                        220.38                       44.7         74   \n",
       "8                        361.35                       58.7         59   \n",
       "11                        38.80                       58.8         81   \n",
       "..                          ...                        ...        ...   \n",
       "490                      112.99                       39.3         93   \n",
       "492                      202.50                       83.5         77   \n",
       "495                      274.82                       91.2         64   \n",
       "496                      379.71                       82.6         61   \n",
       "499                      449.40                       45.4         88   \n",
       "\n",
       "     Mission Success (%)  Fuel Consumption (tons)  Payload Weight (tons)  \\\n",
       "1                   89.6                  4197.41                  45.72   \n",
       "3                   90.0                  2569.05                  40.67   \n",
       "6                   95.5                   211.20                  42.07   \n",
       "8                  100.0                   568.97                  66.31   \n",
       "11                  71.2                  2763.02                   7.08   \n",
       "..                   ...                      ...                    ...   \n",
       "490                 78.7                  1646.67                  19.80   \n",
       "492                 92.6                   199.97                  39.79   \n",
       "495                 96.2                  4837.16                  44.97   \n",
       "496                100.0                    62.59                  67.88   \n",
       "499                100.0                  4302.93                  86.74   \n",
       "\n",
       "    Launch Vehicle  \n",
       "1         Starship  \n",
       "3         Starship  \n",
       "6              SLS  \n",
       "8         Ariane 6  \n",
       "11             SLS  \n",
       "..             ...  \n",
       "490            SLS  \n",
       "492       Ariane 6  \n",
       "495       Ariane 6  \n",
       "496            SLS  \n",
       "499   Falcon Heavy  \n",
       "\n",
       "[249 rows x 15 columns]"
      ]
     },
     "execution_count": 93,
     "metadata": {},
     "output_type": "execute_result"
    }
   ],
   "source": [
    "print(\"\\nFiltrar valores mayores a 100\")\n",
    "df[df[\"Crew Size\"] > 50]"
   ]
  },
  {
   "cell_type": "code",
   "execution_count": 100,
   "metadata": {},
   "outputs": [
    {
     "name": "stdout",
     "output_type": "stream",
     "text": [
      "\n",
      "Filtrar por misiones seleccionadas.\n",
      "    Mission Name Launch Date\n",
      "0      Mission-1  2025-01-01\n",
      "1      Mission-2  2025-01-08\n",
      "2      Mission-3  2025-01-15\n",
      "3      Mission-4  2025-01-22\n",
      "4      Mission-5  2025-01-29\n",
      "..           ...         ...\n",
      "495  Mission-496  2034-06-28\n",
      "496  Mission-497  2034-07-05\n",
      "497  Mission-498  2034-07-12\n",
      "498  Mission-499  2034-07-19\n",
      "499  Mission-500  2034-07-26\n",
      "\n",
      "[500 rows x 2 columns]\n"
     ]
    }
   ],
   "source": [
    "print(\"\\nFiltrar por misiones seleccionadas.\")\n",
    "misiones_seleccionadas = df[[\"Mission Name\", \"Launch Date\"]]\n",
    "print(misiones_seleccionadas)"
   ]
  },
  {
   "cell_type": "code",
   "execution_count": 130,
   "metadata": {},
   "outputs": [
    {
     "name": "stdout",
     "output_type": "stream",
     "text": [
      "\n",
      "Filtrado por misiones Exitosas\n",
      "\n",
      " Empty DataFrame\n",
      "Columns: [Mission ID, Mission Name, Launch Date, Target Type, Target Name, Mission Type, Distance from Earth (light-years), Mission Duration (years), Mission Cost (billion USD), Scientific Yield (points), Crew Size, Mission Success (%), Fuel Consumption (tons), Payload Weight (tons), Launch Vehicle]\n",
      "Index: []\n"
     ]
    }
   ],
   "source": [
    "print(\"\\nFiltrado por misiones Exitosas\")\n",
    "misiones_exitosas = df[df[\"Mission Name\"] == \"Mission Success (%)\"]\n",
    "print(\"\\n\",misiones_exitosas)"
   ]
  },
  {
   "cell_type": "code",
   "execution_count": 105,
   "metadata": {},
   "outputs": [
    {
     "name": "stdout",
     "output_type": "stream",
     "text": [
      "\n",
      "Filtrar por misiones lanzadas despues del 2000\n",
      "    Mission ID Mission Name Launch Date Target Type Target Name  Mission Type  \\\n",
      "0     MSN-0001    Mission-1  2025-01-01        Star       Titan  Colonization   \n",
      "1     MSN-0002    Mission-2  2025-01-08   Exoplanet  Betelgeuse  Colonization   \n",
      "2     MSN-0003    Mission-3  2025-01-15    Asteroid        Mars   Exploration   \n",
      "3     MSN-0004    Mission-4  2025-01-22   Exoplanet       Titan  Colonization   \n",
      "4     MSN-0005    Mission-5  2025-01-29   Exoplanet   Proxima b        Mining   \n",
      "..         ...          ...         ...         ...         ...           ...   \n",
      "495   MSN-0496  Mission-496  2034-06-28      Planet  Betelgeuse  Colonization   \n",
      "496   MSN-0497  Mission-497  2034-07-05    Asteroid  Betelgeuse   Exploration   \n",
      "497   MSN-0498  Mission-498  2034-07-12      Planet       Ceres   Exploration   \n",
      "498   MSN-0499  Mission-499  2034-07-19      Planet  Betelgeuse      Research   \n",
      "499   MSN-0500  Mission-500  2034-07-26      Planet          Io   Exploration   \n",
      "\n",
      "     Distance from Earth (light-years)  Mission Duration (years)  \\\n",
      "0                                 7.05                       5.2   \n",
      "1                                41.76                      23.0   \n",
      "2                                49.22                      28.8   \n",
      "3                                26.33                      17.8   \n",
      "4                                 8.67                       9.2   \n",
      "..                                 ...                       ...   \n",
      "495                              48.26                      25.3   \n",
      "496                               0.35                       4.1   \n",
      "497                              47.60                      26.6   \n",
      "498                              31.99                      18.0   \n",
      "499                              43.41                      23.5   \n",
      "\n",
      "     Mission Cost (billion USD)  Scientific Yield (points)  Crew Size  \\\n",
      "0                        526.68                       64.3         21   \n",
      "1                        234.08                       84.4         72   \n",
      "2                        218.68                       98.6         16   \n",
      "3                        232.89                       36.0         59   \n",
      "4                         72.14                       96.5         31   \n",
      "..                          ...                        ...        ...   \n",
      "495                      274.82                       91.2         64   \n",
      "496                      379.71                       82.6         61   \n",
      "497                      296.45                       98.6         29   \n",
      "498                      457.38                       77.9         39   \n",
      "499                      449.40                       45.4         88   \n",
      "\n",
      "     Mission Success (%)  Fuel Consumption (tons)  Payload Weight (tons)  \\\n",
      "0                  100.0                   731.88                  99.78   \n",
      "1                   89.6                  4197.41                  45.72   \n",
      "2                   98.6                  4908.00                  36.12   \n",
      "3                   90.0                  2569.05                  40.67   \n",
      "4                   73.2                   892.76                  12.40   \n",
      "..                   ...                      ...                    ...   \n",
      "495                 96.2                  4837.16                  44.97   \n",
      "496                100.0                    62.59                  67.88   \n",
      "497                100.0                  4794.01                  51.38   \n",
      "498                100.0                  3102.16                  86.28   \n",
      "499                100.0                  4302.93                  86.74   \n",
      "\n",
      "    Launch Vehicle  \n",
      "0              SLS  \n",
      "1         Starship  \n",
      "2         Starship  \n",
      "3         Starship  \n",
      "4         Starship  \n",
      "..             ...  \n",
      "495       Ariane 6  \n",
      "496            SLS  \n",
      "497   Falcon Heavy  \n",
      "498            SLS  \n",
      "499   Falcon Heavy  \n",
      "\n",
      "[500 rows x 15 columns]\n"
     ]
    }
   ],
   "source": [
    "print(\"\\nFiltrar por misiones lanzadas despues del 2000\")\n",
    "df[\"Launch Date\"] = pd.to_datetime(df[\"Launch Date\"])\n",
    "misiones_post_2000 = df[df[\"Launch Date\"].dt.year > 2000]\n",
    "print(misiones_post_2000)"
   ]
  },
  {
   "cell_type": "markdown",
   "metadata": {},
   "source": [
    "Trabajando con fechas.\n",
    "- Vamos a trabajar con la columnas Launch Date ya que este data si contiene fechas.\n"
   ]
  },
  {
   "cell_type": "code",
   "execution_count": 112,
   "metadata": {},
   "outputs": [
    {
     "name": "stdout",
     "output_type": "stream",
     "text": [
      "\n",
      "Ordenamos por el nombre la misión en descendente\n",
      "    Mission ID Mission Name Launch Date Target Type Target Name  Mission Type  \\\n",
      "98    MSN-0099   Mission-99  2026-11-18        Moon       Titan  Colonization   \n",
      "97    MSN-0098   Mission-98  2026-11-11        Moon          Io        Mining   \n",
      "96    MSN-0097   Mission-97  2026-11-04   Exoplanet       Ceres  Colonization   \n",
      "95    MSN-0096   Mission-96  2026-10-28    Asteroid      Europa   Exploration   \n",
      "94    MSN-0095   Mission-95  2026-10-21      Planet      Europa   Exploration   \n",
      "..         ...          ...         ...         ...         ...           ...   \n",
      "101   MSN-0102  Mission-102  2026-12-09      Planet   Proxima b   Exploration   \n",
      "100   MSN-0101  Mission-101  2026-12-02        Star   Proxima b   Exploration   \n",
      "99    MSN-0100  Mission-100  2026-11-25      Planet       Ceres      Research   \n",
      "9     MSN-0010   Mission-10  2025-03-05   Exoplanet  Betelgeuse  Colonization   \n",
      "0     MSN-0001    Mission-1  2025-01-01        Star       Titan  Colonization   \n",
      "\n",
      "     Distance from Earth (light-years)  Mission Duration (years)  \\\n",
      "98                               16.02                       9.3   \n",
      "97                               42.24                      24.7   \n",
      "96                               43.12                      26.2   \n",
      "95                               23.76                      14.0   \n",
      "94                               47.22                      27.1   \n",
      "..                                 ...                       ...   \n",
      "101                              29.85                      16.2   \n",
      "100                               1.95                       5.8   \n",
      "99                               41.46                      25.4   \n",
      "9                                28.87                      18.9   \n",
      "0                                 7.05                       5.2   \n",
      "\n",
      "     Mission Cost (billion USD)  Scientific Yield (points)  Crew Size  \\\n",
      "98                       283.51                       10.8         89   \n",
      "97                       511.73                       96.2         74   \n",
      "96                       217.39                       29.0         43   \n",
      "95                       309.23                       35.1         80   \n",
      "94                       433.28                       82.4         76   \n",
      "..                          ...                        ...        ...   \n",
      "101                      360.96                       84.6         68   \n",
      "100                      123.33                       70.9         95   \n",
      "99                       310.28                       99.8         20   \n",
      "9                        265.98                       23.9         34   \n",
      "0                        526.68                       64.3         21   \n",
      "\n",
      "     Mission Success (%)  Fuel Consumption (tons)  Payload Weight (tons)  \\\n",
      "98                  96.1                  1648.62                  54.57   \n",
      "97                 100.0                  4238.98                  95.84   \n",
      "96                  99.4                  4231.21                  42.00   \n",
      "95                  90.0                  2414.29                  60.26   \n",
      "94                 100.0                  4732.24                  78.66   \n",
      "..                   ...                      ...                    ...   \n",
      "101                100.0                  3125.73                  62.94   \n",
      "100                 82.3                   230.04                  22.83   \n",
      "99                 100.0                  4125.24                  60.90   \n",
      "9                   99.3                  2856.43                  44.76   \n",
      "0                  100.0                   731.88                  99.78   \n",
      "\n",
      "    Launch Vehicle  \n",
      "98    Falcon Heavy  \n",
      "97    Falcon Heavy  \n",
      "96        Ariane 6  \n",
      "95    Falcon Heavy  \n",
      "94    Falcon Heavy  \n",
      "..             ...  \n",
      "101   Falcon Heavy  \n",
      "100   Falcon Heavy  \n",
      "99        Starship  \n",
      "9         Starship  \n",
      "0              SLS  \n",
      "\n",
      "[500 rows x 15 columns]\n"
     ]
    }
   ],
   "source": [
    "print(\"\\nOrdenamos por el nombre la misión en descendente\")\n",
    "df_ordenado_mision = df.sort_values(by=\"Mission Name\", ascending=False)\n",
    "print(df_ordenado_mision)"
   ]
  },
  {
   "cell_type": "code",
   "execution_count": 115,
   "metadata": {},
   "outputs": [
    {
     "name": "stdout",
     "output_type": "stream",
     "text": [
      "\n",
      "Ordenar por fecha de lanzamiento.\n"
     ]
    },
    {
     "data": {
      "text/html": [
       "<div>\n",
       "<style scoped>\n",
       "    .dataframe tbody tr th:only-of-type {\n",
       "        vertical-align: middle;\n",
       "    }\n",
       "\n",
       "    .dataframe tbody tr th {\n",
       "        vertical-align: top;\n",
       "    }\n",
       "\n",
       "    .dataframe thead th {\n",
       "        text-align: right;\n",
       "    }\n",
       "</style>\n",
       "<table border=\"1\" class=\"dataframe\">\n",
       "  <thead>\n",
       "    <tr style=\"text-align: right;\">\n",
       "      <th></th>\n",
       "      <th>Mission ID</th>\n",
       "      <th>Mission Name</th>\n",
       "      <th>Launch Date</th>\n",
       "      <th>Target Type</th>\n",
       "      <th>Target Name</th>\n",
       "      <th>Mission Type</th>\n",
       "      <th>Distance from Earth (light-years)</th>\n",
       "      <th>Mission Duration (years)</th>\n",
       "      <th>Mission Cost (billion USD)</th>\n",
       "      <th>Scientific Yield (points)</th>\n",
       "      <th>Crew Size</th>\n",
       "      <th>Mission Success (%)</th>\n",
       "      <th>Fuel Consumption (tons)</th>\n",
       "      <th>Payload Weight (tons)</th>\n",
       "      <th>Launch Vehicle</th>\n",
       "    </tr>\n",
       "  </thead>\n",
       "  <tbody>\n",
       "    <tr>\n",
       "      <th>0</th>\n",
       "      <td>MSN-0001</td>\n",
       "      <td>Mission-1</td>\n",
       "      <td>2025-01-01</td>\n",
       "      <td>Star</td>\n",
       "      <td>Titan</td>\n",
       "      <td>Colonization</td>\n",
       "      <td>7.05</td>\n",
       "      <td>5.2</td>\n",
       "      <td>526.68</td>\n",
       "      <td>64.3</td>\n",
       "      <td>21</td>\n",
       "      <td>100.0</td>\n",
       "      <td>731.88</td>\n",
       "      <td>99.78</td>\n",
       "      <td>SLS</td>\n",
       "    </tr>\n",
       "    <tr>\n",
       "      <th>1</th>\n",
       "      <td>MSN-0002</td>\n",
       "      <td>Mission-2</td>\n",
       "      <td>2025-01-08</td>\n",
       "      <td>Exoplanet</td>\n",
       "      <td>Betelgeuse</td>\n",
       "      <td>Colonization</td>\n",
       "      <td>41.76</td>\n",
       "      <td>23.0</td>\n",
       "      <td>234.08</td>\n",
       "      <td>84.4</td>\n",
       "      <td>72</td>\n",
       "      <td>89.6</td>\n",
       "      <td>4197.41</td>\n",
       "      <td>45.72</td>\n",
       "      <td>Starship</td>\n",
       "    </tr>\n",
       "    <tr>\n",
       "      <th>2</th>\n",
       "      <td>MSN-0003</td>\n",
       "      <td>Mission-3</td>\n",
       "      <td>2025-01-15</td>\n",
       "      <td>Asteroid</td>\n",
       "      <td>Mars</td>\n",
       "      <td>Exploration</td>\n",
       "      <td>49.22</td>\n",
       "      <td>28.8</td>\n",
       "      <td>218.68</td>\n",
       "      <td>98.6</td>\n",
       "      <td>16</td>\n",
       "      <td>98.6</td>\n",
       "      <td>4908.00</td>\n",
       "      <td>36.12</td>\n",
       "      <td>Starship</td>\n",
       "    </tr>\n",
       "    <tr>\n",
       "      <th>3</th>\n",
       "      <td>MSN-0004</td>\n",
       "      <td>Mission-4</td>\n",
       "      <td>2025-01-22</td>\n",
       "      <td>Exoplanet</td>\n",
       "      <td>Titan</td>\n",
       "      <td>Colonization</td>\n",
       "      <td>26.33</td>\n",
       "      <td>17.8</td>\n",
       "      <td>232.89</td>\n",
       "      <td>36.0</td>\n",
       "      <td>59</td>\n",
       "      <td>90.0</td>\n",
       "      <td>2569.05</td>\n",
       "      <td>40.67</td>\n",
       "      <td>Starship</td>\n",
       "    </tr>\n",
       "    <tr>\n",
       "      <th>4</th>\n",
       "      <td>MSN-0005</td>\n",
       "      <td>Mission-5</td>\n",
       "      <td>2025-01-29</td>\n",
       "      <td>Exoplanet</td>\n",
       "      <td>Proxima b</td>\n",
       "      <td>Mining</td>\n",
       "      <td>8.67</td>\n",
       "      <td>9.2</td>\n",
       "      <td>72.14</td>\n",
       "      <td>96.5</td>\n",
       "      <td>31</td>\n",
       "      <td>73.2</td>\n",
       "      <td>892.76</td>\n",
       "      <td>12.40</td>\n",
       "      <td>Starship</td>\n",
       "    </tr>\n",
       "    <tr>\n",
       "      <th>...</th>\n",
       "      <td>...</td>\n",
       "      <td>...</td>\n",
       "      <td>...</td>\n",
       "      <td>...</td>\n",
       "      <td>...</td>\n",
       "      <td>...</td>\n",
       "      <td>...</td>\n",
       "      <td>...</td>\n",
       "      <td>...</td>\n",
       "      <td>...</td>\n",
       "      <td>...</td>\n",
       "      <td>...</td>\n",
       "      <td>...</td>\n",
       "      <td>...</td>\n",
       "      <td>...</td>\n",
       "    </tr>\n",
       "    <tr>\n",
       "      <th>495</th>\n",
       "      <td>MSN-0496</td>\n",
       "      <td>Mission-496</td>\n",
       "      <td>2034-06-28</td>\n",
       "      <td>Planet</td>\n",
       "      <td>Betelgeuse</td>\n",
       "      <td>Colonization</td>\n",
       "      <td>48.26</td>\n",
       "      <td>25.3</td>\n",
       "      <td>274.82</td>\n",
       "      <td>91.2</td>\n",
       "      <td>64</td>\n",
       "      <td>96.2</td>\n",
       "      <td>4837.16</td>\n",
       "      <td>44.97</td>\n",
       "      <td>Ariane 6</td>\n",
       "    </tr>\n",
       "    <tr>\n",
       "      <th>496</th>\n",
       "      <td>MSN-0497</td>\n",
       "      <td>Mission-497</td>\n",
       "      <td>2034-07-05</td>\n",
       "      <td>Asteroid</td>\n",
       "      <td>Betelgeuse</td>\n",
       "      <td>Exploration</td>\n",
       "      <td>0.35</td>\n",
       "      <td>4.1</td>\n",
       "      <td>379.71</td>\n",
       "      <td>82.6</td>\n",
       "      <td>61</td>\n",
       "      <td>100.0</td>\n",
       "      <td>62.59</td>\n",
       "      <td>67.88</td>\n",
       "      <td>SLS</td>\n",
       "    </tr>\n",
       "    <tr>\n",
       "      <th>497</th>\n",
       "      <td>MSN-0498</td>\n",
       "      <td>Mission-498</td>\n",
       "      <td>2034-07-12</td>\n",
       "      <td>Planet</td>\n",
       "      <td>Ceres</td>\n",
       "      <td>Exploration</td>\n",
       "      <td>47.60</td>\n",
       "      <td>26.6</td>\n",
       "      <td>296.45</td>\n",
       "      <td>98.6</td>\n",
       "      <td>29</td>\n",
       "      <td>100.0</td>\n",
       "      <td>4794.01</td>\n",
       "      <td>51.38</td>\n",
       "      <td>Falcon Heavy</td>\n",
       "    </tr>\n",
       "    <tr>\n",
       "      <th>498</th>\n",
       "      <td>MSN-0499</td>\n",
       "      <td>Mission-499</td>\n",
       "      <td>2034-07-19</td>\n",
       "      <td>Planet</td>\n",
       "      <td>Betelgeuse</td>\n",
       "      <td>Research</td>\n",
       "      <td>31.99</td>\n",
       "      <td>18.0</td>\n",
       "      <td>457.38</td>\n",
       "      <td>77.9</td>\n",
       "      <td>39</td>\n",
       "      <td>100.0</td>\n",
       "      <td>3102.16</td>\n",
       "      <td>86.28</td>\n",
       "      <td>SLS</td>\n",
       "    </tr>\n",
       "    <tr>\n",
       "      <th>499</th>\n",
       "      <td>MSN-0500</td>\n",
       "      <td>Mission-500</td>\n",
       "      <td>2034-07-26</td>\n",
       "      <td>Planet</td>\n",
       "      <td>Io</td>\n",
       "      <td>Exploration</td>\n",
       "      <td>43.41</td>\n",
       "      <td>23.5</td>\n",
       "      <td>449.40</td>\n",
       "      <td>45.4</td>\n",
       "      <td>88</td>\n",
       "      <td>100.0</td>\n",
       "      <td>4302.93</td>\n",
       "      <td>86.74</td>\n",
       "      <td>Falcon Heavy</td>\n",
       "    </tr>\n",
       "  </tbody>\n",
       "</table>\n",
       "<p>500 rows × 15 columns</p>\n",
       "</div>"
      ],
      "text/plain": [
       "    Mission ID Mission Name Launch Date Target Type Target Name  Mission Type  \\\n",
       "0     MSN-0001    Mission-1  2025-01-01        Star       Titan  Colonization   \n",
       "1     MSN-0002    Mission-2  2025-01-08   Exoplanet  Betelgeuse  Colonization   \n",
       "2     MSN-0003    Mission-3  2025-01-15    Asteroid        Mars   Exploration   \n",
       "3     MSN-0004    Mission-4  2025-01-22   Exoplanet       Titan  Colonization   \n",
       "4     MSN-0005    Mission-5  2025-01-29   Exoplanet   Proxima b        Mining   \n",
       "..         ...          ...         ...         ...         ...           ...   \n",
       "495   MSN-0496  Mission-496  2034-06-28      Planet  Betelgeuse  Colonization   \n",
       "496   MSN-0497  Mission-497  2034-07-05    Asteroid  Betelgeuse   Exploration   \n",
       "497   MSN-0498  Mission-498  2034-07-12      Planet       Ceres   Exploration   \n",
       "498   MSN-0499  Mission-499  2034-07-19      Planet  Betelgeuse      Research   \n",
       "499   MSN-0500  Mission-500  2034-07-26      Planet          Io   Exploration   \n",
       "\n",
       "     Distance from Earth (light-years)  Mission Duration (years)  \\\n",
       "0                                 7.05                       5.2   \n",
       "1                                41.76                      23.0   \n",
       "2                                49.22                      28.8   \n",
       "3                                26.33                      17.8   \n",
       "4                                 8.67                       9.2   \n",
       "..                                 ...                       ...   \n",
       "495                              48.26                      25.3   \n",
       "496                               0.35                       4.1   \n",
       "497                              47.60                      26.6   \n",
       "498                              31.99                      18.0   \n",
       "499                              43.41                      23.5   \n",
       "\n",
       "     Mission Cost (billion USD)  Scientific Yield (points)  Crew Size  \\\n",
       "0                        526.68                       64.3         21   \n",
       "1                        234.08                       84.4         72   \n",
       "2                        218.68                       98.6         16   \n",
       "3                        232.89                       36.0         59   \n",
       "4                         72.14                       96.5         31   \n",
       "..                          ...                        ...        ...   \n",
       "495                      274.82                       91.2         64   \n",
       "496                      379.71                       82.6         61   \n",
       "497                      296.45                       98.6         29   \n",
       "498                      457.38                       77.9         39   \n",
       "499                      449.40                       45.4         88   \n",
       "\n",
       "     Mission Success (%)  Fuel Consumption (tons)  Payload Weight (tons)  \\\n",
       "0                  100.0                   731.88                  99.78   \n",
       "1                   89.6                  4197.41                  45.72   \n",
       "2                   98.6                  4908.00                  36.12   \n",
       "3                   90.0                  2569.05                  40.67   \n",
       "4                   73.2                   892.76                  12.40   \n",
       "..                   ...                      ...                    ...   \n",
       "495                 96.2                  4837.16                  44.97   \n",
       "496                100.0                    62.59                  67.88   \n",
       "497                100.0                  4794.01                  51.38   \n",
       "498                100.0                  3102.16                  86.28   \n",
       "499                100.0                  4302.93                  86.74   \n",
       "\n",
       "    Launch Vehicle  \n",
       "0              SLS  \n",
       "1         Starship  \n",
       "2         Starship  \n",
       "3         Starship  \n",
       "4         Starship  \n",
       "..             ...  \n",
       "495       Ariane 6  \n",
       "496            SLS  \n",
       "497   Falcon Heavy  \n",
       "498            SLS  \n",
       "499   Falcon Heavy  \n",
       "\n",
       "[500 rows x 15 columns]"
      ]
     },
     "execution_count": 115,
     "metadata": {},
     "output_type": "execute_result"
    }
   ],
   "source": [
    "print(\"\\nOrdenar por fecha de lanzamiento.\")\n",
    "df_ordenado_fecha = df.sort_values(by=\"Launch Date\")\n",
    "df_ordenado_fecha"
   ]
  },
  {
   "cell_type": "markdown",
   "metadata": {},
   "source": [
    "Agregaciones estadisticas.\n",
    "- Calculamos estadísticas y realizamos agregaciones para obtener insights."
   ]
  },
  {
   "cell_type": "code",
   "execution_count": 127,
   "metadata": {},
   "outputs": [
    {
     "name": "stdout",
     "output_type": "stream",
     "text": [
      "\n",
      "Contar misiones por destino\n",
      "Misiones por destino:\n",
      "Mission Type\n",
      "Research        132\n",
      "Exploration     127\n",
      "Colonization    125\n",
      "Mining          116\n",
      "Name: count, dtype: int64\n"
     ]
    }
   ],
   "source": [
    "print(\"\\nContar misiones por destino\")\n",
    "misiones_por_destino = df[\"Mission Type\"].value_counts()\n",
    "print(\"Misiones por destino:\")\n",
    "print(misiones_por_destino)"
   ]
  },
  {
   "cell_type": "code",
   "execution_count": null,
   "metadata": {},
   "outputs": [
    {
     "name": "stdout",
     "output_type": "stream",
     "text": [
      "\n",
      "Calcular la duración promedio de las misiones (si existe una columna de duración\n",
      "Duración promedio de las misiones: 25.48306\n"
     ]
    }
   ],
   "source": [
    "print('\\nCalcular la duración promedio de las misiones (Años luz)')\n",
    "if \"Distance from Earth (light-years)\" in df.columns:\n",
    "    duracion_promedio = df[\"Distance from Earth (light-years)\"].mean()\n",
    "    print(\"Duración promedio de las misiones:\", duracion_promedio)"
   ]
  },
  {
   "cell_type": "code",
   "execution_count": 126,
   "metadata": {},
   "outputs": [
    {
     "name": "stdout",
     "output_type": "stream",
     "text": [
      "\n",
      "Agrupar por agencia espacial y contar misiones\n",
      "Misiones por agencia:\n",
      "Mission Type\n",
      "Colonization    125\n",
      "Exploration     127\n",
      "Mining          116\n",
      "Research        132\n",
      "Name: Mission Name, dtype: int64\n"
     ]
    }
   ],
   "source": [
    "print(\"\\nAgrupar por agencia espacial y contar misiones\")\n",
    "misiones_por_agencia = df.groupby(\"Mission Type\")[\"Mission Name\"].count()\n",
    "print(\"Misiones por agencia:\")\n",
    "print(misiones_por_agencia)\n"
   ]
  },
  {
   "cell_type": "markdown",
   "metadata": {},
   "source": [
    "Separacion de columnas por Numericas y Categoricas.\n",
    "- Pandas nos permite filtrar columnas por tipo de datos usando select_dtypes."
   ]
  },
  {
   "cell_type": "code",
   "execution_count": 133,
   "metadata": {},
   "outputs": [
    {
     "data": {
      "text/html": [
       "<div>\n",
       "<style scoped>\n",
       "    .dataframe tbody tr th:only-of-type {\n",
       "        vertical-align: middle;\n",
       "    }\n",
       "\n",
       "    .dataframe tbody tr th {\n",
       "        vertical-align: top;\n",
       "    }\n",
       "\n",
       "    .dataframe thead th {\n",
       "        text-align: right;\n",
       "    }\n",
       "</style>\n",
       "<table border=\"1\" class=\"dataframe\">\n",
       "  <thead>\n",
       "    <tr style=\"text-align: right;\">\n",
       "      <th></th>\n",
       "      <th>Distance from Earth (light-years)</th>\n",
       "      <th>Mission Duration (years)</th>\n",
       "      <th>Mission Cost (billion USD)</th>\n",
       "      <th>Scientific Yield (points)</th>\n",
       "      <th>Crew Size</th>\n",
       "      <th>Mission Success (%)</th>\n",
       "      <th>Fuel Consumption (tons)</th>\n",
       "      <th>Payload Weight (tons)</th>\n",
       "    </tr>\n",
       "  </thead>\n",
       "  <tbody>\n",
       "    <tr>\n",
       "      <th>0</th>\n",
       "      <td>7.05</td>\n",
       "      <td>5.2</td>\n",
       "      <td>526.68</td>\n",
       "      <td>64.3</td>\n",
       "      <td>21</td>\n",
       "      <td>100.0</td>\n",
       "      <td>731.88</td>\n",
       "      <td>99.78</td>\n",
       "    </tr>\n",
       "    <tr>\n",
       "      <th>1</th>\n",
       "      <td>41.76</td>\n",
       "      <td>23.0</td>\n",
       "      <td>234.08</td>\n",
       "      <td>84.4</td>\n",
       "      <td>72</td>\n",
       "      <td>89.6</td>\n",
       "      <td>4197.41</td>\n",
       "      <td>45.72</td>\n",
       "    </tr>\n",
       "    <tr>\n",
       "      <th>2</th>\n",
       "      <td>49.22</td>\n",
       "      <td>28.8</td>\n",
       "      <td>218.68</td>\n",
       "      <td>98.6</td>\n",
       "      <td>16</td>\n",
       "      <td>98.6</td>\n",
       "      <td>4908.00</td>\n",
       "      <td>36.12</td>\n",
       "    </tr>\n",
       "    <tr>\n",
       "      <th>3</th>\n",
       "      <td>26.33</td>\n",
       "      <td>17.8</td>\n",
       "      <td>232.89</td>\n",
       "      <td>36.0</td>\n",
       "      <td>59</td>\n",
       "      <td>90.0</td>\n",
       "      <td>2569.05</td>\n",
       "      <td>40.67</td>\n",
       "    </tr>\n",
       "    <tr>\n",
       "      <th>4</th>\n",
       "      <td>8.67</td>\n",
       "      <td>9.2</td>\n",
       "      <td>72.14</td>\n",
       "      <td>96.5</td>\n",
       "      <td>31</td>\n",
       "      <td>73.2</td>\n",
       "      <td>892.76</td>\n",
       "      <td>12.40</td>\n",
       "    </tr>\n",
       "    <tr>\n",
       "      <th>...</th>\n",
       "      <td>...</td>\n",
       "      <td>...</td>\n",
       "      <td>...</td>\n",
       "      <td>...</td>\n",
       "      <td>...</td>\n",
       "      <td>...</td>\n",
       "      <td>...</td>\n",
       "      <td>...</td>\n",
       "    </tr>\n",
       "    <tr>\n",
       "      <th>495</th>\n",
       "      <td>48.26</td>\n",
       "      <td>25.3</td>\n",
       "      <td>274.82</td>\n",
       "      <td>91.2</td>\n",
       "      <td>64</td>\n",
       "      <td>96.2</td>\n",
       "      <td>4837.16</td>\n",
       "      <td>44.97</td>\n",
       "    </tr>\n",
       "    <tr>\n",
       "      <th>496</th>\n",
       "      <td>0.35</td>\n",
       "      <td>4.1</td>\n",
       "      <td>379.71</td>\n",
       "      <td>82.6</td>\n",
       "      <td>61</td>\n",
       "      <td>100.0</td>\n",
       "      <td>62.59</td>\n",
       "      <td>67.88</td>\n",
       "    </tr>\n",
       "    <tr>\n",
       "      <th>497</th>\n",
       "      <td>47.60</td>\n",
       "      <td>26.6</td>\n",
       "      <td>296.45</td>\n",
       "      <td>98.6</td>\n",
       "      <td>29</td>\n",
       "      <td>100.0</td>\n",
       "      <td>4794.01</td>\n",
       "      <td>51.38</td>\n",
       "    </tr>\n",
       "    <tr>\n",
       "      <th>498</th>\n",
       "      <td>31.99</td>\n",
       "      <td>18.0</td>\n",
       "      <td>457.38</td>\n",
       "      <td>77.9</td>\n",
       "      <td>39</td>\n",
       "      <td>100.0</td>\n",
       "      <td>3102.16</td>\n",
       "      <td>86.28</td>\n",
       "    </tr>\n",
       "    <tr>\n",
       "      <th>499</th>\n",
       "      <td>43.41</td>\n",
       "      <td>23.5</td>\n",
       "      <td>449.40</td>\n",
       "      <td>45.4</td>\n",
       "      <td>88</td>\n",
       "      <td>100.0</td>\n",
       "      <td>4302.93</td>\n",
       "      <td>86.74</td>\n",
       "    </tr>\n",
       "  </tbody>\n",
       "</table>\n",
       "<p>500 rows × 8 columns</p>\n",
       "</div>"
      ],
      "text/plain": [
       "     Distance from Earth (light-years)  Mission Duration (years)  \\\n",
       "0                                 7.05                       5.2   \n",
       "1                                41.76                      23.0   \n",
       "2                                49.22                      28.8   \n",
       "3                                26.33                      17.8   \n",
       "4                                 8.67                       9.2   \n",
       "..                                 ...                       ...   \n",
       "495                              48.26                      25.3   \n",
       "496                               0.35                       4.1   \n",
       "497                              47.60                      26.6   \n",
       "498                              31.99                      18.0   \n",
       "499                              43.41                      23.5   \n",
       "\n",
       "     Mission Cost (billion USD)  Scientific Yield (points)  Crew Size  \\\n",
       "0                        526.68                       64.3         21   \n",
       "1                        234.08                       84.4         72   \n",
       "2                        218.68                       98.6         16   \n",
       "3                        232.89                       36.0         59   \n",
       "4                         72.14                       96.5         31   \n",
       "..                          ...                        ...        ...   \n",
       "495                      274.82                       91.2         64   \n",
       "496                      379.71                       82.6         61   \n",
       "497                      296.45                       98.6         29   \n",
       "498                      457.38                       77.9         39   \n",
       "499                      449.40                       45.4         88   \n",
       "\n",
       "     Mission Success (%)  Fuel Consumption (tons)  Payload Weight (tons)  \n",
       "0                  100.0                   731.88                  99.78  \n",
       "1                   89.6                  4197.41                  45.72  \n",
       "2                   98.6                  4908.00                  36.12  \n",
       "3                   90.0                  2569.05                  40.67  \n",
       "4                   73.2                   892.76                  12.40  \n",
       "..                   ...                      ...                    ...  \n",
       "495                 96.2                  4837.16                  44.97  \n",
       "496                100.0                    62.59                  67.88  \n",
       "497                100.0                  4794.01                  51.38  \n",
       "498                100.0                  3102.16                  86.28  \n",
       "499                100.0                  4302.93                  86.74  \n",
       "\n",
       "[500 rows x 8 columns]"
      ]
     },
     "execution_count": 133,
     "metadata": {},
     "output_type": "execute_result"
    }
   ],
   "source": [
    "# Seleccionar columnas numéricas\n",
    "df_numericas = df.select_dtypes(include=['int64', 'float64'])\n",
    "df_numericas"
   ]
  },
  {
   "cell_type": "code",
   "execution_count": 134,
   "metadata": {},
   "outputs": [
    {
     "data": {
      "text/html": [
       "<div>\n",
       "<style scoped>\n",
       "    .dataframe tbody tr th:only-of-type {\n",
       "        vertical-align: middle;\n",
       "    }\n",
       "\n",
       "    .dataframe tbody tr th {\n",
       "        vertical-align: top;\n",
       "    }\n",
       "\n",
       "    .dataframe thead th {\n",
       "        text-align: right;\n",
       "    }\n",
       "</style>\n",
       "<table border=\"1\" class=\"dataframe\">\n",
       "  <thead>\n",
       "    <tr style=\"text-align: right;\">\n",
       "      <th></th>\n",
       "      <th>Mission ID</th>\n",
       "      <th>Mission Name</th>\n",
       "      <th>Target Type</th>\n",
       "      <th>Target Name</th>\n",
       "      <th>Mission Type</th>\n",
       "      <th>Launch Vehicle</th>\n",
       "    </tr>\n",
       "  </thead>\n",
       "  <tbody>\n",
       "    <tr>\n",
       "      <th>0</th>\n",
       "      <td>MSN-0001</td>\n",
       "      <td>Mission-1</td>\n",
       "      <td>Star</td>\n",
       "      <td>Titan</td>\n",
       "      <td>Colonization</td>\n",
       "      <td>SLS</td>\n",
       "    </tr>\n",
       "    <tr>\n",
       "      <th>1</th>\n",
       "      <td>MSN-0002</td>\n",
       "      <td>Mission-2</td>\n",
       "      <td>Exoplanet</td>\n",
       "      <td>Betelgeuse</td>\n",
       "      <td>Colonization</td>\n",
       "      <td>Starship</td>\n",
       "    </tr>\n",
       "    <tr>\n",
       "      <th>2</th>\n",
       "      <td>MSN-0003</td>\n",
       "      <td>Mission-3</td>\n",
       "      <td>Asteroid</td>\n",
       "      <td>Mars</td>\n",
       "      <td>Exploration</td>\n",
       "      <td>Starship</td>\n",
       "    </tr>\n",
       "    <tr>\n",
       "      <th>3</th>\n",
       "      <td>MSN-0004</td>\n",
       "      <td>Mission-4</td>\n",
       "      <td>Exoplanet</td>\n",
       "      <td>Titan</td>\n",
       "      <td>Colonization</td>\n",
       "      <td>Starship</td>\n",
       "    </tr>\n",
       "    <tr>\n",
       "      <th>4</th>\n",
       "      <td>MSN-0005</td>\n",
       "      <td>Mission-5</td>\n",
       "      <td>Exoplanet</td>\n",
       "      <td>Proxima b</td>\n",
       "      <td>Mining</td>\n",
       "      <td>Starship</td>\n",
       "    </tr>\n",
       "    <tr>\n",
       "      <th>...</th>\n",
       "      <td>...</td>\n",
       "      <td>...</td>\n",
       "      <td>...</td>\n",
       "      <td>...</td>\n",
       "      <td>...</td>\n",
       "      <td>...</td>\n",
       "    </tr>\n",
       "    <tr>\n",
       "      <th>495</th>\n",
       "      <td>MSN-0496</td>\n",
       "      <td>Mission-496</td>\n",
       "      <td>Planet</td>\n",
       "      <td>Betelgeuse</td>\n",
       "      <td>Colonization</td>\n",
       "      <td>Ariane 6</td>\n",
       "    </tr>\n",
       "    <tr>\n",
       "      <th>496</th>\n",
       "      <td>MSN-0497</td>\n",
       "      <td>Mission-497</td>\n",
       "      <td>Asteroid</td>\n",
       "      <td>Betelgeuse</td>\n",
       "      <td>Exploration</td>\n",
       "      <td>SLS</td>\n",
       "    </tr>\n",
       "    <tr>\n",
       "      <th>497</th>\n",
       "      <td>MSN-0498</td>\n",
       "      <td>Mission-498</td>\n",
       "      <td>Planet</td>\n",
       "      <td>Ceres</td>\n",
       "      <td>Exploration</td>\n",
       "      <td>Falcon Heavy</td>\n",
       "    </tr>\n",
       "    <tr>\n",
       "      <th>498</th>\n",
       "      <td>MSN-0499</td>\n",
       "      <td>Mission-499</td>\n",
       "      <td>Planet</td>\n",
       "      <td>Betelgeuse</td>\n",
       "      <td>Research</td>\n",
       "      <td>SLS</td>\n",
       "    </tr>\n",
       "    <tr>\n",
       "      <th>499</th>\n",
       "      <td>MSN-0500</td>\n",
       "      <td>Mission-500</td>\n",
       "      <td>Planet</td>\n",
       "      <td>Io</td>\n",
       "      <td>Exploration</td>\n",
       "      <td>Falcon Heavy</td>\n",
       "    </tr>\n",
       "  </tbody>\n",
       "</table>\n",
       "<p>500 rows × 6 columns</p>\n",
       "</div>"
      ],
      "text/plain": [
       "    Mission ID Mission Name Target Type Target Name  Mission Type  \\\n",
       "0     MSN-0001    Mission-1        Star       Titan  Colonization   \n",
       "1     MSN-0002    Mission-2   Exoplanet  Betelgeuse  Colonization   \n",
       "2     MSN-0003    Mission-3    Asteroid        Mars   Exploration   \n",
       "3     MSN-0004    Mission-4   Exoplanet       Titan  Colonization   \n",
       "4     MSN-0005    Mission-5   Exoplanet   Proxima b        Mining   \n",
       "..         ...          ...         ...         ...           ...   \n",
       "495   MSN-0496  Mission-496      Planet  Betelgeuse  Colonization   \n",
       "496   MSN-0497  Mission-497    Asteroid  Betelgeuse   Exploration   \n",
       "497   MSN-0498  Mission-498      Planet       Ceres   Exploration   \n",
       "498   MSN-0499  Mission-499      Planet  Betelgeuse      Research   \n",
       "499   MSN-0500  Mission-500      Planet          Io   Exploration   \n",
       "\n",
       "    Launch Vehicle  \n",
       "0              SLS  \n",
       "1         Starship  \n",
       "2         Starship  \n",
       "3         Starship  \n",
       "4         Starship  \n",
       "..             ...  \n",
       "495       Ariane 6  \n",
       "496            SLS  \n",
       "497   Falcon Heavy  \n",
       "498            SLS  \n",
       "499   Falcon Heavy  \n",
       "\n",
       "[500 rows x 6 columns]"
      ]
     },
     "execution_count": 134,
     "metadata": {},
     "output_type": "execute_result"
    }
   ],
   "source": [
    "# Seleccionar columnas categóricas (objetos y fechas)\n",
    "df_categoricas = df.select_dtypes(include=['object'])\n",
    "df_categoricas"
   ]
  },
  {
   "cell_type": "markdown",
   "metadata": {},
   "source": [
    "#### Manejo de datos en diversos formatos."
   ]
  },
  {
   "cell_type": "markdown",
   "metadata": {},
   "source": [
    "Archivos CSV (Comma-Separated Values)\n",
    "- El formato csv es uno de los más comunes para almacenar y compartir datos.\n",
    "- Para leer un archivo CSV con Pandas usamos pd.read_csv()\n",
    "\n",
    "Algunos parametros utiles en read_csv()"
   ]
  },
  {
   "cell_type": "code",
   "execution_count": 139,
   "metadata": {},
   "outputs": [
    {
     "data": {
      "text/plain": [
       "'\\ndf_csv = pd.read_csv(\"space_missions.csv\", \\n                     sep=\",\",      # Separador de columnas (por defecto es \",\")\\n                     encoding=\"utf-8\",  # Codificación del archivo\\n                     skiprows=1,   # Omitir la primera fila (si es necesario)\\n                     na_values=[\"N/A\", \"NA\", \"None\"])  # Tratar ciertos valores como nulos\\n'"
      ]
     },
     "execution_count": 139,
     "metadata": {},
     "output_type": "execute_result"
    }
   ],
   "source": [
    "#import pandas as pd\n",
    "\n",
    "# Leer un archivo CSV\n",
    "#df_csv = pd.read_csv(\"space_missions.csv\")\n",
    "\n",
    "\n",
    "'''\n",
    "df_csv = pd.read_csv(\"space_missions.csv\", \n",
    "                     sep=\",\",      # Separador de columnas (por defecto es \",\")\n",
    "                     encoding=\"utf-8\",  # Codificación del archivo\n",
    "                     skiprows=1,   # Omitir la primera fila (si es necesario)\n",
    "                     na_values=[\"N/A\", \"NA\", \"None\"])  # Tratar ciertos valores como nulos\n",
    "'''                     "
   ]
  },
  {
   "cell_type": "markdown",
   "metadata": {},
   "source": [
    "Vamos a instalar librerías necesarias para hacer la conexión a MySQL, para poder hacer un EDA la Base de Datos."
   ]
  },
  {
   "cell_type": "markdown",
   "metadata": {},
   "source": [
    "- pymysql Permite la conexión con MySQL desde Python.\n",
    "- SQLAlchemy Proporciona una interfaz para interactuar con base de datos SQL desde pandas"
   ]
  },
  {
   "cell_type": "code",
   "execution_count": 145,
   "metadata": {},
   "outputs": [
    {
     "name": "stdout",
     "output_type": "stream",
     "text": [
      "Collecting pymysql\n",
      "  Downloading PyMySQL-1.1.1-py3-none-any.whl.metadata (4.4 kB)\n",
      "Collecting sqlalchemy\n",
      "  Downloading SQLAlchemy-2.0.38-cp311-cp311-win_amd64.whl.metadata (9.9 kB)\n",
      "Requirement already satisfied: pandas in c:\\python\\python311\\lib\\site-packages (2.2.1)\n",
      "Collecting greenlet!=0.4.17 (from sqlalchemy)\n",
      "  Downloading greenlet-3.1.1-cp311-cp311-win_amd64.whl.metadata (3.9 kB)\n",
      "Collecting typing-extensions>=4.6.0 (from sqlalchemy)\n",
      "  Downloading typing_extensions-4.12.2-py3-none-any.whl.metadata (3.0 kB)\n",
      "Requirement already satisfied: numpy<2,>=1.23.2 in c:\\python\\python311\\lib\\site-packages (from pandas) (1.26.3)\n",
      "Requirement already satisfied: python-dateutil>=2.8.2 in c:\\users\\lalo\\appdata\\roaming\\python\\python311\\site-packages (from pandas) (2.8.2)\n",
      "Requirement already satisfied: pytz>=2020.1 in c:\\python\\python311\\lib\\site-packages (from pandas) (2024.1)\n",
      "Requirement already satisfied: tzdata>=2022.7 in c:\\python\\python311\\lib\\site-packages (from pandas) (2024.1)\n",
      "Requirement already satisfied: six>=1.5 in c:\\users\\lalo\\appdata\\roaming\\python\\python311\\site-packages (from python-dateutil>=2.8.2->pandas) (1.16.0)\n",
      "Downloading PyMySQL-1.1.1-py3-none-any.whl (44 kB)\n",
      "   ---------------------------------------- 45.0/45.0 kB 739.0 kB/s eta 0:00:00\n",
      "Downloading SQLAlchemy-2.0.38-cp311-cp311-win_amd64.whl (2.1 MB)\n",
      "   ---------------------------------------- 2.1/2.1 MB 6.1 MB/s eta 0:00:00\n",
      "Downloading greenlet-3.1.1-cp311-cp311-win_amd64.whl (298 kB)\n",
      "   ---------------------------------------- 298.9/298.9 kB 6.3 MB/s eta 0:00:00\n",
      "Downloading typing_extensions-4.12.2-py3-none-any.whl (37 kB)\n",
      "Installing collected packages: typing-extensions, pymysql, greenlet, sqlalchemy\n",
      "  Attempting uninstall: typing-extensions\n",
      "    Found existing installation: typing_extensions 4.5.0\n",
      "    Uninstalling typing_extensions-4.5.0:\n",
      "      Successfully uninstalled typing_extensions-4.5.0\n",
      "Successfully installed greenlet-3.1.1 pymysql-1.1.1 sqlalchemy-2.0.38 typing-extensions-4.12.2\n",
      "Note: you may need to restart the kernel to use updated packages.\n"
     ]
    },
    {
     "name": "stderr",
     "output_type": "stream",
     "text": [
      "ERROR: pip's dependency resolver does not currently take into account all the packages that are installed. This behaviour is the source of the following dependency conflicts.\n",
      "tensorflow-intel 2.15.0 requires keras<2.16,>=2.15.0, but you have keras 3.0.4 which is incompatible.\n",
      "\n",
      "[notice] A new release of pip is available: 24.0 -> 25.0.1\n",
      "[notice] To update, run: python.exe -m pip install --upgrade pip\n"
     ]
    }
   ],
   "source": [
    "%pip install pymysql sqlalchemy pandas\n"
   ]
  },
  {
   "cell_type": "markdown",
   "metadata": {},
   "source": [
    "Conectar Pandas con MySQL\n",
    "- Para conectar Pandas con una base de dato MySQL, necesitamos los datos de la conexión."
   ]
  },
  {
   "cell_type": "code",
   "execution_count": null,
   "metadata": {},
   "outputs": [
    {
     "name": "stdout",
     "output_type": "stream",
     "text": [
      "✅ Conexión exitosa a MySQL\n"
     ]
    }
   ],
   "source": [
    "import pandas as pd\n",
    "from sqlalchemy import create_engine\n",
    "\n",
    "# Datos de conexión\n",
    "usuario = \"\"       # Tu usuario de MySQL\n",
    "password = \"\"  # Tu contraseña de MySQL\n",
    "host = \"localhost\"     # Dirección del servidor (si está en la nube, usa la IP o URL)\n",
    "puerto = \"3306\"        # Puerto por defecto de MySQL\n",
    "base_de_datos = \"agendacontactos\"  # Nombre de tu base de datos\n",
    "\n",
    "# Crear la conexión con SQLAlchemy\n",
    "engine = create_engine(f\"mysql+pymysql://{usuario}:{password}@{host}:{puerto}/{base_de_datos}\")\n",
    "\n",
    "# Verificar conexión\n",
    "try:\n",
    "    with engine.connect() as connection:\n",
    "        print(\" Conexión exitosa a MySQL\")\n",
    "except Exception as e:\n",
    "    print(f\" Error al conectar: {e}\")\n"
   ]
  },
  {
   "cell_type": "markdown",
   "metadata": {},
   "source": [
    "Leer datos desde MySQL\n",
    "- Si ya tenemos una tabla en la base de datos, podemos leerla con Pandas usando pd.read_sql()"
   ]
  },
  {
   "cell_type": "code",
   "execution_count": 147,
   "metadata": {},
   "outputs": [
    {
     "name": "stdout",
     "output_type": "stream",
     "text": [
      "   id     celular              email fecha_nacimiento      fecha_registro  \\\n",
      "0   1    65123863  karen@hotmail.com       1991-05-30 2024-03-04 12:04:11   \n",
      "1   2    78965422      msf@gmail.com       1968-01-19 2024-03-04 12:06:01   \n",
      "2   3     9632488      edi@gmail.com       1988-03-13 2024-03-04 12:07:16   \n",
      "3   4    97531896      pao@gmail.com       1998-07-22 2024-03-04 12:09:30   \n",
      "4   6  5151515151     lalo@gmail.com       1990-02-02 2024-03-04 12:45:22   \n",
      "\n",
      "       nombre  \n",
      "0  karen Aide  \n",
      "1       mario  \n",
      "2       edgar  \n",
      "3       paola  \n",
      "4        lalo  \n"
     ]
    }
   ],
   "source": [
    "# Leer la tabla desde MySQL\n",
    "df_sql = pd.read_sql(\"SELECT * FROM contacto\", con=engine)\n",
    "\n",
    "# Mostrar las primeras filas\n",
    "print(df_sql.head())\n"
   ]
  },
  {
   "cell_type": "markdown",
   "metadata": {},
   "source": [
    "Guardar un DataFrame en MySQL\n",
    "- Si queremos guardar un DataFrame en una tabla de MySQL usamos to_sql()"
   ]
  },
  {
   "cell_type": "code",
   "execution_count": null,
   "metadata": {},
   "outputs": [
    {
     "name": "stdout",
     "output_type": "stream",
     "text": [
      "✅ Datos guardados en la tabla 'pruebaPandas'\n"
     ]
    },
    {
     "name": "stderr",
     "output_type": "stream",
     "text": [
      "C:\\Users\\Lalo\\AppData\\Local\\Temp\\ipykernel_20152\\970577762.py:1: UserWarning: The provided table name 'pruebaPandas' is not found exactly as such in the database after writing the table, possibly due to case sensitivity issues. Consider using lower case table names.\n",
      "  df_sql.to_sql(name=\"pruebaPandas\", con=engine, if_exists=\"replace\", index=False)\n"
     ]
    }
   ],
   "source": [
    "df_sql.to_sql(name=\"pruebaPandas\", con=engine, if_exists=\"replace\", index=False)\n",
    "\n",
    "print(\" Datos guardados en la tabla 'pruebaPandas'\")"
   ]
  },
  {
   "cell_type": "markdown",
   "metadata": {},
   "source": [
    "Verificamos que se guardo el data en la base de datos de MySQL."
   ]
  },
  {
   "cell_type": "code",
   "execution_count": 152,
   "metadata": {},
   "outputs": [
    {
     "data": {
      "text/html": [
       "<div>\n",
       "<style scoped>\n",
       "    .dataframe tbody tr th:only-of-type {\n",
       "        vertical-align: middle;\n",
       "    }\n",
       "\n",
       "    .dataframe tbody tr th {\n",
       "        vertical-align: top;\n",
       "    }\n",
       "\n",
       "    .dataframe thead th {\n",
       "        text-align: right;\n",
       "    }\n",
       "</style>\n",
       "<table border=\"1\" class=\"dataframe\">\n",
       "  <thead>\n",
       "    <tr style=\"text-align: right;\">\n",
       "      <th></th>\n",
       "      <th>Tables_in_agendacontactos</th>\n",
       "    </tr>\n",
       "  </thead>\n",
       "  <tbody>\n",
       "    <tr>\n",
       "      <th>0</th>\n",
       "      <td>contacto</td>\n",
       "    </tr>\n",
       "    <tr>\n",
       "      <th>1</th>\n",
       "      <td>pruebapandas</td>\n",
       "    </tr>\n",
       "  </tbody>\n",
       "</table>\n",
       "</div>"
      ],
      "text/plain": [
       "  Tables_in_agendacontactos\n",
       "0                  contacto\n",
       "1              pruebapandas"
      ]
     },
     "execution_count": 152,
     "metadata": {},
     "output_type": "execute_result"
    }
   ],
   "source": [
    "df_sql = pd.read_sql(\"SHOW TABLES\", con=engine)\n",
    "df_sql"
   ]
  },
  {
   "cell_type": "markdown",
   "metadata": {},
   "source": [
    "#### Fusión y combinación de DataFrames\n",
    "- Cuando trabajamos con datos, es común que la información este dividida en multiples fuentes.\n",
    "- Pandas nos proporciona herramientas para fusionar, conectar y combinar DataFrames de manera eficiente. "
   ]
  },
  {
   "cell_type": "markdown",
   "metadata": {},
   "source": [
    "Concatenación por filas (axis=0)"
   ]
  },
  {
   "cell_type": "code",
   "execution_count": 153,
   "metadata": {},
   "outputs": [
    {
     "name": "stdout",
     "output_type": "stream",
     "text": [
      "  Mission_Name Agency  Year\n",
      "0    Apollo 11   NASA  1969\n",
      "1    Apollo 12   NASA  1969\n",
      "2    Voyager 1   NASA  1977\n",
      "3    Voyager 2   NASA  1977\n"
     ]
    }
   ],
   "source": [
    "import pandas as pd\n",
    "\n",
    "# Crear dos DataFrames de misiones espaciales\n",
    "df1 = pd.DataFrame({\n",
    "    \"Mission_Name\": [\"Apollo 11\", \"Apollo 12\"],\n",
    "    \"Agency\": [\"NASA\", \"NASA\"],\n",
    "    \"Year\": [1969, 1969]\n",
    "})\n",
    "\n",
    "df2 = pd.DataFrame({\n",
    "    \"Mission_Name\": [\"Voyager 1\", \"Voyager 2\"],\n",
    "    \"Agency\": [\"NASA\", \"NASA\"],\n",
    "    \"Year\": [1977, 1977]\n",
    "})\n",
    "\n",
    "# Concatenar los DataFrames (apilando filas)\n",
    "df_concat = pd.concat([df1, df2], ignore_index=True)\n",
    "print(df_concat)\n"
   ]
  },
  {
   "cell_type": "markdown",
   "metadata": {},
   "source": [
    "Concatenación por columnas (axis=0)\n",
    "- Si tenemos DataFrames con el mismo número de filas, podemos unirlos por columnas."
   ]
  },
  {
   "cell_type": "code",
   "execution_count": 154,
   "metadata": {},
   "outputs": [
    {
     "name": "stdout",
     "output_type": "stream",
     "text": [
      "  Mission_Name Agency  Year Rocket_Type\n",
      "0    Apollo 11   NASA  1969    Saturn V\n",
      "1    Apollo 12   NASA  1969    Saturn V\n",
      "2    Voyager 1   NASA  1977  Titan IIIE\n",
      "3    Voyager 2   NASA  1977  Titan IIIE\n"
     ]
    }
   ],
   "source": [
    "df3 = pd.DataFrame({\n",
    "    \"Rocket_Type\": [\"Saturn V\", \"Saturn V\", \"Titan IIIE\", \"Titan IIIE\"]\n",
    "})\n",
    "\n",
    "# Concatenar columnas\n",
    "df_concat_col = pd.concat([df_concat, df3], axis=1)\n",
    "print(df_concat_col)\n"
   ]
  },
  {
   "cell_type": "markdown",
   "metadata": {},
   "source": [
    "Fusión de DataFrames (pd.merge())\n",
    "- LA función pd.merge() ns permite combinar DataFrames basándonos en una columna clave (similar a un JOIN)"
   ]
  },
  {
   "cell_type": "code",
   "execution_count": 155,
   "metadata": {},
   "outputs": [
    {
     "name": "stdout",
     "output_type": "stream",
     "text": [
      "   Mission_ID Mission_Name Agency  Cost_Million\n",
      "0           1    Apollo 11   NASA           355\n",
      "1           2    Voyager 1   NASA           865\n",
      "2           3    Curiosity   NASA          2500\n"
     ]
    }
   ],
   "source": [
    "df_misiones = pd.DataFrame({\n",
    "    \"Mission_ID\": [1, 2, 3],\n",
    "    \"Mission_Name\": [\"Apollo 11\", \"Voyager 1\", \"Curiosity\"],\n",
    "    \"Agency\": [\"NASA\", \"NASA\", \"NASA\"]\n",
    "})\n",
    "\n",
    "df_costos = pd.DataFrame({\n",
    "    \"Mission_ID\": [1, 2, 3],\n",
    "    \"Cost_Million\": [355, 865, 2500]\n",
    "})\n",
    "\n",
    "# Fusionar usando la columna \"Mission_ID\" como clave\n",
    "df_merge = pd.merge(df_misiones, df_costos, on=\"Mission_ID\")\n",
    "print(df_merge)\n"
   ]
  },
  {
   "cell_type": "markdown",
   "metadata": {},
   "source": [
    "Unión de DataFrames con (df.join())\n",
    "- El método df.join() es útil para combinar DataFrames basándose en el índice."
   ]
  },
  {
   "cell_type": "code",
   "execution_count": 156,
   "metadata": {},
   "outputs": [
    {
     "name": "stdout",
     "output_type": "stream",
     "text": [
      "              Launch_Year Agency\n",
      "Mission_Name                    \n",
      "Apollo 11            1969   NASA\n",
      "Voyager 1            1977   NASA\n",
      "Curiosity            2011   NASA\n"
     ]
    }
   ],
   "source": [
    "df_info = pd.DataFrame({\n",
    "    \"Mission_Name\": [\"Apollo 11\", \"Voyager 1\", \"Curiosity\"],\n",
    "    \"Launch_Year\": [1969, 1977, 2011]\n",
    "}).set_index(\"Mission_Name\")\n",
    "\n",
    "df_agencias = pd.DataFrame({\n",
    "    \"Mission_Name\": [\"Apollo 11\", \"Voyager 1\", \"Curiosity\"],\n",
    "    \"Agency\": [\"NASA\", \"NASA\", \"NASA\"]\n",
    "}).set_index(\"Mission_Name\")\n",
    "\n",
    "# Unir por índice\n",
    "df_join = df_info.join(df_agencias)\n",
    "print(df_join)\n"
   ]
  },
  {
   "cell_type": "markdown",
   "metadata": {},
   "source": [
    "Tipos de funciones en merge()\n",
    "- Dependiendo de cómo queramos combinar los datos, usamos diferentes métodos.\n",
    "1. Inner Join (how=\"inner\") Solo mantiene los valores que existen en ambas tablas.\n",
    "2. Left Join (how=\"left\") Mantiene todos los valores de la izquierda y completa con NaN los faltantes.\n",
    "3. Right Join (how=\"right\") Mantiene todos los valores de la derecha.\n",
    "4. Full Outer Join (how=\"outer\") Mantiene todos los valores de ambas tablas y completa con NaN los faltantes."
   ]
  },
  {
   "cell_type": "markdown",
   "metadata": {},
   "source": [
    "#### Integración con otras Librerías en Pandas\n",
    "\n",
    "\n",
    "- Integración con NumPy: Pandas esta construido sobre NumPy, lo que permite usar funciones y operaciones de arrays.\n",
    "- Integración con Matplotlib y Seaborn: Pandas facilita la integración de datos mediante Matplotlib y Seaborn.\n",
    "- Integración con SciPy: Permite aplicar funciones estadísticas avanzadas a DataFrames.\n",
    "- Integración con Scikit-learn: Permite aplicar algoritmos de aprendizaje para entrenar modelos. \n"
   ]
  },
  {
   "cell_type": "markdown",
   "metadata": {},
   "source": [
    "Por: Eduardo Soto.\n",
    "\n",
    "Ing de Software UACM"
   ]
  }
 ],
 "metadata": {
  "kernelspec": {
   "display_name": "Python 3 (ipykernel)",
   "language": "python",
   "name": "python3"
  },
  "language_info": {
   "codemirror_mode": {
    "name": "ipython",
    "version": 3
   },
   "file_extension": ".py",
   "mimetype": "text/x-python",
   "name": "python",
   "nbconvert_exporter": "python",
   "pygments_lexer": "ipython3",
   "version": "3.11.3"
  }
 },
 "nbformat": 4,
 "nbformat_minor": 2
}
